{
 "cells": [
  {
   "cell_type": "code",
   "execution_count": 1,
   "metadata": {},
   "outputs": [],
   "source": [
    "import pandas as pd\n",
    "import plotly.express as px"
   ]
  },
  {
   "cell_type": "code",
   "execution_count": 2,
   "metadata": {},
   "outputs": [],
   "source": [
    "us2020_url = \"https://raw.githubusercontent.com/nytimes/covid-19-data/master/us-counties-2020.csv\"\n",
    "us2020_cases = pd.read_csv(us2020_url, usecols=['date', 'county', 'state', 'cases', 'deaths'])\n",
    "us2021_url = \"https://raw.githubusercontent.com/nytimes/covid-19-data/master/us-counties-2021.csv\"\n",
    "us2021_cases = pd.read_csv(us2021_url, usecols=['date', 'county', 'state', 'cases', 'deaths'])"
   ]
  },
  {
   "cell_type": "code",
   "execution_count": 3,
   "metadata": {},
   "outputs": [],
   "source": [
    "us2022_url = \"https://raw.githubusercontent.com/nytimes/covid-19-data/master/us-counties-2022.csv\"\n",
    "us2022_cases = pd.read_csv(us2022_url, usecols=['date', 'county', 'state', 'cases', 'deaths'])"
   ]
  },
  {
   "cell_type": "code",
   "execution_count": 4,
   "metadata": {},
   "outputs": [],
   "source": [
    "\n",
    "recent_url = \"https://raw.githubusercontent.com/nytimes/covid-19-data/master/us-counties-recent.csv\"\n",
    "recent_cases = pd.read_csv(recent_url, usecols=['date', 'county', 'state', 'cases', 'deaths'])"
   ]
  },
  {
   "cell_type": "code",
   "execution_count": 5,
   "metadata": {},
   "outputs": [
    {
     "data": {
      "text/html": [
       "<div>\n",
       "<style scoped>\n",
       "    .dataframe tbody tr th:only-of-type {\n",
       "        vertical-align: middle;\n",
       "    }\n",
       "\n",
       "    .dataframe tbody tr th {\n",
       "        vertical-align: top;\n",
       "    }\n",
       "\n",
       "    .dataframe thead th {\n",
       "        text-align: right;\n",
       "    }\n",
       "</style>\n",
       "<table border=\"1\" class=\"dataframe\">\n",
       "  <thead>\n",
       "    <tr style=\"text-align: right;\">\n",
       "      <th></th>\n",
       "      <th>date</th>\n",
       "      <th>county</th>\n",
       "      <th>state</th>\n",
       "      <th>cases</th>\n",
       "      <th>deaths</th>\n",
       "    </tr>\n",
       "  </thead>\n",
       "  <tbody>\n",
       "    <tr>\n",
       "      <th>884732</th>\n",
       "      <td>2020-12-31</td>\n",
       "      <td>Sweetwater</td>\n",
       "      <td>Wyoming</td>\n",
       "      <td>2966</td>\n",
       "      <td>16.0</td>\n",
       "    </tr>\n",
       "    <tr>\n",
       "      <th>884733</th>\n",
       "      <td>2020-12-31</td>\n",
       "      <td>Teton</td>\n",
       "      <td>Wyoming</td>\n",
       "      <td>2138</td>\n",
       "      <td>4.0</td>\n",
       "    </tr>\n",
       "    <tr>\n",
       "      <th>884734</th>\n",
       "      <td>2020-12-31</td>\n",
       "      <td>Uinta</td>\n",
       "      <td>Wyoming</td>\n",
       "      <td>1558</td>\n",
       "      <td>7.0</td>\n",
       "    </tr>\n",
       "    <tr>\n",
       "      <th>884735</th>\n",
       "      <td>2020-12-31</td>\n",
       "      <td>Washakie</td>\n",
       "      <td>Wyoming</td>\n",
       "      <td>780</td>\n",
       "      <td>19.0</td>\n",
       "    </tr>\n",
       "    <tr>\n",
       "      <th>884736</th>\n",
       "      <td>2020-12-31</td>\n",
       "      <td>Weston</td>\n",
       "      <td>Wyoming</td>\n",
       "      <td>476</td>\n",
       "      <td>2.0</td>\n",
       "    </tr>\n",
       "  </tbody>\n",
       "</table>\n",
       "</div>"
      ],
      "text/plain": [
       "              date      county    state  cases  deaths\n",
       "884732  2020-12-31  Sweetwater  Wyoming   2966    16.0\n",
       "884733  2020-12-31       Teton  Wyoming   2138     4.0\n",
       "884734  2020-12-31       Uinta  Wyoming   1558     7.0\n",
       "884735  2020-12-31    Washakie  Wyoming    780    19.0\n",
       "884736  2020-12-31      Weston  Wyoming    476     2.0"
      ]
     },
     "execution_count": 5,
     "metadata": {},
     "output_type": "execute_result"
    }
   ],
   "source": [
    "us2020_cases.tail()"
   ]
  },
  {
   "cell_type": "code",
   "execution_count": 6,
   "metadata": {},
   "outputs": [
    {
     "data": {
      "text/plain": [
       "date      0\n",
       "county    0\n",
       "state     0\n",
       "cases     0\n",
       "deaths    0\n",
       "dtype: int64"
      ]
     },
     "execution_count": 6,
     "metadata": {},
     "output_type": "execute_result"
    }
   ],
   "source": [
    "us2020_cases[\"deaths\"] = us2020_cases[\"deaths\"].fillna(0)\n",
    "us2020_cases.isna().sum()"
   ]
  },
  {
   "cell_type": "code",
   "execution_count": 7,
   "metadata": {},
   "outputs": [
    {
     "data": {
      "text/html": [
       "<div>\n",
       "<style scoped>\n",
       "    .dataframe tbody tr th:only-of-type {\n",
       "        vertical-align: middle;\n",
       "    }\n",
       "\n",
       "    .dataframe tbody tr th {\n",
       "        vertical-align: top;\n",
       "    }\n",
       "\n",
       "    .dataframe thead th {\n",
       "        text-align: right;\n",
       "    }\n",
       "</style>\n",
       "<table border=\"1\" class=\"dataframe\">\n",
       "  <thead>\n",
       "    <tr style=\"text-align: right;\">\n",
       "      <th></th>\n",
       "      <th>date</th>\n",
       "      <th>county</th>\n",
       "      <th>state</th>\n",
       "      <th>cases</th>\n",
       "      <th>deaths</th>\n",
       "    </tr>\n",
       "  </thead>\n",
       "  <tbody>\n",
       "    <tr>\n",
       "      <th>1185368</th>\n",
       "      <td>2021-12-31</td>\n",
       "      <td>Sweetwater</td>\n",
       "      <td>Wyoming</td>\n",
       "      <td>8320</td>\n",
       "      <td>107.0</td>\n",
       "    </tr>\n",
       "    <tr>\n",
       "      <th>1185369</th>\n",
       "      <td>2021-12-31</td>\n",
       "      <td>Teton</td>\n",
       "      <td>Wyoming</td>\n",
       "      <td>5950</td>\n",
       "      <td>14.0</td>\n",
       "    </tr>\n",
       "    <tr>\n",
       "      <th>1185370</th>\n",
       "      <td>2021-12-31</td>\n",
       "      <td>Uinta</td>\n",
       "      <td>Wyoming</td>\n",
       "      <td>4154</td>\n",
       "      <td>31.0</td>\n",
       "    </tr>\n",
       "    <tr>\n",
       "      <th>1185371</th>\n",
       "      <td>2021-12-31</td>\n",
       "      <td>Washakie</td>\n",
       "      <td>Wyoming</td>\n",
       "      <td>1879</td>\n",
       "      <td>37.0</td>\n",
       "    </tr>\n",
       "    <tr>\n",
       "      <th>1185372</th>\n",
       "      <td>2021-12-31</td>\n",
       "      <td>Weston</td>\n",
       "      <td>Wyoming</td>\n",
       "      <td>1254</td>\n",
       "      <td>14.0</td>\n",
       "    </tr>\n",
       "  </tbody>\n",
       "</table>\n",
       "</div>"
      ],
      "text/plain": [
       "               date      county    state  cases  deaths\n",
       "1185368  2021-12-31  Sweetwater  Wyoming   8320   107.0\n",
       "1185369  2021-12-31       Teton  Wyoming   5950    14.0\n",
       "1185370  2021-12-31       Uinta  Wyoming   4154    31.0\n",
       "1185371  2021-12-31    Washakie  Wyoming   1879    37.0\n",
       "1185372  2021-12-31      Weston  Wyoming   1254    14.0"
      ]
     },
     "execution_count": 7,
     "metadata": {},
     "output_type": "execute_result"
    }
   ],
   "source": [
    "us2021_cases.tail()"
   ]
  },
  {
   "cell_type": "code",
   "execution_count": 8,
   "metadata": {},
   "outputs": [
    {
     "data": {
      "text/plain": [
       "date      0\n",
       "county    0\n",
       "state     0\n",
       "cases     0\n",
       "deaths    0\n",
       "dtype: int64"
      ]
     },
     "execution_count": 8,
     "metadata": {},
     "output_type": "execute_result"
    }
   ],
   "source": [
    "us2021_cases[\"deaths\"] = us2021_cases[\"deaths\"].fillna(0)\n",
    "us2021_cases.isna().sum()"
   ]
  },
  {
   "cell_type": "code",
   "execution_count": 9,
   "metadata": {},
   "outputs": [
    {
     "data": {
      "text/html": [
       "<div>\n",
       "<style scoped>\n",
       "    .dataframe tbody tr th:only-of-type {\n",
       "        vertical-align: middle;\n",
       "    }\n",
       "\n",
       "    .dataframe tbody tr th {\n",
       "        vertical-align: top;\n",
       "    }\n",
       "\n",
       "    .dataframe thead th {\n",
       "        text-align: right;\n",
       "    }\n",
       "</style>\n",
       "<table border=\"1\" class=\"dataframe\">\n",
       "  <thead>\n",
       "    <tr style=\"text-align: right;\">\n",
       "      <th></th>\n",
       "      <th>date</th>\n",
       "      <th>county</th>\n",
       "      <th>state</th>\n",
       "      <th>cases</th>\n",
       "      <th>deaths</th>\n",
       "    </tr>\n",
       "  </thead>\n",
       "  <tbody>\n",
       "    <tr>\n",
       "      <th>1188039</th>\n",
       "      <td>2022-12-31</td>\n",
       "      <td>Sweetwater</td>\n",
       "      <td>Wyoming</td>\n",
       "      <td>12410</td>\n",
       "      <td>136.0</td>\n",
       "    </tr>\n",
       "    <tr>\n",
       "      <th>1188040</th>\n",
       "      <td>2022-12-31</td>\n",
       "      <td>Teton</td>\n",
       "      <td>Wyoming</td>\n",
       "      <td>12010</td>\n",
       "      <td>16.0</td>\n",
       "    </tr>\n",
       "    <tr>\n",
       "      <th>1188041</th>\n",
       "      <td>2022-12-31</td>\n",
       "      <td>Uinta</td>\n",
       "      <td>Wyoming</td>\n",
       "      <td>6305</td>\n",
       "      <td>43.0</td>\n",
       "    </tr>\n",
       "    <tr>\n",
       "      <th>1188042</th>\n",
       "      <td>2022-12-31</td>\n",
       "      <td>Washakie</td>\n",
       "      <td>Wyoming</td>\n",
       "      <td>2721</td>\n",
       "      <td>47.0</td>\n",
       "    </tr>\n",
       "    <tr>\n",
       "      <th>1188043</th>\n",
       "      <td>2022-12-31</td>\n",
       "      <td>Weston</td>\n",
       "      <td>Wyoming</td>\n",
       "      <td>1880</td>\n",
       "      <td>22.0</td>\n",
       "    </tr>\n",
       "  </tbody>\n",
       "</table>\n",
       "</div>"
      ],
      "text/plain": [
       "               date      county    state  cases  deaths\n",
       "1188039  2022-12-31  Sweetwater  Wyoming  12410   136.0\n",
       "1188040  2022-12-31       Teton  Wyoming  12010    16.0\n",
       "1188041  2022-12-31       Uinta  Wyoming   6305    43.0\n",
       "1188042  2022-12-31    Washakie  Wyoming   2721    47.0\n",
       "1188043  2022-12-31      Weston  Wyoming   1880    22.0"
      ]
     },
     "execution_count": 9,
     "metadata": {},
     "output_type": "execute_result"
    }
   ],
   "source": [
    "us2022_cases.tail()"
   ]
  },
  {
   "cell_type": "code",
   "execution_count": 10,
   "metadata": {},
   "outputs": [
    {
     "data": {
      "text/plain": [
       "date      0\n",
       "county    0\n",
       "state     0\n",
       "cases     0\n",
       "deaths    0\n",
       "dtype: int64"
      ]
     },
     "execution_count": 10,
     "metadata": {},
     "output_type": "execute_result"
    }
   ],
   "source": [
    "us2022_cases[\"deaths\"] = us2022_cases[\"deaths\"].fillna(0)\n",
    "us2022_cases.isna().sum()"
   ]
  },
  {
   "cell_type": "code",
   "execution_count": 11,
   "metadata": {},
   "outputs": [
    {
     "data": {
      "text/html": [
       "<div>\n",
       "<style scoped>\n",
       "    .dataframe tbody tr th:only-of-type {\n",
       "        vertical-align: middle;\n",
       "    }\n",
       "\n",
       "    .dataframe tbody tr th {\n",
       "        vertical-align: top;\n",
       "    }\n",
       "\n",
       "    .dataframe thead th {\n",
       "        text-align: right;\n",
       "    }\n",
       "</style>\n",
       "<table border=\"1\" class=\"dataframe\">\n",
       "  <thead>\n",
       "    <tr style=\"text-align: right;\">\n",
       "      <th></th>\n",
       "      <th>date</th>\n",
       "      <th>county</th>\n",
       "      <th>state</th>\n",
       "      <th>cases</th>\n",
       "      <th>deaths</th>\n",
       "    </tr>\n",
       "  </thead>\n",
       "  <tbody>\n",
       "    <tr>\n",
       "      <th>97593</th>\n",
       "      <td>2023-01-01</td>\n",
       "      <td>Sweetwater</td>\n",
       "      <td>Wyoming</td>\n",
       "      <td>12410</td>\n",
       "      <td>136.0</td>\n",
       "    </tr>\n",
       "    <tr>\n",
       "      <th>97594</th>\n",
       "      <td>2023-01-01</td>\n",
       "      <td>Teton</td>\n",
       "      <td>Wyoming</td>\n",
       "      <td>12010</td>\n",
       "      <td>16.0</td>\n",
       "    </tr>\n",
       "    <tr>\n",
       "      <th>97595</th>\n",
       "      <td>2023-01-01</td>\n",
       "      <td>Uinta</td>\n",
       "      <td>Wyoming</td>\n",
       "      <td>6305</td>\n",
       "      <td>43.0</td>\n",
       "    </tr>\n",
       "    <tr>\n",
       "      <th>97596</th>\n",
       "      <td>2023-01-01</td>\n",
       "      <td>Washakie</td>\n",
       "      <td>Wyoming</td>\n",
       "      <td>2721</td>\n",
       "      <td>47.0</td>\n",
       "    </tr>\n",
       "    <tr>\n",
       "      <th>97597</th>\n",
       "      <td>2023-01-01</td>\n",
       "      <td>Weston</td>\n",
       "      <td>Wyoming</td>\n",
       "      <td>1880</td>\n",
       "      <td>22.0</td>\n",
       "    </tr>\n",
       "  </tbody>\n",
       "</table>\n",
       "</div>"
      ],
      "text/plain": [
       "             date      county    state  cases  deaths\n",
       "97593  2023-01-01  Sweetwater  Wyoming  12410   136.0\n",
       "97594  2023-01-01       Teton  Wyoming  12010    16.0\n",
       "97595  2023-01-01       Uinta  Wyoming   6305    43.0\n",
       "97596  2023-01-01    Washakie  Wyoming   2721    47.0\n",
       "97597  2023-01-01      Weston  Wyoming   1880    22.0"
      ]
     },
     "execution_count": 11,
     "metadata": {},
     "output_type": "execute_result"
    }
   ],
   "source": [
    "recent_cases.tail()"
   ]
  },
  {
   "cell_type": "code",
   "execution_count": 12,
   "metadata": {},
   "outputs": [
    {
     "data": {
      "text/plain": [
       "date      0\n",
       "county    0\n",
       "state     0\n",
       "cases     0\n",
       "deaths    0\n",
       "dtype: int64"
      ]
     },
     "execution_count": 12,
     "metadata": {},
     "output_type": "execute_result"
    }
   ],
   "source": [
    "recent_cases[\"deaths\"] = recent_cases[\"deaths\"].fillna(0)\n",
    "recent_cases.isna().sum()"
   ]
  },
  {
   "cell_type": "code",
   "execution_count": 13,
   "metadata": {},
   "outputs": [
    {
     "data": {
      "text/html": [
       "<div>\n",
       "<style scoped>\n",
       "    .dataframe tbody tr th:only-of-type {\n",
       "        vertical-align: middle;\n",
       "    }\n",
       "\n",
       "    .dataframe tbody tr th {\n",
       "        vertical-align: top;\n",
       "    }\n",
       "\n",
       "    .dataframe thead th {\n",
       "        text-align: right;\n",
       "    }\n",
       "</style>\n",
       "<table border=\"1\" class=\"dataframe\">\n",
       "  <thead>\n",
       "    <tr style=\"text-align: right;\">\n",
       "      <th></th>\n",
       "      <th>NAME</th>\n",
       "      <th>2020</th>\n",
       "      <th>2021</th>\n",
       "      <th>2022</th>\n",
       "    </tr>\n",
       "  </thead>\n",
       "  <tbody>\n",
       "    <tr>\n",
       "      <th>14</th>\n",
       "      <td>Alabama</td>\n",
       "      <td>5031362</td>\n",
       "      <td>5049846</td>\n",
       "      <td>5074296</td>\n",
       "    </tr>\n",
       "    <tr>\n",
       "      <th>15</th>\n",
       "      <td>Alaska</td>\n",
       "      <td>732923</td>\n",
       "      <td>734182</td>\n",
       "      <td>733583</td>\n",
       "    </tr>\n",
       "    <tr>\n",
       "      <th>16</th>\n",
       "      <td>Arizona</td>\n",
       "      <td>7179943</td>\n",
       "      <td>7264877</td>\n",
       "      <td>7359197</td>\n",
       "    </tr>\n",
       "    <tr>\n",
       "      <th>17</th>\n",
       "      <td>Arkansas</td>\n",
       "      <td>3014195</td>\n",
       "      <td>3028122</td>\n",
       "      <td>3045637</td>\n",
       "    </tr>\n",
       "    <tr>\n",
       "      <th>18</th>\n",
       "      <td>California</td>\n",
       "      <td>39501653</td>\n",
       "      <td>39142991</td>\n",
       "      <td>39029342</td>\n",
       "    </tr>\n",
       "  </tbody>\n",
       "</table>\n",
       "</div>"
      ],
      "text/plain": [
       "          NAME      2020      2021      2022\n",
       "14     Alabama   5031362   5049846   5074296\n",
       "15      Alaska    732923    734182    733583\n",
       "16     Arizona   7179943   7264877   7359197\n",
       "17    Arkansas   3014195   3028122   3045637\n",
       "18  California  39501653  39142991  39029342"
      ]
     },
     "execution_count": 13,
     "metadata": {},
     "output_type": "execute_result"
    }
   ],
   "source": [
    "#Population\n",
    "population = pd.read_csv(\"data/popest2020-2022.csv\", usecols=['STATE', 'NAME', 'POPESTIMATE2020', 'POPESTIMATE2021', 'POPESTIMATE2022'])\n",
    "\n",
    "population = population.loc[population['STATE']!=0] #FILTER TO GET STATE ONLY\n",
    "population = population.drop(columns=['STATE']) #DROP STATE NUMBER\n",
    "population = population.rename(columns={\"POPESTIMATE2020\": \"2020\", \"POPESTIMATE2021\": \"2021\", \"POPESTIMATE2022\": \"2022\"})\n",
    "\n",
    "population.head()"
   ]
  },
  {
   "cell_type": "code",
   "execution_count": 64,
   "metadata": {},
   "outputs": [
    {
     "data": {
      "text/html": [
       "<div>\n",
       "<style scoped>\n",
       "    .dataframe tbody tr th:only-of-type {\n",
       "        vertical-align: middle;\n",
       "    }\n",
       "\n",
       "    .dataframe tbody tr th {\n",
       "        vertical-align: top;\n",
       "    }\n",
       "\n",
       "    .dataframe thead th {\n",
       "        text-align: right;\n",
       "    }\n",
       "</style>\n",
       "<table border=\"1\" class=\"dataframe\">\n",
       "  <thead>\n",
       "    <tr style=\"text-align: right;\">\n",
       "      <th></th>\n",
       "      <th>state</th>\n",
       "      <th>abbrev</th>\n",
       "      <th>code</th>\n",
       "    </tr>\n",
       "  </thead>\n",
       "  <tbody>\n",
       "    <tr>\n",
       "      <th>46</th>\n",
       "      <td>Virginia</td>\n",
       "      <td>Va.</td>\n",
       "      <td>VA</td>\n",
       "    </tr>\n",
       "    <tr>\n",
       "      <th>47</th>\n",
       "      <td>Washington</td>\n",
       "      <td>Wash.</td>\n",
       "      <td>WA</td>\n",
       "    </tr>\n",
       "    <tr>\n",
       "      <th>48</th>\n",
       "      <td>West Virginia</td>\n",
       "      <td>W.Va.</td>\n",
       "      <td>WV</td>\n",
       "    </tr>\n",
       "    <tr>\n",
       "      <th>49</th>\n",
       "      <td>Wisconsin</td>\n",
       "      <td>Wis.</td>\n",
       "      <td>WI</td>\n",
       "    </tr>\n",
       "    <tr>\n",
       "      <th>50</th>\n",
       "      <td>Wyoming</td>\n",
       "      <td>Wyo.</td>\n",
       "      <td>WY</td>\n",
       "    </tr>\n",
       "  </tbody>\n",
       "</table>\n",
       "</div>"
      ],
      "text/plain": [
       "            state abbrev code\n",
       "46       Virginia    Va.   VA\n",
       "47     Washington  Wash.   WA\n",
       "48  West Virginia  W.Va.   WV\n",
       "49      Wisconsin   Wis.   WI\n",
       "50        Wyoming   Wyo.   WY"
      ]
     },
     "execution_count": 64,
     "metadata": {},
     "output_type": "execute_result"
    }
   ],
   "source": [
    "#read state_code\n",
    "state_code = pd.read_csv('data/state_code.csv')\n",
    "state_code.tail()"
   ]
  },
  {
   "cell_type": "code",
   "execution_count": 69,
   "metadata": {},
   "outputs": [
    {
     "data": {
      "text/html": [
       "<div>\n",
       "<style scoped>\n",
       "    .dataframe tbody tr th:only-of-type {\n",
       "        vertical-align: middle;\n",
       "    }\n",
       "\n",
       "    .dataframe tbody tr th {\n",
       "        vertical-align: top;\n",
       "    }\n",
       "\n",
       "    .dataframe thead th {\n",
       "        text-align: right;\n",
       "    }\n",
       "</style>\n",
       "<table border=\"1\" class=\"dataframe\">\n",
       "  <thead>\n",
       "    <tr style=\"text-align: right;\">\n",
       "      <th></th>\n",
       "      <th>NAME</th>\n",
       "      <th>2020</th>\n",
       "      <th>2021</th>\n",
       "      <th>2022</th>\n",
       "      <th>code</th>\n",
       "    </tr>\n",
       "  </thead>\n",
       "  <tbody>\n",
       "    <tr>\n",
       "      <th>0</th>\n",
       "      <td>Alabama</td>\n",
       "      <td>5031362</td>\n",
       "      <td>5049846</td>\n",
       "      <td>5074296</td>\n",
       "      <td>AL</td>\n",
       "    </tr>\n",
       "    <tr>\n",
       "      <th>1</th>\n",
       "      <td>Alaska</td>\n",
       "      <td>732923</td>\n",
       "      <td>734182</td>\n",
       "      <td>733583</td>\n",
       "      <td>AK</td>\n",
       "    </tr>\n",
       "    <tr>\n",
       "      <th>2</th>\n",
       "      <td>Arizona</td>\n",
       "      <td>7179943</td>\n",
       "      <td>7264877</td>\n",
       "      <td>7359197</td>\n",
       "      <td>AZ</td>\n",
       "    </tr>\n",
       "    <tr>\n",
       "      <th>3</th>\n",
       "      <td>Arkansas</td>\n",
       "      <td>3014195</td>\n",
       "      <td>3028122</td>\n",
       "      <td>3045637</td>\n",
       "      <td>AR</td>\n",
       "    </tr>\n",
       "    <tr>\n",
       "      <th>4</th>\n",
       "      <td>California</td>\n",
       "      <td>39501653</td>\n",
       "      <td>39142991</td>\n",
       "      <td>39029342</td>\n",
       "      <td>CA</td>\n",
       "    </tr>\n",
       "  </tbody>\n",
       "</table>\n",
       "</div>"
      ],
      "text/plain": [
       "         NAME      2020      2021      2022 code\n",
       "0     Alabama   5031362   5049846   5074296   AL\n",
       "1      Alaska    732923    734182    733583   AK\n",
       "2     Arizona   7179943   7264877   7359197   AZ\n",
       "3    Arkansas   3014195   3028122   3045637   AR\n",
       "4  California  39501653  39142991  39029342   CA"
      ]
     },
     "execution_count": 69,
     "metadata": {},
     "output_type": "execute_result"
    }
   ],
   "source": [
    "#merge sate ecode and population\n",
    "population_code = pd.merge(population, state_code, left_on='NAME', right_on='state')\n",
    "population_code = population_code.drop(['abbrev', 'state'], axis=1)\n",
    "population_code.head()"
   ]
  },
  {
   "cell_type": "code",
   "execution_count": 70,
   "metadata": {},
   "outputs": [],
   "source": [
    "# Save the DataFrame to a CSV file\n",
    "population_code.to_csv('data/estimated_population.csv', index=False)\n"
   ]
  },
  {
   "cell_type": "code",
   "execution_count": 72,
   "metadata": {},
   "outputs": [
    {
     "data": {
      "text/html": [
       "<div>\n",
       "<style scoped>\n",
       "    .dataframe tbody tr th:only-of-type {\n",
       "        vertical-align: middle;\n",
       "    }\n",
       "\n",
       "    .dataframe tbody tr th {\n",
       "        vertical-align: top;\n",
       "    }\n",
       "\n",
       "    .dataframe thead th {\n",
       "        text-align: right;\n",
       "    }\n",
       "</style>\n",
       "<table border=\"1\" class=\"dataframe\">\n",
       "  <thead>\n",
       "    <tr style=\"text-align: right;\">\n",
       "      <th></th>\n",
       "      <th>NAME</th>\n",
       "      <th>2020</th>\n",
       "      <th>2021</th>\n",
       "      <th>2022</th>\n",
       "      <th>code</th>\n",
       "    </tr>\n",
       "  </thead>\n",
       "  <tbody>\n",
       "    <tr>\n",
       "      <th>46</th>\n",
       "      <td>Virginia</td>\n",
       "      <td>8636471</td>\n",
       "      <td>8657365</td>\n",
       "      <td>8683619</td>\n",
       "      <td>VA</td>\n",
       "    </tr>\n",
       "    <tr>\n",
       "      <th>47</th>\n",
       "      <td>Washington</td>\n",
       "      <td>7724031</td>\n",
       "      <td>7740745</td>\n",
       "      <td>7785786</td>\n",
       "      <td>WA</td>\n",
       "    </tr>\n",
       "    <tr>\n",
       "      <th>48</th>\n",
       "      <td>West Virginia</td>\n",
       "      <td>1791420</td>\n",
       "      <td>1785526</td>\n",
       "      <td>1775156</td>\n",
       "      <td>WV</td>\n",
       "    </tr>\n",
       "    <tr>\n",
       "      <th>49</th>\n",
       "      <td>Wisconsin</td>\n",
       "      <td>5896271</td>\n",
       "      <td>5880101</td>\n",
       "      <td>5892539</td>\n",
       "      <td>WI</td>\n",
       "    </tr>\n",
       "    <tr>\n",
       "      <th>50</th>\n",
       "      <td>Wyoming</td>\n",
       "      <td>577605</td>\n",
       "      <td>579483</td>\n",
       "      <td>581381</td>\n",
       "      <td>WY</td>\n",
       "    </tr>\n",
       "  </tbody>\n",
       "</table>\n",
       "</div>"
      ],
      "text/plain": [
       "             NAME     2020     2021     2022 code\n",
       "46       Virginia  8636471  8657365  8683619   VA\n",
       "47     Washington  7724031  7740745  7785786   WA\n",
       "48  West Virginia  1791420  1785526  1775156   WV\n",
       "49      Wisconsin  5896271  5880101  5892539   WI\n",
       "50        Wyoming   577605   579483   581381   WY"
      ]
     },
     "execution_count": 72,
     "metadata": {},
     "output_type": "execute_result"
    }
   ],
   "source": [
    "pop_df = pd.read_csv('data/estimated_population.csv')\n",
    "pop_df.tail()"
   ]
  },
  {
   "cell_type": "code",
   "execution_count": 73,
   "metadata": {},
   "outputs": [
    {
     "data": {
      "text/plain": [
       "NAME    0\n",
       "2020    0\n",
       "2021    0\n",
       "2022    0\n",
       "code    0\n",
       "dtype: int64"
      ]
     },
     "execution_count": 73,
     "metadata": {},
     "output_type": "execute_result"
    }
   ],
   "source": [
    "pop_df.isna().sum()"
   ]
  },
  {
   "cell_type": "code",
   "execution_count": 19,
   "metadata": {},
   "outputs": [],
   "source": [
    "us2020_date = us2020_cases.groupby([\"date\"])[[\"cases\",\"deaths\"]].sum().reset_index()\n",
    "us2020_state = us2020_cases.groupby([\"date\", \"state\"])[[\"cases\",\"deaths\"]].sum().reset_index()\n",
    "\n",
    "us2021_date = us2021_cases.groupby([\"date\"])[[\"cases\",\"deaths\"]].sum().reset_index()\n",
    "us2021_state = us2021_cases.groupby([\"date\", \"state\"])[[\"cases\",\"deaths\"]].sum().reset_index()\n",
    "\n",
    "us2022_date = us2022_cases.groupby([\"date\"])[[\"cases\",\"deaths\"]].sum().reset_index()\n",
    "us2022_state = us2022_cases.groupby([\"date\", \"state\"])[[\"cases\",\"deaths\"]].sum().reset_index()\n"
   ]
  },
  {
   "cell_type": "code",
   "execution_count": 20,
   "metadata": {},
   "outputs": [],
   "source": [
    "us_date_df = pd.concat([us2020_date, us2021_date, us2022_date])\n",
    "us_state_df = pd.concat([us2020_state, us2021_state, us2022_state])"
   ]
  },
  {
   "cell_type": "code",
   "execution_count": 21,
   "metadata": {},
   "outputs": [
    {
     "data": {
      "text/html": [
       "<div>\n",
       "<style scoped>\n",
       "    .dataframe tbody tr th:only-of-type {\n",
       "        vertical-align: middle;\n",
       "    }\n",
       "\n",
       "    .dataframe tbody tr th {\n",
       "        vertical-align: top;\n",
       "    }\n",
       "\n",
       "    .dataframe thead th {\n",
       "        text-align: right;\n",
       "    }\n",
       "</style>\n",
       "<table border=\"1\" class=\"dataframe\">\n",
       "  <thead>\n",
       "    <tr style=\"text-align: right;\">\n",
       "      <th></th>\n",
       "      <th>date</th>\n",
       "      <th>state</th>\n",
       "      <th>cases</th>\n",
       "      <th>deaths</th>\n",
       "    </tr>\n",
       "  </thead>\n",
       "  <tbody>\n",
       "    <tr>\n",
       "      <th>0</th>\n",
       "      <td>2020-01-21</td>\n",
       "      <td>Washington</td>\n",
       "      <td>1</td>\n",
       "      <td>0.0</td>\n",
       "    </tr>\n",
       "    <tr>\n",
       "      <th>1</th>\n",
       "      <td>2020-01-22</td>\n",
       "      <td>Washington</td>\n",
       "      <td>1</td>\n",
       "      <td>0.0</td>\n",
       "    </tr>\n",
       "    <tr>\n",
       "      <th>2</th>\n",
       "      <td>2020-01-23</td>\n",
       "      <td>Washington</td>\n",
       "      <td>1</td>\n",
       "      <td>0.0</td>\n",
       "    </tr>\n",
       "    <tr>\n",
       "      <th>3</th>\n",
       "      <td>2020-01-24</td>\n",
       "      <td>Illinois</td>\n",
       "      <td>1</td>\n",
       "      <td>0.0</td>\n",
       "    </tr>\n",
       "    <tr>\n",
       "      <th>4</th>\n",
       "      <td>2020-01-24</td>\n",
       "      <td>Washington</td>\n",
       "      <td>1</td>\n",
       "      <td>0.0</td>\n",
       "    </tr>\n",
       "    <tr>\n",
       "      <th>...</th>\n",
       "      <td>...</td>\n",
       "      <td>...</td>\n",
       "      <td>...</td>\n",
       "      <td>...</td>\n",
       "    </tr>\n",
       "    <tr>\n",
       "      <th>20435</th>\n",
       "      <td>2022-12-31</td>\n",
       "      <td>Virginia</td>\n",
       "      <td>2205518</td>\n",
       "      <td>22793.0</td>\n",
       "    </tr>\n",
       "    <tr>\n",
       "      <th>20436</th>\n",
       "      <td>2022-12-31</td>\n",
       "      <td>Washington</td>\n",
       "      <td>1883676</td>\n",
       "      <td>15067.0</td>\n",
       "    </tr>\n",
       "    <tr>\n",
       "      <th>20437</th>\n",
       "      <td>2022-12-31</td>\n",
       "      <td>West Virginia</td>\n",
       "      <td>624721</td>\n",
       "      <td>7795.0</td>\n",
       "    </tr>\n",
       "    <tr>\n",
       "      <th>20438</th>\n",
       "      <td>2022-12-31</td>\n",
       "      <td>Wisconsin</td>\n",
       "      <td>1960884</td>\n",
       "      <td>15860.0</td>\n",
       "    </tr>\n",
       "    <tr>\n",
       "      <th>20439</th>\n",
       "      <td>2022-12-31</td>\n",
       "      <td>Wyoming</td>\n",
       "      <td>182847</td>\n",
       "      <td>1959.0</td>\n",
       "    </tr>\n",
       "  </tbody>\n",
       "</table>\n",
       "<p>57355 rows × 4 columns</p>\n",
       "</div>"
      ],
      "text/plain": [
       "             date          state    cases   deaths\n",
       "0      2020-01-21     Washington        1      0.0\n",
       "1      2020-01-22     Washington        1      0.0\n",
       "2      2020-01-23     Washington        1      0.0\n",
       "3      2020-01-24       Illinois        1      0.0\n",
       "4      2020-01-24     Washington        1      0.0\n",
       "...           ...            ...      ...      ...\n",
       "20435  2022-12-31       Virginia  2205518  22793.0\n",
       "20436  2022-12-31     Washington  1883676  15067.0\n",
       "20437  2022-12-31  West Virginia   624721   7795.0\n",
       "20438  2022-12-31      Wisconsin  1960884  15860.0\n",
       "20439  2022-12-31        Wyoming   182847   1959.0\n",
       "\n",
       "[57355 rows x 4 columns]"
      ]
     },
     "execution_count": 21,
     "metadata": {},
     "output_type": "execute_result"
    }
   ],
   "source": [
    "us_state_df"
   ]
  },
  {
   "cell_type": "code",
   "execution_count": 22,
   "metadata": {},
   "outputs": [],
   "source": [
    "us_date_df ['date'] = pd.to_datetime(us_date_df['date'])\n",
    "us_state_df ['date'] = pd.to_datetime(us_state_df['date'])"
   ]
  },
  {
   "cell_type": "code",
   "execution_count": 23,
   "metadata": {},
   "outputs": [],
   "source": [
    "#add year column\n",
    "us_state_df['year'] = us_state_df['date'].dt.year\n",
    "us_date_df['year'] = us_date_df['date'].dt.year"
   ]
  },
  {
   "cell_type": "code",
   "execution_count": 24,
   "metadata": {},
   "outputs": [
    {
     "data": {
      "image/png": "[encoded data removed]",
      "text/plain": [
       "<Figure size 640x480 with 1 Axes>"
      ]
     },
     "metadata": {},
     "output_type": "display_data"
    }
   ],
   "source": [
    "import matplotlib.pyplot as plt\n",
    "\n",
    "# Select the 'Year' and 'Sales' columns\n",
    "dff = us_date_df[['date', 'deaths']]\n",
    "\n",
    "# Plot the 'Year' and 'Sales' columns\n",
    "dff.plot(x='date', y='deaths')\n",
    "\n",
    "# Show the plot\n",
    "plt.show()"
   ]
  },
  {
   "cell_type": "code",
   "execution_count": 25,
   "metadata": {},
   "outputs": [
    {
     "data": {
      "image/png": "[encoded data removed]",
      "text/plain": [
       "<Figure size 640x480 with 1 Axes>"
      ]
     },
     "metadata": {},
     "output_type": "display_data"
    }
   ],
   "source": [
    "# Select the 'Year' and 'Sales' columns\n",
    "dff = us_date_df[['date', 'cases']]\n",
    "\n",
    "# Plot the 'Year' and 'Sales' columns\n",
    "dff.plot(x='date', y='cases')\n",
    "\n",
    "# Show the plot\n",
    "plt.show()"
   ]
  },
  {
   "attachments": {},
   "cell_type": "markdown",
   "metadata": {},
   "source": [
    "# Data to show"
   ]
  },
  {
   "cell_type": "markdown",
   "metadata": {},
   "source": []
  },
  {
   "cell_type": "code",
   "execution_count": 26,
   "metadata": {},
   "outputs": [
    {
     "data": {
      "text/plain": [
       "'2022-12-31'"
      ]
     },
     "execution_count": 26,
     "metadata": {},
     "output_type": "execute_result"
    }
   ],
   "source": [
    "#Last update date\n",
    "last_update= us_date_df[\"date\"].iloc[-1].strftime('%Y-%m-%d')\n",
    "last_update"
   ]
  },
  {
   "cell_type": "code",
   "execution_count": 27,
   "metadata": {},
   "outputs": [
    {
     "data": {
      "text/html": [
       "<div>\n",
       "<style scoped>\n",
       "    .dataframe tbody tr th:only-of-type {\n",
       "        vertical-align: middle;\n",
       "    }\n",
       "\n",
       "    .dataframe tbody tr th {\n",
       "        vertical-align: top;\n",
       "    }\n",
       "\n",
       "    .dataframe thead th {\n",
       "        text-align: right;\n",
       "    }\n",
       "</style>\n",
       "<table border=\"1\" class=\"dataframe\">\n",
       "  <thead>\n",
       "    <tr style=\"text-align: right;\">\n",
       "      <th></th>\n",
       "      <th>date</th>\n",
       "      <th>cases</th>\n",
       "      <th>deaths</th>\n",
       "      <th>year</th>\n",
       "    </tr>\n",
       "  </thead>\n",
       "  <tbody>\n",
       "    <tr>\n",
       "      <th>360</th>\n",
       "      <td>2022-12-27</td>\n",
       "      <td>100198218</td>\n",
       "      <td>1097812.0</td>\n",
       "      <td>2022</td>\n",
       "    </tr>\n",
       "    <tr>\n",
       "      <th>361</th>\n",
       "      <td>2022-12-28</td>\n",
       "      <td>100321148</td>\n",
       "      <td>1098651.0</td>\n",
       "      <td>2022</td>\n",
       "    </tr>\n",
       "    <tr>\n",
       "      <th>362</th>\n",
       "      <td>2022-12-29</td>\n",
       "      <td>100440391</td>\n",
       "      <td>1099302.0</td>\n",
       "      <td>2022</td>\n",
       "    </tr>\n",
       "    <tr>\n",
       "      <th>363</th>\n",
       "      <td>2022-12-30</td>\n",
       "      <td>100473647</td>\n",
       "      <td>1099824.0</td>\n",
       "      <td>2022</td>\n",
       "    </tr>\n",
       "    <tr>\n",
       "      <th>364</th>\n",
       "      <td>2022-12-31</td>\n",
       "      <td>100479169</td>\n",
       "      <td>1099837.0</td>\n",
       "      <td>2022</td>\n",
       "    </tr>\n",
       "  </tbody>\n",
       "</table>\n",
       "</div>"
      ],
      "text/plain": [
       "          date      cases     deaths  year\n",
       "360 2022-12-27  100198218  1097812.0  2022\n",
       "361 2022-12-28  100321148  1098651.0  2022\n",
       "362 2022-12-29  100440391  1099302.0  2022\n",
       "363 2022-12-30  100473647  1099824.0  2022\n",
       "364 2022-12-31  100479169  1099837.0  2022"
      ]
     },
     "execution_count": 27,
     "metadata": {},
     "output_type": "execute_result"
    }
   ],
   "source": [
    "us_date_df.tail()"
   ]
  },
  {
   "cell_type": "code",
   "execution_count": 28,
   "metadata": {},
   "outputs": [
    {
     "data": {
      "text/plain": [
       "100479169"
      ]
     },
     "execution_count": 28,
     "metadata": {},
     "output_type": "execute_result"
    }
   ],
   "source": [
    "#Global cases\n",
    "global_cases = us_date_df[\"cases\"].iloc[-1]\n",
    "global_cases"
   ]
  },
  {
   "cell_type": "code",
   "execution_count": 29,
   "metadata": {},
   "outputs": [
    {
     "data": {
      "text/plain": [
       "1099837.0"
      ]
     },
     "execution_count": 29,
     "metadata": {},
     "output_type": "execute_result"
    }
   ],
   "source": [
    "#Global deaths\n",
    "global_deaths = us_date_df[\"deaths\"].iloc[-1]\n",
    "global_deaths"
   ]
  },
  {
   "cell_type": "code",
   "execution_count": 30,
   "metadata": {},
   "outputs": [
    {
     "data": {
      "text/plain": [
       "0.01"
      ]
     },
     "execution_count": 30,
     "metadata": {},
     "output_type": "execute_result"
    }
   ],
   "source": [
    "#Global CFR\n",
    "CFR = round(global_deaths/global_cases, 2)\n",
    "CFR"
   ]
  },
  {
   "cell_type": "code",
   "execution_count": 31,
   "metadata": {},
   "outputs": [
    {
     "data": {
      "text/plain": [
       "0.3"
      ]
     },
     "execution_count": 31,
     "metadata": {},
     "output_type": "execute_result"
    }
   ],
   "source": [
    "#Global Attack Rate\n",
    "population_2022 = pop_df['2022'].sum()\n",
    "attack_rate = round(global_cases/population_2022, 2)\n",
    "attack_rate\n"
   ]
  },
  {
   "attachments": {},
   "cell_type": "markdown",
   "metadata": {},
   "source": [
    "# Data by State"
   ]
  },
  {
   "cell_type": "code",
   "execution_count": 32,
   "metadata": {},
   "outputs": [
    {
     "data": {
      "text/html": [
       "<div>\n",
       "<style scoped>\n",
       "    .dataframe tbody tr th:only-of-type {\n",
       "        vertical-align: middle;\n",
       "    }\n",
       "\n",
       "    .dataframe tbody tr th {\n",
       "        vertical-align: top;\n",
       "    }\n",
       "\n",
       "    .dataframe thead th {\n",
       "        text-align: right;\n",
       "    }\n",
       "</style>\n",
       "<table border=\"1\" class=\"dataframe\">\n",
       "  <thead>\n",
       "    <tr style=\"text-align: right;\">\n",
       "      <th></th>\n",
       "      <th>date</th>\n",
       "      <th>state</th>\n",
       "      <th>cases</th>\n",
       "      <th>deaths</th>\n",
       "      <th>year</th>\n",
       "    </tr>\n",
       "  </thead>\n",
       "  <tbody>\n",
       "    <tr>\n",
       "      <th>20435</th>\n",
       "      <td>2022-12-31</td>\n",
       "      <td>Virginia</td>\n",
       "      <td>2205518</td>\n",
       "      <td>22793.0</td>\n",
       "      <td>2022</td>\n",
       "    </tr>\n",
       "    <tr>\n",
       "      <th>20436</th>\n",
       "      <td>2022-12-31</td>\n",
       "      <td>Washington</td>\n",
       "      <td>1883676</td>\n",
       "      <td>15067.0</td>\n",
       "      <td>2022</td>\n",
       "    </tr>\n",
       "    <tr>\n",
       "      <th>20437</th>\n",
       "      <td>2022-12-31</td>\n",
       "      <td>West Virginia</td>\n",
       "      <td>624721</td>\n",
       "      <td>7795.0</td>\n",
       "      <td>2022</td>\n",
       "    </tr>\n",
       "    <tr>\n",
       "      <th>20438</th>\n",
       "      <td>2022-12-31</td>\n",
       "      <td>Wisconsin</td>\n",
       "      <td>1960884</td>\n",
       "      <td>15860.0</td>\n",
       "      <td>2022</td>\n",
       "    </tr>\n",
       "    <tr>\n",
       "      <th>20439</th>\n",
       "      <td>2022-12-31</td>\n",
       "      <td>Wyoming</td>\n",
       "      <td>182847</td>\n",
       "      <td>1959.0</td>\n",
       "      <td>2022</td>\n",
       "    </tr>\n",
       "  </tbody>\n",
       "</table>\n",
       "</div>"
      ],
      "text/plain": [
       "            date          state    cases   deaths  year\n",
       "20435 2022-12-31       Virginia  2205518  22793.0  2022\n",
       "20436 2022-12-31     Washington  1883676  15067.0  2022\n",
       "20437 2022-12-31  West Virginia   624721   7795.0  2022\n",
       "20438 2022-12-31      Wisconsin  1960884  15860.0  2022\n",
       "20439 2022-12-31        Wyoming   182847   1959.0  2022"
      ]
     },
     "execution_count": 32,
     "metadata": {},
     "output_type": "execute_result"
    }
   ],
   "source": [
    "us_state_df.tail()"
   ]
  },
  {
   "cell_type": "code",
   "execution_count": 33,
   "metadata": {},
   "outputs": [],
   "source": [
    "#filter by state\n",
    "state = 'American Samoa'\n",
    "df_state = us_state_df.loc[us_state_df['state']==state]\n"
   ]
  },
  {
   "cell_type": "code",
   "execution_count": 34,
   "metadata": {},
   "outputs": [
    {
     "data": {
      "text/plain": [
       "8266"
      ]
     },
     "execution_count": 34,
     "metadata": {},
     "output_type": "execute_result"
    }
   ],
   "source": [
    "# state cases\n",
    "state_cases = df_state[\"cases\"].iloc[-1]\n",
    "state_cases"
   ]
  },
  {
   "cell_type": "code",
   "execution_count": 35,
   "metadata": {},
   "outputs": [
    {
     "data": {
      "text/plain": [
       "34.0"
      ]
     },
     "execution_count": 35,
     "metadata": {},
     "output_type": "execute_result"
    }
   ],
   "source": [
    "#state deaths\n",
    "state_deaths = df_state[\"deaths\"].iloc[-1]\n",
    "state_deaths"
   ]
  },
  {
   "cell_type": "code",
   "execution_count": 36,
   "metadata": {},
   "outputs": [
    {
     "data": {
      "text/plain": [
       "0.0"
      ]
     },
     "execution_count": 36,
     "metadata": {},
     "output_type": "execute_result"
    }
   ],
   "source": [
    "#state CFR\n",
    "state_CFR = round(state_deaths/state_cases, 2)\n",
    "state_CFR"
   ]
  },
  {
   "cell_type": "code",
   "execution_count": 37,
   "metadata": {},
   "outputs": [
    {
     "data": {
      "text/html": [
       "<div>\n",
       "<style scoped>\n",
       "    .dataframe tbody tr th:only-of-type {\n",
       "        vertical-align: middle;\n",
       "    }\n",
       "\n",
       "    .dataframe tbody tr th {\n",
       "        vertical-align: top;\n",
       "    }\n",
       "\n",
       "    .dataframe thead th {\n",
       "        text-align: right;\n",
       "    }\n",
       "</style>\n",
       "<table border=\"1\" class=\"dataframe\">\n",
       "  <thead>\n",
       "    <tr style=\"text-align: right;\">\n",
       "      <th></th>\n",
       "      <th>NAME</th>\n",
       "      <th>2020</th>\n",
       "      <th>2021</th>\n",
       "      <th>2022</th>\n",
       "    </tr>\n",
       "  </thead>\n",
       "  <tbody>\n",
       "    <tr>\n",
       "      <th>47</th>\n",
       "      <td>Washington</td>\n",
       "      <td>7724031</td>\n",
       "      <td>7740745</td>\n",
       "      <td>7785786</td>\n",
       "    </tr>\n",
       "    <tr>\n",
       "      <th>48</th>\n",
       "      <td>West Virginia</td>\n",
       "      <td>1791420</td>\n",
       "      <td>1785526</td>\n",
       "      <td>1775156</td>\n",
       "    </tr>\n",
       "    <tr>\n",
       "      <th>49</th>\n",
       "      <td>Wisconsin</td>\n",
       "      <td>5896271</td>\n",
       "      <td>5880101</td>\n",
       "      <td>5892539</td>\n",
       "    </tr>\n",
       "    <tr>\n",
       "      <th>50</th>\n",
       "      <td>Wyoming</td>\n",
       "      <td>577605</td>\n",
       "      <td>579483</td>\n",
       "      <td>581381</td>\n",
       "    </tr>\n",
       "    <tr>\n",
       "      <th>51</th>\n",
       "      <td>Puerto Rico</td>\n",
       "      <td>3281557</td>\n",
       "      <td>3262693</td>\n",
       "      <td>3221789</td>\n",
       "    </tr>\n",
       "  </tbody>\n",
       "</table>\n",
       "</div>"
      ],
      "text/plain": [
       "             NAME     2020     2021     2022\n",
       "47     Washington  7724031  7740745  7785786\n",
       "48  West Virginia  1791420  1785526  1775156\n",
       "49      Wisconsin  5896271  5880101  5892539\n",
       "50        Wyoming   577605   579483   581381\n",
       "51    Puerto Rico  3281557  3262693  3221789"
      ]
     },
     "execution_count": 37,
     "metadata": {},
     "output_type": "execute_result"
    }
   ],
   "source": [
    "pop_df.tail()"
   ]
  },
  {
   "cell_type": "code",
   "execution_count": 44,
   "metadata": {},
   "outputs": [
    {
     "ename": "KeyError",
     "evalue": "'Alabama'",
     "output_type": "error",
     "traceback": [
      "\u001b[1;31m---------------------------------------------------------------------------\u001b[0m",
      "\u001b[1;31mKeyError\u001b[0m                                  Traceback (most recent call last)",
      "File \u001b[1;32mc:\\Ivan\\DATA SCIENCE\\Projects\\COVID-19-VIZ\\.venv\\Lib\\site-packages\\pandas\\core\\indexes\\base.py:3803\u001b[0m, in \u001b[0;36mIndex.get_loc\u001b[1;34m(self, key, method, tolerance)\u001b[0m\n\u001b[0;32m   3802\u001b[0m \u001b[39mtry\u001b[39;00m:\n\u001b[1;32m-> 3803\u001b[0m     \u001b[39mreturn\u001b[39;00m \u001b[39mself\u001b[39;49m\u001b[39m.\u001b[39;49m_engine\u001b[39m.\u001b[39;49mget_loc(casted_key)\n\u001b[0;32m   3804\u001b[0m \u001b[39mexcept\u001b[39;00m \u001b[39mKeyError\u001b[39;00m \u001b[39mas\u001b[39;00m err:\n",
      "File \u001b[1;32mc:\\Ivan\\DATA SCIENCE\\Projects\\COVID-19-VIZ\\.venv\\Lib\\site-packages\\pandas\\_libs\\index.pyx:138\u001b[0m, in \u001b[0;36mpandas._libs.index.IndexEngine.get_loc\u001b[1;34m()\u001b[0m\n",
      "File \u001b[1;32mc:\\Ivan\\DATA SCIENCE\\Projects\\COVID-19-VIZ\\.venv\\Lib\\site-packages\\pandas\\_libs\\index.pyx:165\u001b[0m, in \u001b[0;36mpandas._libs.index.IndexEngine.get_loc\u001b[1;34m()\u001b[0m\n",
      "File \u001b[1;32mpandas\\_libs\\hashtable_class_helper.pxi:5745\u001b[0m, in \u001b[0;36mpandas._libs.hashtable.PyObjectHashTable.get_item\u001b[1;34m()\u001b[0m\n",
      "File \u001b[1;32mpandas\\_libs\\hashtable_class_helper.pxi:5753\u001b[0m, in \u001b[0;36mpandas._libs.hashtable.PyObjectHashTable.get_item\u001b[1;34m()\u001b[0m\n",
      "\u001b[1;31mKeyError\u001b[0m: 'Alabama'",
      "\nThe above exception was the direct cause of the following exception:\n",
      "\u001b[1;31mKeyError\u001b[0m                                  Traceback (most recent call last)",
      "Cell \u001b[1;32mIn[44], line 2\u001b[0m\n\u001b[0;32m      1\u001b[0m \u001b[39m#state attack rate\u001b[39;00m\n\u001b[1;32m----> 2\u001b[0m population_state_2022 \u001b[39m=\u001b[39m pop_df\u001b[39m.\u001b[39mloc[(pop_df[\u001b[39m'\u001b[39;49m\u001b[39mAlabama\u001b[39;49m\u001b[39m'\u001b[39;49m] \u001b[39m==\u001b[39m state),\u001b[39m'\u001b[39m\u001b[39m2022\u001b[39m\u001b[39m'\u001b[39m]\n\u001b[0;32m      3\u001b[0m state_attack_rate \u001b[39m=\u001b[39m  \u001b[39mround\u001b[39m(state_cases\u001b[39m/\u001b[39mpopulation_state_2022, \u001b[39m2\u001b[39m)\n\u001b[0;32m      4\u001b[0m state_attack_rate\n",
      "File \u001b[1;32mc:\\Ivan\\DATA SCIENCE\\Projects\\COVID-19-VIZ\\.venv\\Lib\\site-packages\\pandas\\core\\frame.py:3805\u001b[0m, in \u001b[0;36mDataFrame.__getitem__\u001b[1;34m(self, key)\u001b[0m\n\u001b[0;32m   3803\u001b[0m \u001b[39mif\u001b[39;00m \u001b[39mself\u001b[39m\u001b[39m.\u001b[39mcolumns\u001b[39m.\u001b[39mnlevels \u001b[39m>\u001b[39m \u001b[39m1\u001b[39m:\n\u001b[0;32m   3804\u001b[0m     \u001b[39mreturn\u001b[39;00m \u001b[39mself\u001b[39m\u001b[39m.\u001b[39m_getitem_multilevel(key)\n\u001b[1;32m-> 3805\u001b[0m indexer \u001b[39m=\u001b[39m \u001b[39mself\u001b[39;49m\u001b[39m.\u001b[39;49mcolumns\u001b[39m.\u001b[39;49mget_loc(key)\n\u001b[0;32m   3806\u001b[0m \u001b[39mif\u001b[39;00m is_integer(indexer):\n\u001b[0;32m   3807\u001b[0m     indexer \u001b[39m=\u001b[39m [indexer]\n",
      "File \u001b[1;32mc:\\Ivan\\DATA SCIENCE\\Projects\\COVID-19-VIZ\\.venv\\Lib\\site-packages\\pandas\\core\\indexes\\base.py:3805\u001b[0m, in \u001b[0;36mIndex.get_loc\u001b[1;34m(self, key, method, tolerance)\u001b[0m\n\u001b[0;32m   3803\u001b[0m     \u001b[39mreturn\u001b[39;00m \u001b[39mself\u001b[39m\u001b[39m.\u001b[39m_engine\u001b[39m.\u001b[39mget_loc(casted_key)\n\u001b[0;32m   3804\u001b[0m \u001b[39mexcept\u001b[39;00m \u001b[39mKeyError\u001b[39;00m \u001b[39mas\u001b[39;00m err:\n\u001b[1;32m-> 3805\u001b[0m     \u001b[39mraise\u001b[39;00m \u001b[39mKeyError\u001b[39;00m(key) \u001b[39mfrom\u001b[39;00m \u001b[39merr\u001b[39;00m\n\u001b[0;32m   3806\u001b[0m \u001b[39mexcept\u001b[39;00m \u001b[39mTypeError\u001b[39;00m:\n\u001b[0;32m   3807\u001b[0m     \u001b[39m# If we have a listlike key, _check_indexing_error will raise\u001b[39;00m\n\u001b[0;32m   3808\u001b[0m     \u001b[39m#  InvalidIndexError. Otherwise we fall through and re-raise\u001b[39;00m\n\u001b[0;32m   3809\u001b[0m     \u001b[39m#  the TypeError.\u001b[39;00m\n\u001b[0;32m   3810\u001b[0m     \u001b[39mself\u001b[39m\u001b[39m.\u001b[39m_check_indexing_error(key)\n",
      "\u001b[1;31mKeyError\u001b[0m: 'Alabama'"
     ]
    }
   ],
   "source": [
    "#state attack rate\n",
    "population_state_2022 = pop_df.loc[(pop_df['NAME'] == state),'2022']\n",
    "state_attack_rate =  round(state_cases/population_state_2022, 2)\n",
    "state_attack_rate\n"
   ]
  },
  {
   "cell_type": "code",
   "execution_count": 39,
   "metadata": {},
   "outputs": [
    {
     "data": {
      "text/html": [
       "<div>\n",
       "<style scoped>\n",
       "    .dataframe tbody tr th:only-of-type {\n",
       "        vertical-align: middle;\n",
       "    }\n",
       "\n",
       "    .dataframe tbody tr th {\n",
       "        vertical-align: top;\n",
       "    }\n",
       "\n",
       "    .dataframe thead th {\n",
       "        text-align: right;\n",
       "    }\n",
       "</style>\n",
       "<table border=\"1\" class=\"dataframe\">\n",
       "  <thead>\n",
       "    <tr style=\"text-align: right;\">\n",
       "      <th></th>\n",
       "      <th>date</th>\n",
       "      <th>state</th>\n",
       "      <th>cases</th>\n",
       "      <th>deaths</th>\n",
       "      <th>year</th>\n",
       "    </tr>\n",
       "  </thead>\n",
       "  <tbody>\n",
       "    <tr>\n",
       "      <th>0</th>\n",
       "      <td>2020-01-21</td>\n",
       "      <td>Washington</td>\n",
       "      <td>1</td>\n",
       "      <td>0.0</td>\n",
       "      <td>2020</td>\n",
       "    </tr>\n",
       "    <tr>\n",
       "      <th>1</th>\n",
       "      <td>2020-01-22</td>\n",
       "      <td>Washington</td>\n",
       "      <td>1</td>\n",
       "      <td>0.0</td>\n",
       "      <td>2020</td>\n",
       "    </tr>\n",
       "    <tr>\n",
       "      <th>2</th>\n",
       "      <td>2020-01-23</td>\n",
       "      <td>Washington</td>\n",
       "      <td>1</td>\n",
       "      <td>0.0</td>\n",
       "      <td>2020</td>\n",
       "    </tr>\n",
       "    <tr>\n",
       "      <th>3</th>\n",
       "      <td>2020-01-24</td>\n",
       "      <td>Illinois</td>\n",
       "      <td>1</td>\n",
       "      <td>0.0</td>\n",
       "      <td>2020</td>\n",
       "    </tr>\n",
       "    <tr>\n",
       "      <th>4</th>\n",
       "      <td>2020-01-24</td>\n",
       "      <td>Washington</td>\n",
       "      <td>1</td>\n",
       "      <td>0.0</td>\n",
       "      <td>2020</td>\n",
       "    </tr>\n",
       "    <tr>\n",
       "      <th>...</th>\n",
       "      <td>...</td>\n",
       "      <td>...</td>\n",
       "      <td>...</td>\n",
       "      <td>...</td>\n",
       "      <td>...</td>\n",
       "    </tr>\n",
       "    <tr>\n",
       "      <th>20435</th>\n",
       "      <td>2022-12-31</td>\n",
       "      <td>Virginia</td>\n",
       "      <td>2205518</td>\n",
       "      <td>22793.0</td>\n",
       "      <td>2022</td>\n",
       "    </tr>\n",
       "    <tr>\n",
       "      <th>20436</th>\n",
       "      <td>2022-12-31</td>\n",
       "      <td>Washington</td>\n",
       "      <td>1883676</td>\n",
       "      <td>15067.0</td>\n",
       "      <td>2022</td>\n",
       "    </tr>\n",
       "    <tr>\n",
       "      <th>20437</th>\n",
       "      <td>2022-12-31</td>\n",
       "      <td>West Virginia</td>\n",
       "      <td>624721</td>\n",
       "      <td>7795.0</td>\n",
       "      <td>2022</td>\n",
       "    </tr>\n",
       "    <tr>\n",
       "      <th>20438</th>\n",
       "      <td>2022-12-31</td>\n",
       "      <td>Wisconsin</td>\n",
       "      <td>1960884</td>\n",
       "      <td>15860.0</td>\n",
       "      <td>2022</td>\n",
       "    </tr>\n",
       "    <tr>\n",
       "      <th>20439</th>\n",
       "      <td>2022-12-31</td>\n",
       "      <td>Wyoming</td>\n",
       "      <td>182847</td>\n",
       "      <td>1959.0</td>\n",
       "      <td>2022</td>\n",
       "    </tr>\n",
       "  </tbody>\n",
       "</table>\n",
       "<p>57355 rows × 5 columns</p>\n",
       "</div>"
      ],
      "text/plain": [
       "            date          state    cases   deaths  year\n",
       "0     2020-01-21     Washington        1      0.0  2020\n",
       "1     2020-01-22     Washington        1      0.0  2020\n",
       "2     2020-01-23     Washington        1      0.0  2020\n",
       "3     2020-01-24       Illinois        1      0.0  2020\n",
       "4     2020-01-24     Washington        1      0.0  2020\n",
       "...          ...            ...      ...      ...   ...\n",
       "20435 2022-12-31       Virginia  2205518  22793.0  2022\n",
       "20436 2022-12-31     Washington  1883676  15067.0  2022\n",
       "20437 2022-12-31  West Virginia   624721   7795.0  2022\n",
       "20438 2022-12-31      Wisconsin  1960884  15860.0  2022\n",
       "20439 2022-12-31        Wyoming   182847   1959.0  2022\n",
       "\n",
       "[57355 rows x 5 columns]"
      ]
     },
     "execution_count": 39,
     "metadata": {},
     "output_type": "execute_result"
    }
   ],
   "source": [
    "us_state_df"
   ]
  },
  {
   "cell_type": "code",
   "execution_count": 40,
   "metadata": {},
   "outputs": [],
   "source": [
    "#graph\n",
    "def update_graph(state):\n",
    "    df_state = us_state_df.loc[us_state_df['state']==state]\n",
    "    fig = px.line(df_state , x='date', y=['cases', 'deaths'], title='Covid-19 Cases and Deaths in ' + state)\n",
    "    return fig\n"
   ]
  },
  {
   "cell_type": "code",
   "execution_count": 41,
   "metadata": {},
   "outputs": [
    {
     "data": {
      "application/vnd.plotly.v1+json": {
       "config": {
        "plotlyServerURL": "https://plot.ly"
       },
       "data": [
        {
         "hovertemplate": "variable=cases<br>date=%{x}<br>value=%{y}<extra></extra>",
         "legendgroup": "cases",
         "line": {
          "color": "#636efa",
          "dash": "solid"
         },
         "marker": {
          "symbol": "circle"
         },
         "mode": "lines",
         "name": "cases",
         "orientation": "v",
         "showlegend": true,
         "type": "scatter",
         "x": [
          "2021-09-17T00:00:00",
          "2021-09-18T00:00:00",
          "2021-09-19T00:00:00",
          "2021-09-20T00:00:00",
          "2021-09-21T00:00:00",
          "2021-09-22T00:00:00",
          "2021-09-23T00:00:00",
          "2021-09-24T00:00:00",
          "2021-09-25T00:00:00",
          "2021-09-26T00:00:00",
          "2021-09-27T00:00:00",
          "2021-09-28T00:00:00",
          "2021-09-29T00:00:00",
          "2021-09-30T00:00:00",
          "2021-10-01T00:00:00",
          "2021-10-02T00:00:00",
          "2021-10-03T00:00:00",
          "2021-10-04T00:00:00",
          "2021-10-05T00:00:00",
          "2021-10-06T00:00:00",
          "2021-10-07T00:00:00",
          "2021-10-08T00:00:00",
          "2021-10-09T00:00:00",
          "2021-10-10T00:00:00",
          "2021-10-11T00:00:00",
          "2021-10-12T00:00:00",
          "2021-10-13T00:00:00",
          "2021-10-14T00:00:00",
          "2021-10-15T00:00:00",
          "2021-10-16T00:00:00",
          "2021-10-17T00:00:00",
          "2021-10-18T00:00:00",
          "2021-10-19T00:00:00",
          "2021-10-20T00:00:00",
          "2021-10-21T00:00:00",
          "2021-10-22T00:00:00",
          "2021-10-23T00:00:00",
          "2021-10-24T00:00:00",
          "2021-10-25T00:00:00",
          "2021-10-26T00:00:00",
          "2021-10-27T00:00:00",
          "2021-10-28T00:00:00",
          "2021-10-29T00:00:00",
          "2021-10-30T00:00:00",
          "2021-10-31T00:00:00",
          "2021-11-01T00:00:00",
          "2021-11-02T00:00:00",
          "2021-11-03T00:00:00",
          "2021-11-04T00:00:00",
          "2021-11-05T00:00:00",
          "2021-11-06T00:00:00",
          "2021-11-07T00:00:00",
          "2021-11-08T00:00:00",
          "2021-11-09T00:00:00",
          "2021-11-10T00:00:00",
          "2021-11-11T00:00:00",
          "2021-11-12T00:00:00",
          "2021-11-13T00:00:00",
          "2021-11-14T00:00:00",
          "2021-11-15T00:00:00",
          "2021-11-16T00:00:00",
          "2021-11-17T00:00:00",
          "2021-11-18T00:00:00",
          "2021-11-19T00:00:00",
          "2021-11-20T00:00:00",
          "2021-11-21T00:00:00",
          "2021-11-22T00:00:00",
          "2021-11-23T00:00:00",
          "2021-11-24T00:00:00",
          "2021-11-25T00:00:00",
          "2021-11-26T00:00:00",
          "2021-11-27T00:00:00",
          "2021-11-28T00:00:00",
          "2021-11-29T00:00:00",
          "2021-11-30T00:00:00",
          "2021-12-01T00:00:00",
          "2021-12-02T00:00:00",
          "2021-12-03T00:00:00",
          "2021-12-04T00:00:00",
          "2021-12-05T00:00:00",
          "2021-12-06T00:00:00",
          "2021-12-07T00:00:00",
          "2021-12-08T00:00:00",
          "2021-12-09T00:00:00",
          "2021-12-10T00:00:00",
          "2021-12-11T00:00:00",
          "2021-12-12T00:00:00",
          "2021-12-13T00:00:00",
          "2021-12-14T00:00:00",
          "2021-12-15T00:00:00",
          "2021-12-16T00:00:00",
          "2021-12-17T00:00:00",
          "2021-12-18T00:00:00",
          "2021-12-19T00:00:00",
          "2021-12-20T00:00:00",
          "2021-12-21T00:00:00",
          "2021-12-22T00:00:00",
          "2021-12-23T00:00:00",
          "2021-12-24T00:00:00",
          "2021-12-25T00:00:00",
          "2021-12-26T00:00:00",
          "2021-12-27T00:00:00",
          "2021-12-28T00:00:00",
          "2021-12-29T00:00:00",
          "2021-12-30T00:00:00",
          "2021-12-31T00:00:00",
          "2022-01-01T00:00:00",
          "2022-01-02T00:00:00",
          "2022-01-03T00:00:00",
          "2022-01-04T00:00:00",
          "2022-01-05T00:00:00",
          "2022-01-06T00:00:00",
          "2022-01-07T00:00:00",
          "2022-01-08T00:00:00",
          "2022-01-09T00:00:00",
          "2022-01-10T00:00:00",
          "2022-01-11T00:00:00",
          "2022-01-12T00:00:00",
          "2022-01-13T00:00:00",
          "2022-01-14T00:00:00",
          "2022-01-15T00:00:00",
          "2022-01-16T00:00:00",
          "2022-01-17T00:00:00",
          "2022-01-18T00:00:00",
          "2022-01-19T00:00:00",
          "2022-01-20T00:00:00",
          "2022-01-21T00:00:00",
          "2022-01-22T00:00:00",
          "2022-01-23T00:00:00",
          "2022-01-24T00:00:00",
          "2022-01-25T00:00:00",
          "2022-01-26T00:00:00",
          "2022-01-27T00:00:00",
          "2022-01-28T00:00:00",
          "2022-01-29T00:00:00",
          "2022-01-30T00:00:00",
          "2022-01-31T00:00:00",
          "2022-02-01T00:00:00",
          "2022-02-02T00:00:00",
          "2022-02-03T00:00:00",
          "2022-02-04T00:00:00",
          "2022-02-05T00:00:00",
          "2022-02-06T00:00:00",
          "2022-02-07T00:00:00",
          "2022-02-08T00:00:00",
          "2022-02-09T00:00:00",
          "2022-02-10T00:00:00",
          "2022-02-11T00:00:00",
          "2022-02-12T00:00:00",
          "2022-02-13T00:00:00",
          "2022-02-14T00:00:00",
          "2022-02-15T00:00:00",
          "2022-02-16T00:00:00",
          "2022-02-17T00:00:00",
          "2022-02-18T00:00:00",
          "2022-02-19T00:00:00",
          "2022-02-20T00:00:00",
          "2022-02-21T00:00:00",
          "2022-02-22T00:00:00",
          "2022-02-23T00:00:00",
          "2022-02-24T00:00:00",
          "2022-02-25T00:00:00",
          "2022-02-26T00:00:00",
          "2022-02-27T00:00:00",
          "2022-02-28T00:00:00",
          "2022-03-01T00:00:00",
          "2022-03-02T00:00:00",
          "2022-03-03T00:00:00",
          "2022-03-04T00:00:00",
          "2022-03-05T00:00:00",
          "2022-03-06T00:00:00",
          "2022-03-07T00:00:00",
          "2022-03-08T00:00:00",
          "2022-03-09T00:00:00",
          "2022-03-10T00:00:00",
          "2022-03-11T00:00:00",
          "2022-03-12T00:00:00",
          "2022-03-13T00:00:00",
          "2022-03-14T00:00:00",
          "2022-03-15T00:00:00",
          "2022-03-16T00:00:00",
          "2022-03-17T00:00:00",
          "2022-03-18T00:00:00",
          "2022-03-19T00:00:00",
          "2022-03-20T00:00:00",
          "2022-03-21T00:00:00",
          "2022-03-22T00:00:00",
          "2022-03-23T00:00:00",
          "2022-03-24T00:00:00",
          "2022-03-25T00:00:00",
          "2022-03-26T00:00:00",
          "2022-03-27T00:00:00",
          "2022-03-28T00:00:00",
          "2022-03-29T00:00:00",
          "2022-03-30T00:00:00",
          "2022-03-31T00:00:00",
          "2022-04-01T00:00:00",
          "2022-04-02T00:00:00",
          "2022-04-03T00:00:00",
          "2022-04-04T00:00:00",
          "2022-04-05T00:00:00",
          "2022-04-06T00:00:00",
          "2022-04-07T00:00:00",
          "2022-04-08T00:00:00",
          "2022-04-09T00:00:00",
          "2022-04-10T00:00:00",
          "2022-04-11T00:00:00",
          "2022-04-12T00:00:00",
          "2022-04-13T00:00:00",
          "2022-04-14T00:00:00",
          "2022-04-15T00:00:00",
          "2022-04-16T00:00:00",
          "2022-04-17T00:00:00",
          "2022-04-18T00:00:00",
          "2022-04-19T00:00:00",
          "2022-04-20T00:00:00",
          "2022-04-21T00:00:00",
          "2022-04-22T00:00:00",
          "2022-04-23T00:00:00",
          "2022-04-24T00:00:00",
          "2022-04-25T00:00:00",
          "2022-04-26T00:00:00",
          "2022-04-27T00:00:00",
          "2022-04-28T00:00:00",
          "2022-04-29T00:00:00",
          "2022-04-30T00:00:00",
          "2022-05-01T00:00:00",
          "2022-05-02T00:00:00",
          "2022-05-03T00:00:00",
          "2022-05-04T00:00:00",
          "2022-05-05T00:00:00",
          "2022-05-06T00:00:00",
          "2022-05-07T00:00:00",
          "2022-05-08T00:00:00",
          "2022-05-09T00:00:00",
          "2022-05-10T00:00:00",
          "2022-05-11T00:00:00",
          "2022-05-12T00:00:00",
          "2022-05-13T00:00:00",
          "2022-05-14T00:00:00",
          "2022-05-15T00:00:00",
          "2022-05-16T00:00:00",
          "2022-05-17T00:00:00",
          "2022-05-18T00:00:00",
          "2022-05-19T00:00:00",
          "2022-05-20T00:00:00",
          "2022-05-21T00:00:00",
          "2022-05-22T00:00:00",
          "2022-05-23T00:00:00",
          "2022-05-24T00:00:00",
          "2022-05-25T00:00:00",
          "2022-05-26T00:00:00",
          "2022-05-27T00:00:00",
          "2022-05-28T00:00:00",
          "2022-05-29T00:00:00",
          "2022-05-30T00:00:00",
          "2022-05-31T00:00:00",
          "2022-06-01T00:00:00",
          "2022-06-02T00:00:00",
          "2022-06-03T00:00:00",
          "2022-06-04T00:00:00",
          "2022-06-05T00:00:00",
          "2022-06-06T00:00:00",
          "2022-06-07T00:00:00",
          "2022-06-08T00:00:00",
          "2022-06-09T00:00:00",
          "2022-06-10T00:00:00",
          "2022-06-11T00:00:00",
          "2022-06-12T00:00:00",
          "2022-06-13T00:00:00",
          "2022-06-14T00:00:00",
          "2022-06-15T00:00:00",
          "2022-06-16T00:00:00",
          "2022-06-17T00:00:00",
          "2022-06-18T00:00:00",
          "2022-06-19T00:00:00",
          "2022-06-20T00:00:00",
          "2022-06-21T00:00:00",
          "2022-06-22T00:00:00",
          "2022-06-23T00:00:00",
          "2022-06-24T00:00:00",
          "2022-06-25T00:00:00",
          "2022-06-26T00:00:00",
          "2022-06-27T00:00:00",
          "2022-06-28T00:00:00",
          "2022-06-29T00:00:00",
          "2022-06-30T00:00:00",
          "2022-07-01T00:00:00",
          "2022-07-02T00:00:00",
          "2022-07-03T00:00:00",
          "2022-07-04T00:00:00",
          "2022-07-05T00:00:00",
          "2022-07-06T00:00:00",
          "2022-07-07T00:00:00",
          "2022-07-08T00:00:00",
          "2022-07-09T00:00:00",
          "2022-07-10T00:00:00",
          "2022-07-11T00:00:00",
          "2022-07-12T00:00:00",
          "2022-07-13T00:00:00",
          "2022-07-14T00:00:00",
          "2022-07-15T00:00:00",
          "2022-07-16T00:00:00",
          "2022-07-17T00:00:00",
          "2022-07-18T00:00:00",
          "2022-07-19T00:00:00",
          "2022-07-20T00:00:00",
          "2022-07-21T00:00:00",
          "2022-07-22T00:00:00",
          "2022-07-23T00:00:00",
          "2022-07-24T00:00:00",
          "2022-07-25T00:00:00",
          "2022-07-26T00:00:00",
          "2022-07-27T00:00:00",
          "2022-07-28T00:00:00",
          "2022-07-29T00:00:00",
          "2022-07-30T00:00:00",
          "2022-07-31T00:00:00",
          "2022-08-01T00:00:00",
          "2022-08-02T00:00:00",
          "2022-08-03T00:00:00",
          "2022-08-04T00:00:00",
          "2022-08-05T00:00:00",
          "2022-08-06T00:00:00",
          "2022-08-07T00:00:00",
          "2022-08-08T00:00:00",
          "2022-08-09T00:00:00",
          "2022-08-10T00:00:00",
          "2022-08-11T00:00:00",
          "2022-08-12T00:00:00",
          "2022-08-13T00:00:00",
          "2022-08-14T00:00:00",
          "2022-08-15T00:00:00",
          "2022-08-16T00:00:00",
          "2022-08-17T00:00:00",
          "2022-08-18T00:00:00",
          "2022-08-19T00:00:00",
          "2022-08-20T00:00:00",
          "2022-08-21T00:00:00",
          "2022-08-22T00:00:00",
          "2022-08-23T00:00:00",
          "2022-08-24T00:00:00",
          "2022-08-25T00:00:00",
          "2022-08-26T00:00:00",
          "2022-08-27T00:00:00",
          "2022-08-28T00:00:00",
          "2022-08-29T00:00:00",
          "2022-08-30T00:00:00",
          "2022-08-31T00:00:00",
          "2022-09-01T00:00:00",
          "2022-09-02T00:00:00",
          "2022-09-03T00:00:00",
          "2022-09-04T00:00:00",
          "2022-09-05T00:00:00",
          "2022-09-06T00:00:00",
          "2022-09-07T00:00:00",
          "2022-09-08T00:00:00",
          "2022-09-09T00:00:00",
          "2022-09-10T00:00:00",
          "2022-09-11T00:00:00",
          "2022-09-12T00:00:00",
          "2022-09-13T00:00:00",
          "2022-09-14T00:00:00",
          "2022-09-15T00:00:00",
          "2022-09-16T00:00:00",
          "2022-09-17T00:00:00",
          "2022-09-18T00:00:00",
          "2022-09-19T00:00:00",
          "2022-09-20T00:00:00",
          "2022-09-21T00:00:00",
          "2022-09-22T00:00:00",
          "2022-09-23T00:00:00",
          "2022-09-24T00:00:00",
          "2022-09-25T00:00:00",
          "2022-09-26T00:00:00",
          "2022-09-27T00:00:00",
          "2022-09-28T00:00:00",
          "2022-09-29T00:00:00",
          "2022-09-30T00:00:00",
          "2022-10-01T00:00:00",
          "2022-10-02T00:00:00",
          "2022-10-03T00:00:00",
          "2022-10-04T00:00:00",
          "2022-10-05T00:00:00",
          "2022-10-06T00:00:00",
          "2022-10-07T00:00:00",
          "2022-10-08T00:00:00",
          "2022-10-09T00:00:00",
          "2022-10-10T00:00:00",
          "2022-10-11T00:00:00",
          "2022-10-12T00:00:00",
          "2022-10-13T00:00:00",
          "2022-10-14T00:00:00",
          "2022-10-15T00:00:00",
          "2022-10-16T00:00:00",
          "2022-10-17T00:00:00",
          "2022-10-18T00:00:00",
          "2022-10-19T00:00:00",
          "2022-10-20T00:00:00",
          "2022-10-21T00:00:00",
          "2022-10-22T00:00:00",
          "2022-10-23T00:00:00",
          "2022-10-24T00:00:00",
          "2022-10-25T00:00:00",
          "2022-10-26T00:00:00",
          "2022-10-27T00:00:00",
          "2022-10-28T00:00:00",
          "2022-10-29T00:00:00",
          "2022-10-30T00:00:00",
          "2022-10-31T00:00:00",
          "2022-11-01T00:00:00",
          "2022-11-02T00:00:00",
          "2022-11-03T00:00:00",
          "2022-11-04T00:00:00",
          "2022-11-05T00:00:00",
          "2022-11-06T00:00:00",
          "2022-11-07T00:00:00",
          "2022-11-08T00:00:00",
          "2022-11-09T00:00:00",
          "2022-11-10T00:00:00",
          "2022-11-11T00:00:00",
          "2022-11-12T00:00:00",
          "2022-11-13T00:00:00",
          "2022-11-14T00:00:00",
          "2022-11-15T00:00:00",
          "2022-11-16T00:00:00",
          "2022-11-17T00:00:00",
          "2022-11-18T00:00:00",
          "2022-11-19T00:00:00",
          "2022-11-20T00:00:00",
          "2022-11-21T00:00:00",
          "2022-11-22T00:00:00",
          "2022-11-23T00:00:00",
          "2022-11-24T00:00:00",
          "2022-11-25T00:00:00",
          "2022-11-26T00:00:00",
          "2022-11-27T00:00:00",
          "2022-11-28T00:00:00",
          "2022-11-29T00:00:00",
          "2022-11-30T00:00:00",
          "2022-12-01T00:00:00",
          "2022-12-02T00:00:00",
          "2022-12-03T00:00:00",
          "2022-12-04T00:00:00",
          "2022-12-05T00:00:00",
          "2022-12-06T00:00:00",
          "2022-12-07T00:00:00",
          "2022-12-08T00:00:00",
          "2022-12-09T00:00:00",
          "2022-12-10T00:00:00",
          "2022-12-11T00:00:00",
          "2022-12-12T00:00:00",
          "2022-12-13T00:00:00",
          "2022-12-14T00:00:00",
          "2022-12-15T00:00:00",
          "2022-12-16T00:00:00",
          "2022-12-17T00:00:00",
          "2022-12-18T00:00:00",
          "2022-12-19T00:00:00",
          "2022-12-20T00:00:00",
          "2022-12-21T00:00:00",
          "2022-12-22T00:00:00",
          "2022-12-23T00:00:00",
          "2022-12-24T00:00:00",
          "2022-12-25T00:00:00",
          "2022-12-26T00:00:00",
          "2022-12-27T00:00:00",
          "2022-12-28T00:00:00",
          "2022-12-29T00:00:00",
          "2022-12-30T00:00:00",
          "2022-12-31T00:00:00"
         ],
         "xaxis": "x",
         "y": [
          1,
          1,
          1,
          1,
          1,
          1,
          1,
          1,
          1,
          1,
          1,
          1,
          1,
          1,
          1,
          1,
          1,
          3,
          3,
          3,
          3,
          3,
          3,
          3,
          3,
          3,
          3,
          3,
          3,
          3,
          3,
          3,
          3,
          3,
          3,
          4,
          4,
          4,
          4,
          4,
          4,
          4,
          4,
          4,
          4,
          4,
          4,
          4,
          4,
          4,
          4,
          4,
          4,
          4,
          4,
          4,
          4,
          4,
          4,
          4,
          5,
          5,
          5,
          5,
          5,
          5,
          5,
          5,
          5,
          5,
          5,
          5,
          5,
          5,
          5,
          10,
          10,
          10,
          10,
          10,
          10,
          10,
          10,
          10,
          10,
          10,
          10,
          10,
          10,
          10,
          10,
          10,
          10,
          10,
          11,
          11,
          11,
          11,
          11,
          11,
          11,
          11,
          11,
          11,
          11,
          11,
          11,
          11,
          11,
          11,
          11,
          11,
          11,
          11,
          11,
          11,
          11,
          11,
          11,
          11,
          11,
          11,
          11,
          11,
          18,
          18,
          18,
          18,
          18,
          18,
          18,
          18,
          18,
          18,
          18,
          18,
          18,
          18,
          18,
          18,
          18,
          18,
          18,
          18,
          18,
          18,
          57,
          57,
          57,
          57,
          57,
          57,
          57,
          57,
          57,
          57,
          57,
          57,
          57,
          57,
          72,
          72,
          84,
          84,
          85,
          94,
          135,
          154,
          215,
          229,
          243,
          291,
          291,
          343,
          382,
          382,
          433,
          433,
          555,
          555,
          718,
          865,
          1005,
          1005,
          1005,
          1495,
          1565,
          1932,
          2201,
          2201,
          2201,
          2953,
          2953,
          2953,
          3756,
          3756,
          3756,
          3756,
          3756,
          3756,
          3756,
          4957,
          4957,
          4957,
          4957,
          4957,
          5341,
          5341,
          5341,
          5517,
          5517,
          5517,
          5517,
          5517,
          5517,
          5517,
          5517,
          5517,
          5517,
          5517,
          5517,
          5517,
          5517,
          5517,
          5517,
          5517,
          5517,
          5793,
          5793,
          5793,
          5812,
          5812,
          5812,
          5812,
          5812,
          5904,
          5930,
          5930,
          5930,
          5930,
          5930,
          5930,
          5938,
          5938,
          5938,
          6011,
          6011,
          6011,
          6011,
          6011,
          6011,
          6110,
          6130,
          6130,
          6130,
          6130,
          6145,
          6145,
          6192,
          6192,
          6192,
          6192,
          6192,
          6192,
          6192,
          6192,
          6192,
          6192,
          6192,
          6192,
          6192,
          6270,
          6270,
          6342,
          6342,
          6342,
          6342,
          6342,
          6342,
          6342,
          6414,
          6414,
          6414,
          6414,
          6414,
          6414,
          6414,
          6505,
          6505,
          6505,
          6505,
          6505,
          6505,
          6505,
          6505,
          6505,
          6505,
          6505,
          6505,
          6505,
          6505,
          6505,
          6505,
          6505,
          7144,
          7144,
          7471,
          7471,
          7471,
          7471,
          7471,
          7471,
          7471,
          7471,
          7471,
          7471,
          7471,
          7471,
          7471,
          7471,
          7766,
          7952,
          7952,
          7952,
          7952,
          7952,
          7952,
          7952,
          7471,
          7471,
          7471,
          7471,
          7471,
          7471,
          7471,
          7471,
          7471,
          7471,
          7471,
          7471,
          7471,
          7471,
          7471,
          7471,
          7471,
          7471,
          7471,
          8168,
          8168,
          8168,
          8168,
          8168,
          8168,
          8168,
          8168,
          8217,
          8217,
          8217,
          8217,
          8217,
          8217,
          8217,
          8217,
          8217,
          8217,
          8217,
          8217,
          8217,
          8217,
          8217,
          8217,
          8217,
          8217,
          8217,
          8244,
          8244,
          8244,
          8244,
          8244,
          8244,
          8244,
          8244,
          8244,
          8244,
          8244,
          8244,
          8244,
          8244,
          8244,
          8244,
          8244,
          8250,
          8251,
          8251,
          8251,
          8251,
          8251,
          8251,
          8251,
          8251,
          8251,
          8251,
          8251,
          8251,
          8251,
          8251,
          8257,
          8257,
          8257,
          8257,
          8257,
          8257,
          8257,
          8257,
          8257,
          8257,
          8257,
          8257,
          8257,
          8257,
          8257,
          8257,
          8257,
          8257,
          8257,
          8257,
          8262,
          8262,
          8262,
          8262,
          8262,
          8262,
          8262,
          8262,
          8262,
          8262,
          8262,
          8262,
          8262,
          8262,
          8263,
          8263,
          8263,
          8263,
          8263,
          8263,
          8263,
          8264,
          8264,
          8264,
          8264,
          8264,
          8264,
          8264,
          8265,
          8265,
          8265,
          8265,
          8265,
          8265,
          8265,
          8266,
          8266,
          8266,
          8266,
          8266,
          8266,
          8266,
          8266,
          8266,
          8266
         ],
         "yaxis": "y"
        },
        {
         "hovertemplate": "variable=deaths<br>date=%{x}<br>value=%{y}<extra></extra>",
         "legendgroup": "deaths",
         "line": {
          "color": "#EF553B",
          "dash": "solid"
         },
         "marker": {
          "symbol": "circle"
         },
         "mode": "lines",
         "name": "deaths",
         "orientation": "v",
         "showlegend": true,
         "type": "scatter",
         "x": [
          "2021-09-17T00:00:00",
          "2021-09-18T00:00:00",
          "2021-09-19T00:00:00",
          "2021-09-20T00:00:00",
          "2021-09-21T00:00:00",
          "2021-09-22T00:00:00",
          "2021-09-23T00:00:00",
          "2021-09-24T00:00:00",
          "2021-09-25T00:00:00",
          "2021-09-26T00:00:00",
          "2021-09-27T00:00:00",
          "2021-09-28T00:00:00",
          "2021-09-29T00:00:00",
          "2021-09-30T00:00:00",
          "2021-10-01T00:00:00",
          "2021-10-02T00:00:00",
          "2021-10-03T00:00:00",
          "2021-10-04T00:00:00",
          "2021-10-05T00:00:00",
          "2021-10-06T00:00:00",
          "2021-10-07T00:00:00",
          "2021-10-08T00:00:00",
          "2021-10-09T00:00:00",
          "2021-10-10T00:00:00",
          "2021-10-11T00:00:00",
          "2021-10-12T00:00:00",
          "2021-10-13T00:00:00",
          "2021-10-14T00:00:00",
          "2021-10-15T00:00:00",
          "2021-10-16T00:00:00",
          "2021-10-17T00:00:00",
          "2021-10-18T00:00:00",
          "2021-10-19T00:00:00",
          "2021-10-20T00:00:00",
          "2021-10-21T00:00:00",
          "2021-10-22T00:00:00",
          "2021-10-23T00:00:00",
          "2021-10-24T00:00:00",
          "2021-10-25T00:00:00",
          "2021-10-26T00:00:00",
          "2021-10-27T00:00:00",
          "2021-10-28T00:00:00",
          "2021-10-29T00:00:00",
          "2021-10-30T00:00:00",
          "2021-10-31T00:00:00",
          "2021-11-01T00:00:00",
          "2021-11-02T00:00:00",
          "2021-11-03T00:00:00",
          "2021-11-04T00:00:00",
          "2021-11-05T00:00:00",
          "2021-11-06T00:00:00",
          "2021-11-07T00:00:00",
          "2021-11-08T00:00:00",
          "2021-11-09T00:00:00",
          "2021-11-10T00:00:00",
          "2021-11-11T00:00:00",
          "2021-11-12T00:00:00",
          "2021-11-13T00:00:00",
          "2021-11-14T00:00:00",
          "2021-11-15T00:00:00",
          "2021-11-16T00:00:00",
          "2021-11-17T00:00:00",
          "2021-11-18T00:00:00",
          "2021-11-19T00:00:00",
          "2021-11-20T00:00:00",
          "2021-11-21T00:00:00",
          "2021-11-22T00:00:00",
          "2021-11-23T00:00:00",
          "2021-11-24T00:00:00",
          "2021-11-25T00:00:00",
          "2021-11-26T00:00:00",
          "2021-11-27T00:00:00",
          "2021-11-28T00:00:00",
          "2021-11-29T00:00:00",
          "2021-11-30T00:00:00",
          "2021-12-01T00:00:00",
          "2021-12-02T00:00:00",
          "2021-12-03T00:00:00",
          "2021-12-04T00:00:00",
          "2021-12-05T00:00:00",
          "2021-12-06T00:00:00",
          "2021-12-07T00:00:00",
          "2021-12-08T00:00:00",
          "2021-12-09T00:00:00",
          "2021-12-10T00:00:00",
          "2021-12-11T00:00:00",
          "2021-12-12T00:00:00",
          "2021-12-13T00:00:00",
          "2021-12-14T00:00:00",
          "2021-12-15T00:00:00",
          "2021-12-16T00:00:00",
          "2021-12-17T00:00:00",
          "2021-12-18T00:00:00",
          "2021-12-19T00:00:00",
          "2021-12-20T00:00:00",
          "2021-12-21T00:00:00",
          "2021-12-22T00:00:00",
          "2021-12-23T00:00:00",
          "2021-12-24T00:00:00",
          "2021-12-25T00:00:00",
          "2021-12-26T00:00:00",
          "2021-12-27T00:00:00",
          "2021-12-28T00:00:00",
          "2021-12-29T00:00:00",
          "2021-12-30T00:00:00",
          "2021-12-31T00:00:00",
          "2022-01-01T00:00:00",
          "2022-01-02T00:00:00",
          "2022-01-03T00:00:00",
          "2022-01-04T00:00:00",
          "2022-01-05T00:00:00",
          "2022-01-06T00:00:00",
          "2022-01-07T00:00:00",
          "2022-01-08T00:00:00",
          "2022-01-09T00:00:00",
          "2022-01-10T00:00:00",
          "2022-01-11T00:00:00",
          "2022-01-12T00:00:00",
          "2022-01-13T00:00:00",
          "2022-01-14T00:00:00",
          "2022-01-15T00:00:00",
          "2022-01-16T00:00:00",
          "2022-01-17T00:00:00",
          "2022-01-18T00:00:00",
          "2022-01-19T00:00:00",
          "2022-01-20T00:00:00",
          "2022-01-21T00:00:00",
          "2022-01-22T00:00:00",
          "2022-01-23T00:00:00",
          "2022-01-24T00:00:00",
          "2022-01-25T00:00:00",
          "2022-01-26T00:00:00",
          "2022-01-27T00:00:00",
          "2022-01-28T00:00:00",
          "2022-01-29T00:00:00",
          "2022-01-30T00:00:00",
          "2022-01-31T00:00:00",
          "2022-02-01T00:00:00",
          "2022-02-02T00:00:00",
          "2022-02-03T00:00:00",
          "2022-02-04T00:00:00",
          "2022-02-05T00:00:00",
          "2022-02-06T00:00:00",
          "2022-02-07T00:00:00",
          "2022-02-08T00:00:00",
          "2022-02-09T00:00:00",
          "2022-02-10T00:00:00",
          "2022-02-11T00:00:00",
          "2022-02-12T00:00:00",
          "2022-02-13T00:00:00",
          "2022-02-14T00:00:00",
          "2022-02-15T00:00:00",
          "2022-02-16T00:00:00",
          "2022-02-17T00:00:00",
          "2022-02-18T00:00:00",
          "2022-02-19T00:00:00",
          "2022-02-20T00:00:00",
          "2022-02-21T00:00:00",
          "2022-02-22T00:00:00",
          "2022-02-23T00:00:00",
          "2022-02-24T00:00:00",
          "2022-02-25T00:00:00",
          "2022-02-26T00:00:00",
          "2022-02-27T00:00:00",
          "2022-02-28T00:00:00",
          "2022-03-01T00:00:00",
          "2022-03-02T00:00:00",
          "2022-03-03T00:00:00",
          "2022-03-04T00:00:00",
          "2022-03-05T00:00:00",
          "2022-03-06T00:00:00",
          "2022-03-07T00:00:00",
          "2022-03-08T00:00:00",
          "2022-03-09T00:00:00",
          "2022-03-10T00:00:00",
          "2022-03-11T00:00:00",
          "2022-03-12T00:00:00",
          "2022-03-13T00:00:00",
          "2022-03-14T00:00:00",
          "2022-03-15T00:00:00",
          "2022-03-16T00:00:00",
          "2022-03-17T00:00:00",
          "2022-03-18T00:00:00",
          "2022-03-19T00:00:00",
          "2022-03-20T00:00:00",
          "2022-03-21T00:00:00",
          "2022-03-22T00:00:00",
          "2022-03-23T00:00:00",
          "2022-03-24T00:00:00",
          "2022-03-25T00:00:00",
          "2022-03-26T00:00:00",
          "2022-03-27T00:00:00",
          "2022-03-28T00:00:00",
          "2022-03-29T00:00:00",
          "2022-03-30T00:00:00",
          "2022-03-31T00:00:00",
          "2022-04-01T00:00:00",
          "2022-04-02T00:00:00",
          "2022-04-03T00:00:00",
          "2022-04-04T00:00:00",
          "2022-04-05T00:00:00",
          "2022-04-06T00:00:00",
          "2022-04-07T00:00:00",
          "2022-04-08T00:00:00",
          "2022-04-09T00:00:00",
          "2022-04-10T00:00:00",
          "2022-04-11T00:00:00",
          "2022-04-12T00:00:00",
          "2022-04-13T00:00:00",
          "2022-04-14T00:00:00",
          "2022-04-15T00:00:00",
          "2022-04-16T00:00:00",
          "2022-04-17T00:00:00",
          "2022-04-18T00:00:00",
          "2022-04-19T00:00:00",
          "2022-04-20T00:00:00",
          "2022-04-21T00:00:00",
          "2022-04-22T00:00:00",
          "2022-04-23T00:00:00",
          "2022-04-24T00:00:00",
          "2022-04-25T00:00:00",
          "2022-04-26T00:00:00",
          "2022-04-27T00:00:00",
          "2022-04-28T00:00:00",
          "2022-04-29T00:00:00",
          "2022-04-30T00:00:00",
          "2022-05-01T00:00:00",
          "2022-05-02T00:00:00",
          "2022-05-03T00:00:00",
          "2022-05-04T00:00:00",
          "2022-05-05T00:00:00",
          "2022-05-06T00:00:00",
          "2022-05-07T00:00:00",
          "2022-05-08T00:00:00",
          "2022-05-09T00:00:00",
          "2022-05-10T00:00:00",
          "2022-05-11T00:00:00",
          "2022-05-12T00:00:00",
          "2022-05-13T00:00:00",
          "2022-05-14T00:00:00",
          "2022-05-15T00:00:00",
          "2022-05-16T00:00:00",
          "2022-05-17T00:00:00",
          "2022-05-18T00:00:00",
          "2022-05-19T00:00:00",
          "2022-05-20T00:00:00",
          "2022-05-21T00:00:00",
          "2022-05-22T00:00:00",
          "2022-05-23T00:00:00",
          "2022-05-24T00:00:00",
          "2022-05-25T00:00:00",
          "2022-05-26T00:00:00",
          "2022-05-27T00:00:00",
          "2022-05-28T00:00:00",
          "2022-05-29T00:00:00",
          "2022-05-30T00:00:00",
          "2022-05-31T00:00:00",
          "2022-06-01T00:00:00",
          "2022-06-02T00:00:00",
          "2022-06-03T00:00:00",
          "2022-06-04T00:00:00",
          "2022-06-05T00:00:00",
          "2022-06-06T00:00:00",
          "2022-06-07T00:00:00",
          "2022-06-08T00:00:00",
          "2022-06-09T00:00:00",
          "2022-06-10T00:00:00",
          "2022-06-11T00:00:00",
          "2022-06-12T00:00:00",
          "2022-06-13T00:00:00",
          "2022-06-14T00:00:00",
          "2022-06-15T00:00:00",
          "2022-06-16T00:00:00",
          "2022-06-17T00:00:00",
          "2022-06-18T00:00:00",
          "2022-06-19T00:00:00",
          "2022-06-20T00:00:00",
          "2022-06-21T00:00:00",
          "2022-06-22T00:00:00",
          "2022-06-23T00:00:00",
          "2022-06-24T00:00:00",
          "2022-06-25T00:00:00",
          "2022-06-26T00:00:00",
          "2022-06-27T00:00:00",
          "2022-06-28T00:00:00",
          "2022-06-29T00:00:00",
          "2022-06-30T00:00:00",
          "2022-07-01T00:00:00",
          "2022-07-02T00:00:00",
          "2022-07-03T00:00:00",
          "2022-07-04T00:00:00",
          "2022-07-05T00:00:00",
          "2022-07-06T00:00:00",
          "2022-07-07T00:00:00",
          "2022-07-08T00:00:00",
          "2022-07-09T00:00:00",
          "2022-07-10T00:00:00",
          "2022-07-11T00:00:00",
          "2022-07-12T00:00:00",
          "2022-07-13T00:00:00",
          "2022-07-14T00:00:00",
          "2022-07-15T00:00:00",
          "2022-07-16T00:00:00",
          "2022-07-17T00:00:00",
          "2022-07-18T00:00:00",
          "2022-07-19T00:00:00",
          "2022-07-20T00:00:00",
          "2022-07-21T00:00:00",
          "2022-07-22T00:00:00",
          "2022-07-23T00:00:00",
          "2022-07-24T00:00:00",
          "2022-07-25T00:00:00",
          "2022-07-26T00:00:00",
          "2022-07-27T00:00:00",
          "2022-07-28T00:00:00",
          "2022-07-29T00:00:00",
          "2022-07-30T00:00:00",
          "2022-07-31T00:00:00",
          "2022-08-01T00:00:00",
          "2022-08-02T00:00:00",
          "2022-08-03T00:00:00",
          "2022-08-04T00:00:00",
          "2022-08-05T00:00:00",
          "2022-08-06T00:00:00",
          "2022-08-07T00:00:00",
          "2022-08-08T00:00:00",
          "2022-08-09T00:00:00",
          "2022-08-10T00:00:00",
          "2022-08-11T00:00:00",
          "2022-08-12T00:00:00",
          "2022-08-13T00:00:00",
          "2022-08-14T00:00:00",
          "2022-08-15T00:00:00",
          "2022-08-16T00:00:00",
          "2022-08-17T00:00:00",
          "2022-08-18T00:00:00",
          "2022-08-19T00:00:00",
          "2022-08-20T00:00:00",
          "2022-08-21T00:00:00",
          "2022-08-22T00:00:00",
          "2022-08-23T00:00:00",
          "2022-08-24T00:00:00",
          "2022-08-25T00:00:00",
          "2022-08-26T00:00:00",
          "2022-08-27T00:00:00",
          "2022-08-28T00:00:00",
          "2022-08-29T00:00:00",
          "2022-08-30T00:00:00",
          "2022-08-31T00:00:00",
          "2022-09-01T00:00:00",
          "2022-09-02T00:00:00",
          "2022-09-03T00:00:00",
          "2022-09-04T00:00:00",
          "2022-09-05T00:00:00",
          "2022-09-06T00:00:00",
          "2022-09-07T00:00:00",
          "2022-09-08T00:00:00",
          "2022-09-09T00:00:00",
          "2022-09-10T00:00:00",
          "2022-09-11T00:00:00",
          "2022-09-12T00:00:00",
          "2022-09-13T00:00:00",
          "2022-09-14T00:00:00",
          "2022-09-15T00:00:00",
          "2022-09-16T00:00:00",
          "2022-09-17T00:00:00",
          "2022-09-18T00:00:00",
          "2022-09-19T00:00:00",
          "2022-09-20T00:00:00",
          "2022-09-21T00:00:00",
          "2022-09-22T00:00:00",
          "2022-09-23T00:00:00",
          "2022-09-24T00:00:00",
          "2022-09-25T00:00:00",
          "2022-09-26T00:00:00",
          "2022-09-27T00:00:00",
          "2022-09-28T00:00:00",
          "2022-09-29T00:00:00",
          "2022-09-30T00:00:00",
          "2022-10-01T00:00:00",
          "2022-10-02T00:00:00",
          "2022-10-03T00:00:00",
          "2022-10-04T00:00:00",
          "2022-10-05T00:00:00",
          "2022-10-06T00:00:00",
          "2022-10-07T00:00:00",
          "2022-10-08T00:00:00",
          "2022-10-09T00:00:00",
          "2022-10-10T00:00:00",
          "2022-10-11T00:00:00",
          "2022-10-12T00:00:00",
          "2022-10-13T00:00:00",
          "2022-10-14T00:00:00",
          "2022-10-15T00:00:00",
          "2022-10-16T00:00:00",
          "2022-10-17T00:00:00",
          "2022-10-18T00:00:00",
          "2022-10-19T00:00:00",
          "2022-10-20T00:00:00",
          "2022-10-21T00:00:00",
          "2022-10-22T00:00:00",
          "2022-10-23T00:00:00",
          "2022-10-24T00:00:00",
          "2022-10-25T00:00:00",
          "2022-10-26T00:00:00",
          "2022-10-27T00:00:00",
          "2022-10-28T00:00:00",
          "2022-10-29T00:00:00",
          "2022-10-30T00:00:00",
          "2022-10-31T00:00:00",
          "2022-11-01T00:00:00",
          "2022-11-02T00:00:00",
          "2022-11-03T00:00:00",
          "2022-11-04T00:00:00",
          "2022-11-05T00:00:00",
          "2022-11-06T00:00:00",
          "2022-11-07T00:00:00",
          "2022-11-08T00:00:00",
          "2022-11-09T00:00:00",
          "2022-11-10T00:00:00",
          "2022-11-11T00:00:00",
          "2022-11-12T00:00:00",
          "2022-11-13T00:00:00",
          "2022-11-14T00:00:00",
          "2022-11-15T00:00:00",
          "2022-11-16T00:00:00",
          "2022-11-17T00:00:00",
          "2022-11-18T00:00:00",
          "2022-11-19T00:00:00",
          "2022-11-20T00:00:00",
          "2022-11-21T00:00:00",
          "2022-11-22T00:00:00",
          "2022-11-23T00:00:00",
          "2022-11-24T00:00:00",
          "2022-11-25T00:00:00",
          "2022-11-26T00:00:00",
          "2022-11-27T00:00:00",
          "2022-11-28T00:00:00",
          "2022-11-29T00:00:00",
          "2022-11-30T00:00:00",
          "2022-12-01T00:00:00",
          "2022-12-02T00:00:00",
          "2022-12-03T00:00:00",
          "2022-12-04T00:00:00",
          "2022-12-05T00:00:00",
          "2022-12-06T00:00:00",
          "2022-12-07T00:00:00",
          "2022-12-08T00:00:00",
          "2022-12-09T00:00:00",
          "2022-12-10T00:00:00",
          "2022-12-11T00:00:00",
          "2022-12-12T00:00:00",
          "2022-12-13T00:00:00",
          "2022-12-14T00:00:00",
          "2022-12-15T00:00:00",
          "2022-12-16T00:00:00",
          "2022-12-17T00:00:00",
          "2022-12-18T00:00:00",
          "2022-12-19T00:00:00",
          "2022-12-20T00:00:00",
          "2022-12-21T00:00:00",
          "2022-12-22T00:00:00",
          "2022-12-23T00:00:00",
          "2022-12-24T00:00:00",
          "2022-12-25T00:00:00",
          "2022-12-26T00:00:00",
          "2022-12-27T00:00:00",
          "2022-12-28T00:00:00",
          "2022-12-29T00:00:00",
          "2022-12-30T00:00:00",
          "2022-12-31T00:00:00"
         ],
         "xaxis": "x",
         "y": [
          0,
          0,
          0,
          0,
          0,
          0,
          0,
          0,
          0,
          0,
          0,
          0,
          0,
          0,
          0,
          0,
          0,
          0,
          0,
          0,
          0,
          0,
          0,
          0,
          0,
          0,
          0,
          0,
          0,
          0,
          0,
          0,
          0,
          0,
          0,
          0,
          0,
          0,
          0,
          0,
          0,
          0,
          0,
          0,
          0,
          0,
          0,
          0,
          0,
          0,
          0,
          0,
          0,
          0,
          0,
          0,
          0,
          0,
          0,
          0,
          0,
          0,
          0,
          0,
          0,
          0,
          0,
          0,
          0,
          0,
          0,
          0,
          0,
          0,
          0,
          0,
          0,
          0,
          0,
          0,
          0,
          0,
          0,
          0,
          0,
          0,
          0,
          0,
          0,
          0,
          0,
          0,
          0,
          0,
          0,
          0,
          0,
          0,
          0,
          0,
          0,
          0,
          0,
          0,
          0,
          0,
          0,
          0,
          0,
          0,
          0,
          0,
          0,
          0,
          0,
          0,
          0,
          0,
          0,
          0,
          0,
          0,
          0,
          0,
          0,
          0,
          0,
          0,
          0,
          0,
          0,
          0,
          0,
          0,
          0,
          0,
          0,
          0,
          0,
          0,
          0,
          0,
          0,
          0,
          0,
          0,
          0,
          0,
          0,
          0,
          0,
          0,
          0,
          0,
          0,
          0,
          0,
          0,
          0,
          0,
          0,
          0,
          0,
          0,
          0,
          0,
          0,
          0,
          0,
          0,
          0,
          0,
          0,
          0,
          0,
          0,
          0,
          0,
          0,
          0,
          0,
          0,
          0,
          0,
          0,
          0,
          0,
          0,
          0,
          0,
          0,
          0,
          0,
          0,
          0,
          0,
          0,
          0,
          0,
          0,
          0,
          8,
          8,
          8,
          8,
          8,
          12,
          12,
          12,
          12,
          12,
          12,
          12,
          12,
          12,
          12,
          12,
          12,
          12,
          12,
          12,
          12,
          12,
          12,
          12,
          12,
          12,
          26,
          26,
          26,
          27,
          27,
          27,
          27,
          27,
          29,
          30,
          30,
          30,
          30,
          30,
          30,
          30,
          30,
          30,
          30,
          30,
          30,
          30,
          30,
          30,
          31,
          31,
          31,
          31,
          31,
          31,
          31,
          31,
          31,
          31,
          31,
          31,
          31,
          31,
          31,
          31,
          31,
          31,
          31,
          31,
          31,
          31,
          31,
          31,
          31,
          31,
          31,
          31,
          31,
          31,
          31,
          31,
          31,
          31,
          31,
          31,
          31,
          31,
          31,
          31,
          31,
          31,
          31,
          31,
          31,
          31,
          31,
          31,
          31,
          31,
          31,
          31,
          31,
          32,
          32,
          33,
          33,
          33,
          33,
          33,
          33,
          33,
          33,
          33,
          33,
          33,
          33,
          33,
          33,
          33,
          33,
          33,
          33,
          33,
          33,
          33,
          33,
          33,
          33,
          33,
          33,
          33,
          33,
          33,
          33,
          33,
          33,
          33,
          33,
          33,
          33,
          33,
          33,
          33,
          33,
          33,
          34,
          34,
          34,
          34,
          34,
          34,
          34,
          34,
          34,
          34,
          34,
          34,
          34,
          34,
          34,
          34,
          34,
          34,
          34,
          34,
          34,
          34,
          34,
          34,
          34,
          34,
          34,
          34,
          34,
          34,
          34,
          34,
          34,
          34,
          34,
          34,
          34,
          34,
          34,
          34,
          34,
          34,
          34,
          34,
          34,
          34,
          34,
          34,
          34,
          34,
          34,
          34,
          34,
          34,
          34,
          34,
          34,
          34,
          34,
          34,
          34,
          34,
          34,
          34,
          34,
          34,
          34,
          34,
          34,
          34,
          34,
          34,
          34,
          34,
          34,
          34,
          34,
          34,
          34,
          34,
          34,
          34,
          34,
          34,
          34,
          34,
          34,
          34,
          34,
          34,
          34,
          34,
          34,
          34,
          34,
          34,
          34,
          34,
          34,
          34,
          34,
          34,
          34,
          34,
          34,
          34,
          34,
          34,
          34,
          34,
          34,
          34,
          34,
          34,
          34,
          34,
          34,
          34,
          34,
          34,
          34,
          34,
          34,
          34
         ],
         "yaxis": "y"
        }
       ],
       "layout": {
        "legend": {
         "title": {
          "text": "variable"
         },
         "tracegroupgap": 0
        },
        "template": {
         "data": {
          "bar": [
           {
            "error_x": {
             "color": "#2a3f5f"
            },
            "error_y": {
             "color": "#2a3f5f"
            },
            "marker": {
             "line": {
              "color": "#E5ECF6",
              "width": 0.5
             },
             "pattern": {
              "fillmode": "overlay",
              "size": 10,
              "solidity": 0.2
             }
            },
            "type": "bar"
           }
          ],
          "barpolar": [
           {
            "marker": {
             "line": {
              "color": "#E5ECF6",
              "width": 0.5
             },
             "pattern": {
              "fillmode": "overlay",
              "size": 10,
              "solidity": 0.2
             }
            },
            "type": "barpolar"
           }
          ],
          "carpet": [
           {
            "aaxis": {
             "endlinecolor": "#2a3f5f",
             "gridcolor": "white",
             "linecolor": "white",
             "minorgridcolor": "white",
             "startlinecolor": "#2a3f5f"
            },
            "baxis": {
             "endlinecolor": "#2a3f5f",
             "gridcolor": "white",
             "linecolor": "white",
             "minorgridcolor": "white",
             "startlinecolor": "#2a3f5f"
            },
            "type": "carpet"
           }
          ],
          "choropleth": [
           {
            "colorbar": {
             "outlinewidth": 0,
             "ticks": ""
            },
            "type": "choropleth"
           }
          ],
          "contour": [
           {
            "colorbar": {
             "outlinewidth": 0,
             "ticks": ""
            },
            "colorscale": [
             [
              0,
              "#0d0887"
             ],
             [
              0.1111111111111111,
              "#46039f"
             ],
             [
              0.2222222222222222,
              "#7201a8"
             ],
             [
              0.3333333333333333,
              "#9c179e"
             ],
             [
              0.4444444444444444,
              "#bd3786"
             ],
             [
              0.5555555555555556,
              "#d8576b"
             ],
             [
              0.6666666666666666,
              "#ed7953"
             ],
             [
              0.7777777777777778,
              "#fb9f3a"
             ],
             [
              0.8888888888888888,
              "#fdca26"
             ],
             [
              1,
              "#f0f921"
             ]
            ],
            "type": "contour"
           }
          ],
          "contourcarpet": [
           {
            "colorbar": {
             "outlinewidth": 0,
             "ticks": ""
            },
            "type": "contourcarpet"
           }
          ],
          "heatmap": [
           {
            "colorbar": {
             "outlinewidth": 0,
             "ticks": ""
            },
            "colorscale": [
             [
              0,
              "#0d0887"
             ],
             [
              0.1111111111111111,
              "#46039f"
             ],
             [
              0.2222222222222222,
              "#7201a8"
             ],
             [
              0.3333333333333333,
              "#9c179e"
             ],
             [
              0.4444444444444444,
              "#bd3786"
             ],
             [
              0.5555555555555556,
              "#d8576b"
             ],
             [
              0.6666666666666666,
              "#ed7953"
             ],
             [
              0.7777777777777778,
              "#fb9f3a"
             ],
             [
              0.8888888888888888,
              "#fdca26"
             ],
             [
              1,
              "#f0f921"
             ]
            ],
            "type": "heatmap"
           }
          ],
          "heatmapgl": [
           {
            "colorbar": {
             "outlinewidth": 0,
             "ticks": ""
            },
            "colorscale": [
             [
              0,
              "#0d0887"
             ],
             [
              0.1111111111111111,
              "#46039f"
             ],
             [
              0.2222222222222222,
              "#7201a8"
             ],
             [
              0.3333333333333333,
              "#9c179e"
             ],
             [
              0.4444444444444444,
              "#bd3786"
             ],
             [
              0.5555555555555556,
              "#d8576b"
             ],
             [
              0.6666666666666666,
              "#ed7953"
             ],
             [
              0.7777777777777778,
              "#fb9f3a"
             ],
             [
              0.8888888888888888,
              "#fdca26"
             ],
             [
              1,
              "#f0f921"
             ]
            ],
            "type": "heatmapgl"
           }
          ],
          "histogram": [
           {
            "marker": {
             "pattern": {
              "fillmode": "overlay",
              "size": 10,
              "solidity": 0.2
             }
            },
            "type": "histogram"
           }
          ],
          "histogram2d": [
           {
            "colorbar": {
             "outlinewidth": 0,
             "ticks": ""
            },
            "colorscale": [
             [
              0,
              "#0d0887"
             ],
             [
              0.1111111111111111,
              "#46039f"
             ],
             [
              0.2222222222222222,
              "#7201a8"
             ],
             [
              0.3333333333333333,
              "#9c179e"
             ],
             [
              0.4444444444444444,
              "#bd3786"
             ],
             [
              0.5555555555555556,
              "#d8576b"
             ],
             [
              0.6666666666666666,
              "#ed7953"
             ],
             [
              0.7777777777777778,
              "#fb9f3a"
             ],
             [
              0.8888888888888888,
              "#fdca26"
             ],
             [
              1,
              "#f0f921"
             ]
            ],
            "type": "histogram2d"
           }
          ],
          "histogram2dcontour": [
           {
            "colorbar": {
             "outlinewidth": 0,
             "ticks": ""
            },
            "colorscale": [
             [
              0,
              "#0d0887"
             ],
             [
              0.1111111111111111,
              "#46039f"
             ],
             [
              0.2222222222222222,
              "#7201a8"
             ],
             [
              0.3333333333333333,
              "#9c179e"
             ],
             [
              0.4444444444444444,
              "#bd3786"
             ],
             [
              0.5555555555555556,
              "#d8576b"
             ],
             [
              0.6666666666666666,
              "#ed7953"
             ],
             [
              0.7777777777777778,
              "#fb9f3a"
             ],
             [
              0.8888888888888888,
              "#fdca26"
             ],
             [
              1,
              "#f0f921"
             ]
            ],
            "type": "histogram2dcontour"
           }
          ],
          "mesh3d": [
           {
            "colorbar": {
             "outlinewidth": 0,
             "ticks": ""
            },
            "type": "mesh3d"
           }
          ],
          "parcoords": [
           {
            "line": {
             "colorbar": {
              "outlinewidth": 0,
              "ticks": ""
             }
            },
            "type": "parcoords"
           }
          ],
          "pie": [
           {
            "automargin": true,
            "type": "pie"
           }
          ],
          "scatter": [
           {
            "fillpattern": {
             "fillmode": "overlay",
             "size": 10,
             "solidity": 0.2
            },
            "type": "scatter"
           }
          ],
          "scatter3d": [
           {
            "line": {
             "colorbar": {
              "outlinewidth": 0,
              "ticks": ""
             }
            },
            "marker": {
             "colorbar": {
              "outlinewidth": 0,
              "ticks": ""
             }
            },
            "type": "scatter3d"
           }
          ],
          "scattercarpet": [
           {
            "marker": {
             "colorbar": {
              "outlinewidth": 0,
              "ticks": ""
             }
            },
            "type": "scattercarpet"
           }
          ],
          "scattergeo": [
           {
            "marker": {
             "colorbar": {
              "outlinewidth": 0,
              "ticks": ""
             }
            },
            "type": "scattergeo"
           }
          ],
          "scattergl": [
           {
            "marker": {
             "colorbar": {
              "outlinewidth": 0,
              "ticks": ""
             }
            },
            "type": "scattergl"
           }
          ],
          "scattermapbox": [
           {
            "marker": {
             "colorbar": {
              "outlinewidth": 0,
              "ticks": ""
             }
            },
            "type": "scattermapbox"
           }
          ],
          "scatterpolar": [
           {
            "marker": {
             "colorbar": {
              "outlinewidth": 0,
              "ticks": ""
             }
            },
            "type": "scatterpolar"
           }
          ],
          "scatterpolargl": [
           {
            "marker": {
             "colorbar": {
              "outlinewidth": 0,
              "ticks": ""
             }
            },
            "type": "scatterpolargl"
           }
          ],
          "scatterternary": [
           {
            "marker": {
             "colorbar": {
              "outlinewidth": 0,
              "ticks": ""
             }
            },
            "type": "scatterternary"
           }
          ],
          "surface": [
           {
            "colorbar": {
             "outlinewidth": 0,
             "ticks": ""
            },
            "colorscale": [
             [
              0,
              "#0d0887"
             ],
             [
              0.1111111111111111,
              "#46039f"
             ],
             [
              0.2222222222222222,
              "#7201a8"
             ],
             [
              0.3333333333333333,
              "#9c179e"
             ],
             [
              0.4444444444444444,
              "#bd3786"
             ],
             [
              0.5555555555555556,
              "#d8576b"
             ],
             [
              0.6666666666666666,
              "#ed7953"
             ],
             [
              0.7777777777777778,
              "#fb9f3a"
             ],
             [
              0.8888888888888888,
              "#fdca26"
             ],
             [
              1,
              "#f0f921"
             ]
            ],
            "type": "surface"
           }
          ],
          "table": [
           {
            "cells": {
             "fill": {
              "color": "#EBF0F8"
             },
             "line": {
              "color": "white"
             }
            },
            "header": {
             "fill": {
              "color": "#C8D4E3"
             },
             "line": {
              "color": "white"
             }
            },
            "type": "table"
           }
          ]
         },
         "layout": {
          "annotationdefaults": {
           "arrowcolor": "#2a3f5f",
           "arrowhead": 0,
           "arrowwidth": 1
          },
          "autotypenumbers": "strict",
          "coloraxis": {
           "colorbar": {
            "outlinewidth": 0,
            "ticks": ""
           }
          },
          "colorscale": {
           "diverging": [
            [
             0,
             "#8e0152"
            ],
            [
             0.1,
             "#c51b7d"
            ],
            [
             0.2,
             "#de77ae"
            ],
            [
             0.3,
             "#f1b6da"
            ],
            [
             0.4,
             "#fde0ef"
            ],
            [
             0.5,
             "#f7f7f7"
            ],
            [
             0.6,
             "#e6f5d0"
            ],
            [
             0.7,
             "#b8e186"
            ],
            [
             0.8,
             "#7fbc41"
            ],
            [
             0.9,
             "#4d9221"
            ],
            [
             1,
             "#276419"
            ]
           ],
           "sequential": [
            [
             0,
             "#0d0887"
            ],
            [
             0.1111111111111111,
             "#46039f"
            ],
            [
             0.2222222222222222,
             "#7201a8"
            ],
            [
             0.3333333333333333,
             "#9c179e"
            ],
            [
             0.4444444444444444,
             "#bd3786"
            ],
            [
             0.5555555555555556,
             "#d8576b"
            ],
            [
             0.6666666666666666,
             "#ed7953"
            ],
            [
             0.7777777777777778,
             "#fb9f3a"
            ],
            [
             0.8888888888888888,
             "#fdca26"
            ],
            [
             1,
             "#f0f921"
            ]
           ],
           "sequentialminus": [
            [
             0,
             "#0d0887"
            ],
            [
             0.1111111111111111,
             "#46039f"
            ],
            [
             0.2222222222222222,
             "#7201a8"
            ],
            [
             0.3333333333333333,
             "#9c179e"
            ],
            [
             0.4444444444444444,
             "#bd3786"
            ],
            [
             0.5555555555555556,
             "#d8576b"
            ],
            [
             0.6666666666666666,
             "#ed7953"
            ],
            [
             0.7777777777777778,
             "#fb9f3a"
            ],
            [
             0.8888888888888888,
             "#fdca26"
            ],
            [
             1,
             "#f0f921"
            ]
           ]
          },
          "colorway": [
           "#636efa",
           "#EF553B",
           "#00cc96",
           "#ab63fa",
           "#FFA15A",
           "#19d3f3",
           "#FF6692",
           "#B6E880",
           "#FF97FF",
           "#FECB52"
          ],
          "font": {
           "color": "#2a3f5f"
          },
          "geo": {
           "bgcolor": "white",
           "lakecolor": "white",
           "landcolor": "#E5ECF6",
           "showlakes": true,
           "showland": true,
           "subunitcolor": "white"
          },
          "hoverlabel": {
           "align": "left"
          },
          "hovermode": "closest",
          "mapbox": {
           "style": "light"
          },
          "paper_bgcolor": "white",
          "plot_bgcolor": "#E5ECF6",
          "polar": {
           "angularaxis": {
            "gridcolor": "white",
            "linecolor": "white",
            "ticks": ""
           },
           "bgcolor": "#E5ECF6",
           "radialaxis": {
            "gridcolor": "white",
            "linecolor": "white",
            "ticks": ""
           }
          },
          "scene": {
           "xaxis": {
            "backgroundcolor": "#E5ECF6",
            "gridcolor": "white",
            "gridwidth": 2,
            "linecolor": "white",
            "showbackground": true,
            "ticks": "",
            "zerolinecolor": "white"
           },
           "yaxis": {
            "backgroundcolor": "#E5ECF6",
            "gridcolor": "white",
            "gridwidth": 2,
            "linecolor": "white",
            "showbackground": true,
            "ticks": "",
            "zerolinecolor": "white"
           },
           "zaxis": {
            "backgroundcolor": "#E5ECF6",
            "gridcolor": "white",
            "gridwidth": 2,
            "linecolor": "white",
            "showbackground": true,
            "ticks": "",
            "zerolinecolor": "white"
           }
          },
          "shapedefaults": {
           "line": {
            "color": "#2a3f5f"
           }
          },
          "ternary": {
           "aaxis": {
            "gridcolor": "white",
            "linecolor": "white",
            "ticks": ""
           },
           "baxis": {
            "gridcolor": "white",
            "linecolor": "white",
            "ticks": ""
           },
           "bgcolor": "#E5ECF6",
           "caxis": {
            "gridcolor": "white",
            "linecolor": "white",
            "ticks": ""
           }
          },
          "title": {
           "x": 0.05
          },
          "xaxis": {
           "automargin": true,
           "gridcolor": "white",
           "linecolor": "white",
           "ticks": "",
           "title": {
            "standoff": 15
           },
           "zerolinecolor": "white",
           "zerolinewidth": 2
          },
          "yaxis": {
           "automargin": true,
           "gridcolor": "white",
           "linecolor": "white",
           "ticks": "",
           "title": {
            "standoff": 15
           },
           "zerolinecolor": "white",
           "zerolinewidth": 2
          }
         }
        },
        "title": {
         "text": "Covid-19 Cases and Deaths in American Samoa"
        },
        "xaxis": {
         "anchor": "y",
         "domain": [
          0,
          1
         ],
         "title": {
          "text": "date"
         }
        },
        "yaxis": {
         "anchor": "x",
         "domain": [
          0,
          1
         ],
         "title": {
          "text": "value"
         }
        }
       }
      }
     },
     "metadata": {},
     "output_type": "display_data"
    }
   ],
   "source": [
    "update_graph(state)"
   ]
  },
  {
   "cell_type": "code",
   "execution_count": 42,
   "metadata": {},
   "outputs": [
    {
     "data": {
      "text/plain": [
       "[{'label': 'Washington', 'value': 'Washington'},\n",
       " {'label': 'Illinois', 'value': 'Illinois'},\n",
       " {'label': 'California', 'value': 'California'},\n",
       " {'label': 'Arizona', 'value': 'Arizona'},\n",
       " {'label': 'Massachusetts', 'value': 'Massachusetts'},\n",
       " {'label': 'Wisconsin', 'value': 'Wisconsin'},\n",
       " {'label': 'Texas', 'value': 'Texas'},\n",
       " {'label': 'Nebraska', 'value': 'Nebraska'},\n",
       " {'label': 'Utah', 'value': 'Utah'},\n",
       " {'label': 'Oregon', 'value': 'Oregon'},\n",
       " {'label': 'Florida', 'value': 'Florida'},\n",
       " {'label': 'New York', 'value': 'New York'},\n",
       " {'label': 'Rhode Island', 'value': 'Rhode Island'},\n",
       " {'label': 'Georgia', 'value': 'Georgia'},\n",
       " {'label': 'New Hampshire', 'value': 'New Hampshire'},\n",
       " {'label': 'North Carolina', 'value': 'North Carolina'},\n",
       " {'label': 'New Jersey', 'value': 'New Jersey'},\n",
       " {'label': 'Colorado', 'value': 'Colorado'},\n",
       " {'label': 'Maryland', 'value': 'Maryland'},\n",
       " {'label': 'Nevada', 'value': 'Nevada'},\n",
       " {'label': 'Tennessee', 'value': 'Tennessee'},\n",
       " {'label': 'Hawaii', 'value': 'Hawaii'},\n",
       " {'label': 'Indiana', 'value': 'Indiana'},\n",
       " {'label': 'Kentucky', 'value': 'Kentucky'},\n",
       " {'label': 'Minnesota', 'value': 'Minnesota'},\n",
       " {'label': 'Oklahoma', 'value': 'Oklahoma'},\n",
       " {'label': 'Pennsylvania', 'value': 'Pennsylvania'},\n",
       " {'label': 'South Carolina', 'value': 'South Carolina'},\n",
       " {'label': 'District of Columbia', 'value': 'District of Columbia'},\n",
       " {'label': 'Kansas', 'value': 'Kansas'},\n",
       " {'label': 'Missouri', 'value': 'Missouri'},\n",
       " {'label': 'Vermont', 'value': 'Vermont'},\n",
       " {'label': 'Virginia', 'value': 'Virginia'},\n",
       " {'label': 'Connecticut', 'value': 'Connecticut'},\n",
       " {'label': 'Iowa', 'value': 'Iowa'},\n",
       " {'label': 'Louisiana', 'value': 'Louisiana'},\n",
       " {'label': 'Ohio', 'value': 'Ohio'},\n",
       " {'label': 'Michigan', 'value': 'Michigan'},\n",
       " {'label': 'South Dakota', 'value': 'South Dakota'},\n",
       " {'label': 'Arkansas', 'value': 'Arkansas'},\n",
       " {'label': 'Delaware', 'value': 'Delaware'},\n",
       " {'label': 'Mississippi', 'value': 'Mississippi'},\n",
       " {'label': 'New Mexico', 'value': 'New Mexico'},\n",
       " {'label': 'North Dakota', 'value': 'North Dakota'},\n",
       " {'label': 'Wyoming', 'value': 'Wyoming'},\n",
       " {'label': 'Alaska', 'value': 'Alaska'},\n",
       " {'label': 'Maine', 'value': 'Maine'},\n",
       " {'label': 'Alabama', 'value': 'Alabama'},\n",
       " {'label': 'Idaho', 'value': 'Idaho'},\n",
       " {'label': 'Montana', 'value': 'Montana'},\n",
       " {'label': 'Puerto Rico', 'value': 'Puerto Rico'},\n",
       " {'label': 'Virgin Islands', 'value': 'Virgin Islands'},\n",
       " {'label': 'Guam', 'value': 'Guam'},\n",
       " {'label': 'West Virginia', 'value': 'West Virginia'},\n",
       " {'label': 'Northern Mariana Islands', 'value': 'Northern Mariana Islands'},\n",
       " {'label': 'American Samoa', 'value': 'American Samoa'}]"
      ]
     },
     "execution_count": 42,
     "metadata": {},
     "output_type": "execute_result"
    }
   ],
   "source": [
    "#Options list\n",
    "unique_state = us_state_df['state'].unique()\n",
    "options = [{'label': value, 'value': value} for value in unique_state]\n",
    "options"
   ]
  },
  {
   "cell_type": "code",
   "execution_count": 74,
   "metadata": {},
   "outputs": [
    {
     "data": {
      "text/html": [
       "<div>\n",
       "<style scoped>\n",
       "    .dataframe tbody tr th:only-of-type {\n",
       "        vertical-align: middle;\n",
       "    }\n",
       "\n",
       "    .dataframe tbody tr th {\n",
       "        vertical-align: top;\n",
       "    }\n",
       "\n",
       "    .dataframe thead th {\n",
       "        text-align: right;\n",
       "    }\n",
       "</style>\n",
       "<table border=\"1\" class=\"dataframe\">\n",
       "  <thead>\n",
       "    <tr style=\"text-align: right;\">\n",
       "      <th></th>\n",
       "      <th>NAME</th>\n",
       "      <th>2020</th>\n",
       "      <th>2021</th>\n",
       "      <th>2022</th>\n",
       "      <th>code</th>\n",
       "    </tr>\n",
       "  </thead>\n",
       "  <tbody>\n",
       "    <tr>\n",
       "      <th>46</th>\n",
       "      <td>Virginia</td>\n",
       "      <td>8636471</td>\n",
       "      <td>8657365</td>\n",
       "      <td>8683619</td>\n",
       "      <td>VA</td>\n",
       "    </tr>\n",
       "    <tr>\n",
       "      <th>47</th>\n",
       "      <td>Washington</td>\n",
       "      <td>7724031</td>\n",
       "      <td>7740745</td>\n",
       "      <td>7785786</td>\n",
       "      <td>WA</td>\n",
       "    </tr>\n",
       "    <tr>\n",
       "      <th>48</th>\n",
       "      <td>West Virginia</td>\n",
       "      <td>1791420</td>\n",
       "      <td>1785526</td>\n",
       "      <td>1775156</td>\n",
       "      <td>WV</td>\n",
       "    </tr>\n",
       "    <tr>\n",
       "      <th>49</th>\n",
       "      <td>Wisconsin</td>\n",
       "      <td>5896271</td>\n",
       "      <td>5880101</td>\n",
       "      <td>5892539</td>\n",
       "      <td>WI</td>\n",
       "    </tr>\n",
       "    <tr>\n",
       "      <th>50</th>\n",
       "      <td>Wyoming</td>\n",
       "      <td>577605</td>\n",
       "      <td>579483</td>\n",
       "      <td>581381</td>\n",
       "      <td>WY</td>\n",
       "    </tr>\n",
       "  </tbody>\n",
       "</table>\n",
       "</div>"
      ],
      "text/plain": [
       "             NAME     2020     2021     2022 code\n",
       "46       Virginia  8636471  8657365  8683619   VA\n",
       "47     Washington  7724031  7740745  7785786   WA\n",
       "48  West Virginia  1791420  1785526  1775156   WV\n",
       "49      Wisconsin  5896271  5880101  5892539   WI\n",
       "50        Wyoming   577605   579483   581381   WY"
      ]
     },
     "execution_count": 74,
     "metadata": {},
     "output_type": "execute_result"
    }
   ],
   "source": [
    "pop_df.tail()"
   ]
  },
  {
   "cell_type": "code",
   "execution_count": 80,
   "metadata": {},
   "outputs": [
    {
     "data": {
      "text/html": [
       "<div>\n",
       "<style scoped>\n",
       "    .dataframe tbody tr th:only-of-type {\n",
       "        vertical-align: middle;\n",
       "    }\n",
       "\n",
       "    .dataframe tbody tr th {\n",
       "        vertical-align: top;\n",
       "    }\n",
       "\n",
       "    .dataframe thead th {\n",
       "        text-align: right;\n",
       "    }\n",
       "</style>\n",
       "<table border=\"1\" class=\"dataframe\">\n",
       "  <thead>\n",
       "    <tr style=\"text-align: right;\">\n",
       "      <th></th>\n",
       "      <th>date</th>\n",
       "      <th>state</th>\n",
       "      <th>cases</th>\n",
       "      <th>deaths</th>\n",
       "      <th>NAME</th>\n",
       "      <th>2020</th>\n",
       "      <th>2021</th>\n",
       "      <th>2022</th>\n",
       "      <th>code</th>\n",
       "    </tr>\n",
       "  </thead>\n",
       "  <tbody>\n",
       "    <tr>\n",
       "      <th>0</th>\n",
       "      <td>2022-01-01</td>\n",
       "      <td>Alabama</td>\n",
       "      <td>896614</td>\n",
       "      <td>16455.0</td>\n",
       "      <td>Alabama</td>\n",
       "      <td>5031362</td>\n",
       "      <td>5049846</td>\n",
       "      <td>5074296</td>\n",
       "      <td>AL</td>\n",
       "    </tr>\n",
       "    <tr>\n",
       "      <th>1</th>\n",
       "      <td>2022-01-02</td>\n",
       "      <td>Alabama</td>\n",
       "      <td>909541</td>\n",
       "      <td>16455.0</td>\n",
       "      <td>Alabama</td>\n",
       "      <td>5031362</td>\n",
       "      <td>5049846</td>\n",
       "      <td>5074296</td>\n",
       "      <td>AL</td>\n",
       "    </tr>\n",
       "    <tr>\n",
       "      <th>2</th>\n",
       "      <td>2022-01-03</td>\n",
       "      <td>Alabama</td>\n",
       "      <td>913603</td>\n",
       "      <td>16455.0</td>\n",
       "      <td>Alabama</td>\n",
       "      <td>5031362</td>\n",
       "      <td>5049846</td>\n",
       "      <td>5074296</td>\n",
       "      <td>AL</td>\n",
       "    </tr>\n",
       "    <tr>\n",
       "      <th>3</th>\n",
       "      <td>2022-01-04</td>\n",
       "      <td>Alabama</td>\n",
       "      <td>921175</td>\n",
       "      <td>16496.0</td>\n",
       "      <td>Alabama</td>\n",
       "      <td>5031362</td>\n",
       "      <td>5049846</td>\n",
       "      <td>5074296</td>\n",
       "      <td>AL</td>\n",
       "    </tr>\n",
       "    <tr>\n",
       "      <th>4</th>\n",
       "      <td>2022-01-05</td>\n",
       "      <td>Alabama</td>\n",
       "      <td>932250</td>\n",
       "      <td>16503.0</td>\n",
       "      <td>Alabama</td>\n",
       "      <td>5031362</td>\n",
       "      <td>5049846</td>\n",
       "      <td>5074296</td>\n",
       "      <td>AL</td>\n",
       "    </tr>\n",
       "    <tr>\n",
       "      <th>...</th>\n",
       "      <td>...</td>\n",
       "      <td>...</td>\n",
       "      <td>...</td>\n",
       "      <td>...</td>\n",
       "      <td>...</td>\n",
       "      <td>...</td>\n",
       "      <td>...</td>\n",
       "      <td>...</td>\n",
       "      <td>...</td>\n",
       "    </tr>\n",
       "    <tr>\n",
       "      <th>18610</th>\n",
       "      <td>2022-12-27</td>\n",
       "      <td>Wyoming</td>\n",
       "      <td>182847</td>\n",
       "      <td>1959.0</td>\n",
       "      <td>Wyoming</td>\n",
       "      <td>577605</td>\n",
       "      <td>579483</td>\n",
       "      <td>581381</td>\n",
       "      <td>WY</td>\n",
       "    </tr>\n",
       "    <tr>\n",
       "      <th>18611</th>\n",
       "      <td>2022-12-28</td>\n",
       "      <td>Wyoming</td>\n",
       "      <td>182847</td>\n",
       "      <td>1959.0</td>\n",
       "      <td>Wyoming</td>\n",
       "      <td>577605</td>\n",
       "      <td>579483</td>\n",
       "      <td>581381</td>\n",
       "      <td>WY</td>\n",
       "    </tr>\n",
       "    <tr>\n",
       "      <th>18612</th>\n",
       "      <td>2022-12-29</td>\n",
       "      <td>Wyoming</td>\n",
       "      <td>182847</td>\n",
       "      <td>1959.0</td>\n",
       "      <td>Wyoming</td>\n",
       "      <td>577605</td>\n",
       "      <td>579483</td>\n",
       "      <td>581381</td>\n",
       "      <td>WY</td>\n",
       "    </tr>\n",
       "    <tr>\n",
       "      <th>18613</th>\n",
       "      <td>2022-12-30</td>\n",
       "      <td>Wyoming</td>\n",
       "      <td>182847</td>\n",
       "      <td>1959.0</td>\n",
       "      <td>Wyoming</td>\n",
       "      <td>577605</td>\n",
       "      <td>579483</td>\n",
       "      <td>581381</td>\n",
       "      <td>WY</td>\n",
       "    </tr>\n",
       "    <tr>\n",
       "      <th>18614</th>\n",
       "      <td>2022-12-31</td>\n",
       "      <td>Wyoming</td>\n",
       "      <td>182847</td>\n",
       "      <td>1959.0</td>\n",
       "      <td>Wyoming</td>\n",
       "      <td>577605</td>\n",
       "      <td>579483</td>\n",
       "      <td>581381</td>\n",
       "      <td>WY</td>\n",
       "    </tr>\n",
       "  </tbody>\n",
       "</table>\n",
       "<p>18615 rows × 9 columns</p>\n",
       "</div>"
      ],
      "text/plain": [
       "             date    state   cases   deaths     NAME     2020     2021  \\\n",
       "0      2022-01-01  Alabama  896614  16455.0  Alabama  5031362  5049846   \n",
       "1      2022-01-02  Alabama  909541  16455.0  Alabama  5031362  5049846   \n",
       "2      2022-01-03  Alabama  913603  16455.0  Alabama  5031362  5049846   \n",
       "3      2022-01-04  Alabama  921175  16496.0  Alabama  5031362  5049846   \n",
       "4      2022-01-05  Alabama  932250  16503.0  Alabama  5031362  5049846   \n",
       "...           ...      ...     ...      ...      ...      ...      ...   \n",
       "18610  2022-12-27  Wyoming  182847   1959.0  Wyoming   577605   579483   \n",
       "18611  2022-12-28  Wyoming  182847   1959.0  Wyoming   577605   579483   \n",
       "18612  2022-12-29  Wyoming  182847   1959.0  Wyoming   577605   579483   \n",
       "18613  2022-12-30  Wyoming  182847   1959.0  Wyoming   577605   579483   \n",
       "18614  2022-12-31  Wyoming  182847   1959.0  Wyoming   577605   579483   \n",
       "\n",
       "          2022 code  \n",
       "0      5074296   AL  \n",
       "1      5074296   AL  \n",
       "2      5074296   AL  \n",
       "3      5074296   AL  \n",
       "4      5074296   AL  \n",
       "...        ...  ...  \n",
       "18610   581381   WY  \n",
       "18611   581381   WY  \n",
       "18612   581381   WY  \n",
       "18613   581381   WY  \n",
       "18614   581381   WY  \n",
       "\n",
       "[18615 rows x 9 columns]"
      ]
     },
     "execution_count": 80,
     "metadata": {},
     "output_type": "execute_result"
    }
   ],
   "source": [
    "map_df"
   ]
  },
  {
   "attachments": {},
   "cell_type": "markdown",
   "metadata": {},
   "source": [
    "# Map"
   ]
  },
  {
   "cell_type": "code",
   "execution_count": 87,
   "metadata": {},
   "outputs": [
    {
     "data": {
      "text/html": [
       "<div>\n",
       "<style scoped>\n",
       "    .dataframe tbody tr th:only-of-type {\n",
       "        vertical-align: middle;\n",
       "    }\n",
       "\n",
       "    .dataframe tbody tr th {\n",
       "        vertical-align: top;\n",
       "    }\n",
       "\n",
       "    .dataframe thead th {\n",
       "        text-align: right;\n",
       "    }\n",
       "</style>\n",
       "<table border=\"1\" class=\"dataframe\">\n",
       "  <thead>\n",
       "    <tr style=\"text-align: right;\">\n",
       "      <th></th>\n",
       "      <th>date</th>\n",
       "      <th>code</th>\n",
       "      <th>state</th>\n",
       "      <th>cases</th>\n",
       "      <th>deaths</th>\n",
       "      <th>population</th>\n",
       "    </tr>\n",
       "  </thead>\n",
       "  <tbody>\n",
       "    <tr>\n",
       "      <th>364</th>\n",
       "      <td>2022-12-31</td>\n",
       "      <td>AL</td>\n",
       "      <td>Alabama</td>\n",
       "      <td>1573637</td>\n",
       "      <td>21208.0</td>\n",
       "      <td>5074296</td>\n",
       "    </tr>\n",
       "    <tr>\n",
       "      <th>729</th>\n",
       "      <td>2022-12-31</td>\n",
       "      <td>AK</td>\n",
       "      <td>Alaska</td>\n",
       "      <td>301774</td>\n",
       "      <td>1408.0</td>\n",
       "      <td>733583</td>\n",
       "    </tr>\n",
       "    <tr>\n",
       "      <th>1094</th>\n",
       "      <td>2022-12-31</td>\n",
       "      <td>AZ</td>\n",
       "      <td>Arizona</td>\n",
       "      <td>2378334</td>\n",
       "      <td>32182.0</td>\n",
       "      <td>7359197</td>\n",
       "    </tr>\n",
       "    <tr>\n",
       "      <th>1459</th>\n",
       "      <td>2022-12-31</td>\n",
       "      <td>AR</td>\n",
       "      <td>Arkansas</td>\n",
       "      <td>985493</td>\n",
       "      <td>12703.0</td>\n",
       "      <td>3045637</td>\n",
       "    </tr>\n",
       "    <tr>\n",
       "      <th>1824</th>\n",
       "      <td>2022-12-31</td>\n",
       "      <td>CA</td>\n",
       "      <td>California</td>\n",
       "      <td>11826466</td>\n",
       "      <td>100865.0</td>\n",
       "      <td>39029342</td>\n",
       "    </tr>\n",
       "  </tbody>\n",
       "</table>\n",
       "</div>"
      ],
      "text/plain": [
       "            date code       state     cases    deaths  population\n",
       "364   2022-12-31   AL     Alabama   1573637   21208.0     5074296\n",
       "729   2022-12-31   AK      Alaska    301774    1408.0      733583\n",
       "1094  2022-12-31   AZ     Arizona   2378334   32182.0     7359197\n",
       "1459  2022-12-31   AR    Arkansas    985493   12703.0     3045637\n",
       "1824  2022-12-31   CA  California  11826466  100865.0    39029342"
      ]
     },
     "execution_count": 87,
     "metadata": {},
     "output_type": "execute_result"
    }
   ],
   "source": [
    "map_df = pd.merge(us2022_state, pop_df, left_on='state', right_on='NAME')\n",
    "map_df = map_df[['date','code','state','cases','deaths','2022']]\n",
    "map_df.rename(columns={'2022': 'population'}, inplace=True)\n",
    "map_df = map_df.loc[(map_df['date']== last_update)]\n",
    "map_df.head()"
   ]
  },
  {
   "cell_type": "code",
   "execution_count": null,
   "metadata": {},
   "outputs": [],
   "source": []
  },
  {
   "cell_type": "code",
   "execution_count": 91,
   "metadata": {},
   "outputs": [
    {
     "ename": "ValueError",
     "evalue": "Value of 'color' is not the name of a column in 'data_frame'. Expected one of ['date', 'code', 'state', 'cases', 'deaths', 'population'] but received: Pct of Colonies Impacted",
     "output_type": "error",
     "traceback": [
      "\u001b[1;31m---------------------------------------------------------------------------\u001b[0m",
      "\u001b[1;31mValueError\u001b[0m                                Traceback (most recent call last)",
      "Cell \u001b[1;32mIn[91], line 1\u001b[0m\n\u001b[1;32m----> 1\u001b[0m fig \u001b[39m=\u001b[39m px\u001b[39m.\u001b[39;49mchoropleth(\n\u001b[0;32m      2\u001b[0m     data_frame\u001b[39m=\u001b[39;49mmap_df,\n\u001b[0;32m      3\u001b[0m     locationmode\u001b[39m=\u001b[39;49m\u001b[39m'\u001b[39;49m\u001b[39mUSA-states\u001b[39;49m\u001b[39m'\u001b[39;49m,\n\u001b[0;32m      4\u001b[0m     locations\u001b[39m=\u001b[39;49m\u001b[39m'\u001b[39;49m\u001b[39mcode\u001b[39;49m\u001b[39m'\u001b[39;49m,\n\u001b[0;32m      5\u001b[0m     scope\u001b[39m=\u001b[39;49m\u001b[39m\"\u001b[39;49m\u001b[39musa\u001b[39;49m\u001b[39m\"\u001b[39;49m,\n\u001b[0;32m      6\u001b[0m     color\u001b[39m=\u001b[39;49m\u001b[39m'\u001b[39;49m\u001b[39mPct of Colonies Impacted\u001b[39;49m\u001b[39m'\u001b[39;49m,\n\u001b[0;32m      7\u001b[0m     hover_data\u001b[39m=\u001b[39;49m[\u001b[39m'\u001b[39;49m\u001b[39mstate\u001b[39;49m\u001b[39m'\u001b[39;49m, \u001b[39m'\u001b[39;49m\u001b[39mcases\u001b[39;49m\u001b[39m'\u001b[39;49m,\u001b[39m'\u001b[39;49m\u001b[39mdeaths\u001b[39;49m\u001b[39m'\u001b[39;49m, \u001b[39m'\u001b[39;49m\u001b[39mpopulation\u001b[39;49m\u001b[39m'\u001b[39;49m],\n\u001b[0;32m      8\u001b[0m     color_continuous_scale\u001b[39m=\u001b[39;49mpx\u001b[39m.\u001b[39;49mcolors\u001b[39m.\u001b[39;49msequential\u001b[39m.\u001b[39;49mYlOrRd,\n\u001b[0;32m      9\u001b[0m     labels\u001b[39m=\u001b[39;49m{\u001b[39m'\u001b[39;49m\u001b[39mCases\u001b[39;49m\u001b[39m'\u001b[39;49m: \u001b[39m'\u001b[39;49m\u001b[39mNumber of cases\u001b[39;49m\u001b[39m'\u001b[39;49m},\n\u001b[0;32m     10\u001b[0m     template\u001b[39m=\u001b[39;49m\u001b[39m'\u001b[39;49m\u001b[39mplotly_dark\u001b[39;49m\u001b[39m'\u001b[39;49m\n\u001b[0;32m     11\u001b[0m )\n\u001b[0;32m     13\u001b[0m fig\u001b[39m.\u001b[39mshow()\n",
      "File \u001b[1;32mc:\\Ivan\\DATA SCIENCE\\Projects\\COVID-19-VIZ\\.venv\\Lib\\site-packages\\plotly\\express\\_chart_types.py:1091\u001b[0m, in \u001b[0;36mchoropleth\u001b[1;34m(data_frame, lat, lon, locations, locationmode, geojson, featureidkey, color, facet_row, facet_col, facet_col_wrap, facet_row_spacing, facet_col_spacing, hover_name, hover_data, custom_data, animation_frame, animation_group, category_orders, labels, color_discrete_sequence, color_discrete_map, color_continuous_scale, range_color, color_continuous_midpoint, projection, scope, center, fitbounds, basemap_visible, title, template, width, height)\u001b[0m\n\u001b[0;32m   1051\u001b[0m \u001b[39mdef\u001b[39;00m \u001b[39mchoropleth\u001b[39m(\n\u001b[0;32m   1052\u001b[0m     data_frame\u001b[39m=\u001b[39m\u001b[39mNone\u001b[39;00m,\n\u001b[0;32m   1053\u001b[0m     lat\u001b[39m=\u001b[39m\u001b[39mNone\u001b[39;00m,\n\u001b[1;32m   (...)\u001b[0m\n\u001b[0;32m   1085\u001b[0m     height\u001b[39m=\u001b[39m\u001b[39mNone\u001b[39;00m,\n\u001b[0;32m   1086\u001b[0m ) \u001b[39m-\u001b[39m\u001b[39m>\u001b[39m go\u001b[39m.\u001b[39mFigure:\n\u001b[0;32m   1087\u001b[0m     \u001b[39m\"\"\"\u001b[39;00m\n\u001b[0;32m   1088\u001b[0m \u001b[39m    In a choropleth map, each row of `data_frame` is represented by a\u001b[39;00m\n\u001b[0;32m   1089\u001b[0m \u001b[39m    colored region mark on a map.\u001b[39;00m\n\u001b[0;32m   1090\u001b[0m \u001b[39m    \"\"\"\u001b[39;00m\n\u001b[1;32m-> 1091\u001b[0m     \u001b[39mreturn\u001b[39;00m make_figure(\n\u001b[0;32m   1092\u001b[0m         args\u001b[39m=\u001b[39;49m\u001b[39mlocals\u001b[39;49m(),\n\u001b[0;32m   1093\u001b[0m         constructor\u001b[39m=\u001b[39;49mgo\u001b[39m.\u001b[39;49mChoropleth,\n\u001b[0;32m   1094\u001b[0m         trace_patch\u001b[39m=\u001b[39;49m\u001b[39mdict\u001b[39;49m(locationmode\u001b[39m=\u001b[39;49mlocationmode),\n\u001b[0;32m   1095\u001b[0m     )\n",
      "File \u001b[1;32mc:\\Ivan\\DATA SCIENCE\\Projects\\COVID-19-VIZ\\.venv\\Lib\\site-packages\\plotly\\express\\_core.py:1990\u001b[0m, in \u001b[0;36mmake_figure\u001b[1;34m(args, constructor, trace_patch, layout_patch)\u001b[0m\n\u001b[0;32m   1987\u001b[0m layout_patch \u001b[39m=\u001b[39m layout_patch \u001b[39mor\u001b[39;00m {}\n\u001b[0;32m   1988\u001b[0m apply_default_cascade(args)\n\u001b[1;32m-> 1990\u001b[0m args \u001b[39m=\u001b[39m build_dataframe(args, constructor)\n\u001b[0;32m   1991\u001b[0m \u001b[39mif\u001b[39;00m constructor \u001b[39min\u001b[39;00m [go\u001b[39m.\u001b[39mTreemap, go\u001b[39m.\u001b[39mSunburst, go\u001b[39m.\u001b[39mIcicle] \u001b[39mand\u001b[39;00m args[\u001b[39m\"\u001b[39m\u001b[39mpath\u001b[39m\u001b[39m\"\u001b[39m] \u001b[39mis\u001b[39;00m \u001b[39mnot\u001b[39;00m \u001b[39mNone\u001b[39;00m:\n\u001b[0;32m   1992\u001b[0m     args \u001b[39m=\u001b[39m process_dataframe_hierarchy(args)\n",
      "File \u001b[1;32mc:\\Ivan\\DATA SCIENCE\\Projects\\COVID-19-VIZ\\.venv\\Lib\\site-packages\\plotly\\express\\_core.py:1405\u001b[0m, in \u001b[0;36mbuild_dataframe\u001b[1;34m(args, constructor)\u001b[0m\n\u001b[0;32m   1402\u001b[0m     args[\u001b[39m\"\u001b[39m\u001b[39mcolor\u001b[39m\u001b[39m\"\u001b[39m] \u001b[39m=\u001b[39m \u001b[39mNone\u001b[39;00m\n\u001b[0;32m   1403\u001b[0m \u001b[39m# now that things have been prepped, we do the systematic rewriting of `args`\u001b[39;00m\n\u001b[1;32m-> 1405\u001b[0m df_output, wide_id_vars \u001b[39m=\u001b[39m process_args_into_dataframe(\n\u001b[0;32m   1406\u001b[0m     args, wide_mode, var_name, value_name\n\u001b[0;32m   1407\u001b[0m )\n\u001b[0;32m   1409\u001b[0m \u001b[39m# now that `df_output` exists and `args` contains only references, we complete\u001b[39;00m\n\u001b[0;32m   1410\u001b[0m \u001b[39m# the special-case and wide-mode handling by further rewriting args and/or mutating\u001b[39;00m\n\u001b[0;32m   1411\u001b[0m \u001b[39m# df_output\u001b[39;00m\n\u001b[0;32m   1413\u001b[0m count_name \u001b[39m=\u001b[39m _escape_col_name(df_output, \u001b[39m\"\u001b[39m\u001b[39mcount\u001b[39m\u001b[39m\"\u001b[39m, [var_name, value_name])\n",
      "File \u001b[1;32mc:\\Ivan\\DATA SCIENCE\\Projects\\COVID-19-VIZ\\.venv\\Lib\\site-packages\\plotly\\express\\_core.py:1207\u001b[0m, in \u001b[0;36mprocess_args_into_dataframe\u001b[1;34m(args, wide_mode, var_name, value_name)\u001b[0m\n\u001b[0;32m   1205\u001b[0m         \u001b[39mif\u001b[39;00m argument \u001b[39m==\u001b[39m \u001b[39m\"\u001b[39m\u001b[39mindex\u001b[39m\u001b[39m\"\u001b[39m:\n\u001b[0;32m   1206\u001b[0m             err_msg \u001b[39m+\u001b[39m\u001b[39m=\u001b[39m \u001b[39m\"\u001b[39m\u001b[39m\\n\u001b[39;00m\u001b[39m To use the index, pass it in directly as `df.index`.\u001b[39m\u001b[39m\"\u001b[39m\n\u001b[1;32m-> 1207\u001b[0m         \u001b[39mraise\u001b[39;00m \u001b[39mValueError\u001b[39;00m(err_msg)\n\u001b[0;32m   1208\u001b[0m \u001b[39melif\u001b[39;00m length \u001b[39mand\u001b[39;00m \u001b[39mlen\u001b[39m(df_input[argument]) \u001b[39m!=\u001b[39m length:\n\u001b[0;32m   1209\u001b[0m     \u001b[39mraise\u001b[39;00m \u001b[39mValueError\u001b[39;00m(\n\u001b[0;32m   1210\u001b[0m         \u001b[39m\"\u001b[39m\u001b[39mAll arguments should have the same length. \u001b[39m\u001b[39m\"\u001b[39m\n\u001b[0;32m   1211\u001b[0m         \u001b[39m\"\u001b[39m\u001b[39mThe length of column argument `df[\u001b[39m\u001b[39m%s\u001b[39;00m\u001b[39m]` is \u001b[39m\u001b[39m%d\u001b[39;00m\u001b[39m, whereas the \u001b[39m\u001b[39m\"\u001b[39m\n\u001b[1;32m   (...)\u001b[0m\n\u001b[0;32m   1218\u001b[0m         )\n\u001b[0;32m   1219\u001b[0m     )\n",
      "\u001b[1;31mValueError\u001b[0m: Value of 'color' is not the name of a column in 'data_frame'. Expected one of ['date', 'code', 'state', 'cases', 'deaths', 'population'] but received: Pct of Colonies Impacted"
     ]
    }
   ],
   "source": [
    "fig = px.choropleth(\n",
    "    data_frame=map_df,\n",
    "    locationmode='USA-states',\n",
    "    locations='code',\n",
    "    scope=\"usa\",\n",
    "    color='Pct of Colonies Impacted',\n",
    "    hover_data=['state', 'cases','deaths', 'population'],\n",
    "    color_continuous_scale=px.colors.sequential.YlOrRd,\n",
    "    labels={'Cases': 'Number of cases'},\n",
    "    template='plotly_dark'\n",
    ")\n",
    "\n",
    "fig.show()"
   ]
  },
  {
   "cell_type": "code",
   "execution_count": null,
   "metadata": {},
   "outputs": [],
   "source": []
  },
  {
   "cell_type": "code",
   "execution_count": 57,
   "metadata": {},
   "outputs": [
    {
     "name": "stdout",
     "output_type": "stream",
     "text": [
      "     State  ANSI Affected by  Year state_code  Pct of Colonies Impacted\n",
      "0  Alabama     1     Disease  2015         AL                      0.05\n",
      "1  Alabama     1     Disease  2016         AL                      1.20\n",
      "2  Alabama     1     Disease  2017         AL                      2.25\n",
      "3  Alabama     1     Disease  2018         AL                      1.30\n",
      "4  Alabama     1     Disease  2019         AL                      1.80\n"
     ]
    }
   ],
   "source": [
    "# -- Import and clean data (importing csv into pandas)\n",
    "# df = pd.read_csv(\"intro_bees.csv\")\n",
    "df = pd.read_csv(\"https://raw.githubusercontent.com/Coding-with-Adam/Dash-by-Plotly/master/Other/Dash_Introduction/intro_bees.csv\")\n",
    "\n",
    "df = df.groupby(['State', 'ANSI', 'Affected by', 'Year', 'state_code'])[['Pct of Colonies Impacted']].mean()\n",
    "df.reset_index(inplace=True)\n",
    "print(df[:5])\n"
   ]
  },
  {
   "cell_type": "code",
   "execution_count": 62,
   "metadata": {},
   "outputs": [
    {
     "data": {
      "application/vnd.plotly.v1+json": {
       "config": {
        "plotlyServerURL": "https://plot.ly"
       },
       "data": [
        {
         "coloraxis": "coloraxis",
         "customdata": [
          [
           "Alabama",
           0.05
          ],
          [
           "Alabama",
           1.2
          ],
          [
           "Alabama",
           2.25
          ],
          [
           "Alabama",
           1.3
          ],
          [
           "Alabama",
           1.8
          ],
          [
           "Alabama",
           4.325
          ],
          [
           "Alabama",
           4.275
          ],
          [
           "Alabama",
           6.325
          ],
          [
           "Alabama",
           7.3
          ],
          [
           "Alabama",
           3.1
          ],
          [
           "Alabama",
           1.825
          ],
          [
           "Alabama",
           4
          ],
          [
           "Alabama",
           13.075
          ],
          [
           "Alabama",
           11.35
          ],
          [
           "Alabama",
           0.3
          ],
          [
           "Alabama",
           31.225
          ],
          [
           "Alabama",
           20.525000000000002
          ],
          [
           "Alabama",
           13.9
          ],
          [
           "Alabama",
           36.85
          ],
          [
           "Alabama",
           22.7
          ],
          [
           "Alabama",
           8.275
          ],
          [
           "Alabama",
           8.450000000000001
          ],
          [
           "Alabama",
           5.925000000000001
          ],
          [
           "Alabama",
           5.225
          ],
          [
           "Alabama",
           9
          ],
          [
           "Alabama",
           23.225
          ],
          [
           "Alabama",
           14.45
          ],
          [
           "Alabama",
           32.4
          ],
          [
           "Alabama",
           38.125
          ],
          [
           "Alabama",
           27.2
          ],
          [
           "Arizona",
           1.775
          ],
          [
           "Arizona",
           5.1
          ],
          [
           "Arizona",
           6.575
          ],
          [
           "Arizona",
           11.25
          ],
          [
           "Arizona",
           6.5
          ],
          [
           "Arizona",
           9.525
          ],
          [
           "Arizona",
           10.4
          ],
          [
           "Arizona",
           10.85
          ],
          [
           "Arizona",
           11.075
          ],
          [
           "Arizona",
           8.4
          ],
          [
           "Arizona",
           10.225000000000001
          ],
          [
           "Arizona",
           9.925
          ],
          [
           "Arizona",
           4.2
          ],
          [
           "Arizona",
           4.975
          ],
          [
           "Arizona",
           16.2
          ],
          [
           "Arizona",
           19.775000000000002
          ],
          [
           "Arizona",
           16.7
          ],
          [
           "Arizona",
           5.625
          ],
          [
           "Arizona",
           5.525
          ],
          [
           "Arizona",
           7.9
          ],
          [
           "Arizona",
           6
          ],
          [
           "Arizona",
           5.7
          ],
          [
           "Arizona",
           2.3
          ],
          [
           "Arizona",
           9.725000000000001
          ],
          [
           "Arizona",
           0.2
          ],
          [
           "Arizona",
           34.725
          ],
          [
           "Arizona",
           50.275
          ],
          [
           "Arizona",
           43.85
          ],
          [
           "Arizona",
           45.8
          ],
          [
           "Arizona",
           25.8
          ],
          [
           "Arkansas",
           2.375
          ],
          [
           "Arkansas",
           1.475
          ],
          [
           "Arkansas",
           7.15
          ],
          [
           "Arkansas",
           0.45
          ],
          [
           "Arkansas",
           3.3
          ],
          [
           "Arkansas",
           9.675
          ],
          [
           "Arkansas",
           2.275
          ],
          [
           "Arkansas",
           9.775
          ],
          [
           "Arkansas",
           6.8500000000000005
          ],
          [
           "Arkansas",
           0.7
          ],
          [
           "Arkansas",
           9.8
          ],
          [
           "Arkansas",
           2.45
          ],
          [
           "Arkansas",
           13.1
          ],
          [
           "Arkansas",
           29.075
          ],
          [
           "Arkansas",
           55.3
          ],
          [
           "Arkansas",
           29.224999999999998
          ],
          [
           "Arkansas",
           7.3
          ],
          [
           "Arkansas",
           15.625
          ],
          [
           "Arkansas",
           9.325
          ],
          [
           "Arkansas",
           1.5
          ],
          [
           "Arkansas",
           3.075
          ],
          [
           "Arkansas",
           3.3249999999999997
          ],
          [
           "Arkansas",
           1.55
          ],
          [
           "Arkansas",
           7.475
          ],
          [
           "Arkansas",
           2.9
          ],
          [
           "Arkansas",
           47.7
          ],
          [
           "Arkansas",
           61.025000000000006
          ],
          [
           "Arkansas",
           37.45
          ],
          [
           "Arkansas",
           41.175
          ],
          [
           "Arkansas",
           19.5
          ],
          [
           "California",
           7.375
          ],
          [
           "California",
           9.175
          ],
          [
           "California",
           5.9
          ],
          [
           "California",
           7.550000000000001
          ],
          [
           "California",
           6.4
          ],
          [
           "California",
           11.55
          ],
          [
           "California",
           10.925
          ],
          [
           "California",
           9.65
          ],
          [
           "California",
           9.575
          ],
          [
           "California",
           8.7
          ],
          [
           "California",
           15.45
          ],
          [
           "California",
           13.9
          ],
          [
           "California",
           13.15
          ],
          [
           "California",
           13.65
          ],
          [
           "California",
           12.3
          ],
          [
           "California",
           15.45
          ],
          [
           "California",
           15.2
          ],
          [
           "California",
           12.55
          ],
          [
           "California",
           11.175
          ],
          [
           "California",
           13.4
          ],
          [
           "California",
           4.475
          ],
          [
           "California",
           4.35
          ],
          [
           "California",
           4.9
          ],
          [
           "California",
           5.15
          ],
          [
           "California",
           5.6
          ],
          [
           "California",
           38.2
          ],
          [
           "California",
           42.975
          ],
          [
           "California",
           41.475
          ],
          [
           "California",
           46.05
          ],
          [
           "California",
           43.5
          ],
          [
           "Colorado",
           7.574999999999999
          ],
          [
           "Colorado",
           5.175000000000001
          ],
          [
           "Colorado",
           2.025
          ],
          [
           "Colorado",
           5.775
          ],
          [
           "Colorado",
           0
          ],
          [
           "Colorado",
           4.525
          ],
          [
           "Colorado",
           7.225
          ],
          [
           "Colorado",
           7.625
          ],
          [
           "Colorado",
           8.125
          ],
          [
           "Colorado",
           2.5
          ],
          [
           "Colorado",
           9.899999999999999
          ],
          [
           "Colorado",
           7.325000000000001
          ],
          [
           "Colorado",
           8.3
          ],
          [
           "Colorado",
           1.75
          ],
          [
           "Colorado",
           0
          ],
          [
           "Colorado",
           7.1499999999999995
          ],
          [
           "Colorado",
           7.1499999999999995
          ],
          [
           "Colorado",
           0.725
          ],
          [
           "Colorado",
           5.825000000000001
          ],
          [
           "Colorado",
           0.3
          ],
          [
           "Colorado",
           4.25
          ],
          [
           "Colorado",
           0.175
          ],
          [
           "Colorado",
           1.7999999999999998
          ],
          [
           "Colorado",
           2.15
          ],
          [
           "Colorado",
           0.6
          ],
          [
           "Colorado",
           37.825
          ],
          [
           "Colorado",
           30.825
          ],
          [
           "Colorado",
           32.85
          ],
          [
           "Colorado",
           54.8
          ],
          [
           "Colorado",
           11.2
          ],
          [
           "Connecticut",
           0.7
          ],
          [
           "Connecticut",
           0.45
          ],
          [
           "Connecticut",
           0.025
          ],
          [
           "Connecticut",
           0.6749999999999999
          ],
          [
           "Connecticut",
           0
          ],
          [
           "Connecticut",
           8.35
          ],
          [
           "Connecticut",
           5.725
          ],
          [
           "Connecticut",
           5.65
          ],
          [
           "Connecticut",
           3.8
          ],
          [
           "Connecticut",
           3.6
          ],
          [
           "Connecticut",
           0.8500000000000001
          ],
          [
           "Connecticut",
           0.375
          ],
          [
           "Connecticut",
           0.275
          ],
          [
           "Connecticut",
           0.975
          ],
          [
           "Connecticut",
           0
          ],
          [
           "Connecticut",
           1.175
          ],
          [
           "Connecticut",
           2.4
          ],
          [
           "Connecticut",
           1.5
          ],
          [
           "Connecticut",
           1.3
          ],
          [
           "Connecticut",
           1.3
          ],
          [
           "Connecticut",
           1.275
          ],
          [
           "Connecticut",
           1.725
          ],
          [
           "Connecticut",
           1.9749999999999999
          ],
          [
           "Connecticut",
           1.85
          ],
          [
           "Connecticut",
           1.7
          ],
          [
           "Connecticut",
           15.625
          ],
          [
           "Connecticut",
           13.775
          ],
          [
           "Connecticut",
           30.525
          ],
          [
           "Connecticut",
           12.775
          ],
          [
           "Connecticut",
           10.1
          ],
          [
           "Florida",
           3.175
          ],
          [
           "Florida",
           5.2
          ],
          [
           "Florida",
           4.7
          ],
          [
           "Florida",
           6.825
          ],
          [
           "Florida",
           5.5
          ],
          [
           "Florida",
           10.899999999999999
          ],
          [
           "Florida",
           8.5
          ],
          [
           "Florida",
           7.925000000000001
          ],
          [
           "Florida",
           9.475
          ],
          [
           "Florida",
           7.4
          ],
          [
           "Florida",
           14.075
          ],
          [
           "Florida",
           10.85
          ],
          [
           "Florida",
           9.975
          ],
          [
           "Florida",
           11.6
          ],
          [
           "Florida",
           22.9
          ],
          [
           "Florida",
           20
          ],
          [
           "Florida",
           19.9
          ],
          [
           "Florida",
           14.8
          ],
          [
           "Florida",
           21.425
          ],
          [
           "Florida",
           24.8
          ],
          [
           "Florida",
           4.35
          ],
          [
           "Florida",
           2.925
          ],
          [
           "Florida",
           21.125
          ],
          [
           "Florida",
           13.4
          ],
          [
           "Florida",
           5.5
          ],
          [
           "Florida",
           33.325
          ],
          [
           "Florida",
           36.95
          ],
          [
           "Florida",
           39.6
          ],
          [
           "Florida",
           39.675
          ],
          [
           "Florida",
           46.9
          ],
          [
           "Georgia",
           3.775
          ],
          [
           "Georgia",
           2.55
          ],
          [
           "Georgia",
           3.95
          ],
          [
           "Georgia",
           6.575
          ],
          [
           "Georgia",
           7.4
          ],
          [
           "Georgia",
           7.2250000000000005
          ],
          [
           "Georgia",
           6.6499999999999995
          ],
          [
           "Georgia",
           7.4
          ],
          [
           "Georgia",
           17.525
          ],
          [
           "Georgia",
           10.6
          ],
          [
           "Georgia",
           14.25
          ],
          [
           "Georgia",
           17.375
          ],
          [
           "Georgia",
           9.65
          ],
          [
           "Georgia",
           16.05
          ],
          [
           "Georgia",
           9.6
          ],
          [
           "Georgia",
           13.125
          ],
          [
           "Georgia",
           15.299999999999999
          ],
          [
           "Georgia",
           11.475
          ],
          [
           "Georgia",
           20.599999999999998
          ],
          [
           "Georgia",
           17.8
          ],
          [
           "Georgia",
           4.875
          ],
          [
           "Georgia",
           3.4
          ],
          [
           "Georgia",
           4.025
          ],
          [
           "Georgia",
           6.8
          ],
          [
           "Georgia",
           4.9
          ],
          [
           "Georgia",
           37.525
          ],
          [
           "Georgia",
           41.474999999999994
          ],
          [
           "Georgia",
           43.45
          ],
          [
           "Georgia",
           45.95
          ],
          [
           "Georgia",
           69.6
          ],
          [
           "Hawaii",
           0.55
          ],
          [
           "Hawaii",
           0.025
          ],
          [
           "Hawaii",
           0.15
          ],
          [
           "Hawaii",
           0.15
          ],
          [
           "Hawaii",
           0.1
          ],
          [
           "Hawaii",
           1.925
          ],
          [
           "Hawaii",
           1.05
          ],
          [
           "Hawaii",
           0.65
          ],
          [
           "Hawaii",
           0.275
          ],
          [
           "Hawaii",
           2.9
          ],
          [
           "Hawaii",
           0.05
          ],
          [
           "Hawaii",
           0.4
          ],
          [
           "Hawaii",
           0
          ],
          [
           "Hawaii",
           0.025
          ],
          [
           "Hawaii",
           0.7
          ],
          [
           "Hawaii",
           53.275
          ],
          [
           "Hawaii",
           38.925
          ],
          [
           "Hawaii",
           19.049999999999997
          ],
          [
           "Hawaii",
           87.275
          ],
          [
           "Hawaii",
           64.9
          ],
          [
           "Hawaii",
           0.025
          ],
          [
           "Hawaii",
           0.025
          ],
          [
           "Hawaii",
           0.025
          ],
          [
           "Hawaii",
           0.05
          ],
          [
           "Hawaii",
           0
          ],
          [
           "Hawaii",
           52
          ],
          [
           "Hawaii",
           35.9
          ],
          [
           "Hawaii",
           37.525000000000006
          ],
          [
           "Hawaii",
           82.525
          ],
          [
           "Hawaii",
           72.1
          ],
          [
           "Idaho",
           6.25
          ],
          [
           "Idaho",
           3.5250000000000004
          ],
          [
           "Idaho",
           17.674999999999997
          ],
          [
           "Idaho",
           7
          ],
          [
           "Idaho",
           8
          ],
          [
           "Idaho",
           6.9
          ],
          [
           "Idaho",
           5.25
          ],
          [
           "Idaho",
           5.175
          ],
          [
           "Idaho",
           7.075
          ],
          [
           "Idaho",
           8.6
          ],
          [
           "Idaho",
           6.2
          ],
          [
           "Idaho",
           4.2
          ],
          [
           "Idaho",
           14.975
          ],
          [
           "Idaho",
           16.075
          ],
          [
           "Idaho",
           9.2
          ],
          [
           "Idaho",
           4.8
          ],
          [
           "Idaho",
           3.15
          ],
          [
           "Idaho",
           21.174999999999997
          ],
          [
           "Idaho",
           15.55
          ],
          [
           "Idaho",
           8
          ],
          [
           "Idaho",
           4.025
          ],
          [
           "Idaho",
           2.6
          ],
          [
           "Idaho",
           2.625
          ],
          [
           "Idaho",
           3.75
          ],
          [
           "Idaho",
           0
          ],
          [
           "Idaho",
           37.75
          ],
          [
           "Idaho",
           27.475
          ],
          [
           "Idaho",
           48.1
          ],
          [
           "Idaho",
           57.1
          ],
          [
           "Idaho",
           24.5
          ],
          [
           "Illinois",
           0.45
          ],
          [
           "Illinois",
           1.05
          ],
          [
           "Illinois",
           1.2
          ],
          [
           "Illinois",
           3.7
          ],
          [
           "Illinois",
           3.1
          ],
          [
           "Illinois",
           4.825
          ],
          [
           "Illinois",
           4.025
          ],
          [
           "Illinois",
           6.25
          ],
          [
           "Illinois",
           7.175000000000001
          ],
          [
           "Illinois",
           15.5
          ],
          [
           "Illinois",
           1.05
          ],
          [
           "Illinois",
           3.9
          ],
          [
           "Illinois",
           4.35
          ],
          [
           "Illinois",
           4.5
          ],
          [
           "Illinois",
           0.7
          ],
          [
           "Illinois",
           4.025
          ],
          [
           "Illinois",
           7.6
          ],
          [
           "Illinois",
           10.45
          ],
          [
           "Illinois",
           10.674999999999999
          ],
          [
           "Illinois",
           14.7
          ],
          [
           "Illinois",
           4.525
          ],
          [
           "Illinois",
           4.275
          ],
          [
           "Illinois",
           4.425
          ],
          [
           "Illinois",
           6.5
          ],
          [
           "Illinois",
           10.1
          ],
          [
           "Illinois",
           9.925
          ],
          [
           "Illinois",
           17.25
          ],
          [
           "Illinois",
           22.825
          ],
          [
           "Illinois",
           21.95
          ],
          [
           "Illinois",
           33.3
          ],
          [
           "Indiana",
           4.575
          ],
          [
           "Indiana",
           0.575
          ],
          [
           "Indiana",
           1.85
          ],
          [
           "Indiana",
           7.15
          ],
          [
           "Indiana",
           2.6
          ],
          [
           "Indiana",
           7.075
          ],
          [
           "Indiana",
           3.375
          ],
          [
           "Indiana",
           6.675
          ],
          [
           "Indiana",
           12.899999999999999
          ],
          [
           "Indiana",
           7.1
          ],
          [
           "Indiana",
           2.275
          ],
          [
           "Indiana",
           1.1
          ],
          [
           "Indiana",
           13
          ],
          [
           "Indiana",
           22.549999999999997
          ],
          [
           "Indiana",
           5.5
          ],
          [
           "Indiana",
           3.225
          ],
          [
           "Indiana",
           7.15
          ],
          [
           "Indiana",
           5.4
          ],
          [
           "Indiana",
           11.325
          ],
          [
           "Indiana",
           8.8
          ],
          [
           "Indiana",
           5.9
          ],
          [
           "Indiana",
           3.7
          ],
          [
           "Indiana",
           4.575
          ],
          [
           "Indiana",
           1.9
          ],
          [
           "Indiana",
           1.7
          ],
          [
           "Indiana",
           16.225
          ],
          [
           "Indiana",
           27.125
          ],
          [
           "Indiana",
           14.675
          ],
          [
           "Indiana",
           48.05
          ],
          [
           "Indiana",
           15.6
          ],
          [
           "Iowa",
           2.05
          ],
          [
           "Iowa",
           10.55
          ],
          [
           "Iowa",
           7.65
          ],
          [
           "Iowa",
           4.65
          ],
          [
           "Iowa",
           0.6
          ],
          [
           "Iowa",
           12.775
          ],
          [
           "Iowa",
           10.95
          ],
          [
           "Iowa",
           10.475
          ],
          [
           "Iowa",
           10.075
          ],
          [
           "Iowa",
           7.7
          ],
          [
           "Iowa",
           5.575
          ],
          [
           "Iowa",
           7.25
          ],
          [
           "Iowa",
           18.775
          ],
          [
           "Iowa",
           10.125
          ],
          [
           "Iowa",
           0.3
          ],
          [
           "Iowa",
           3.125
          ],
          [
           "Iowa",
           11.35
          ],
          [
           "Iowa",
           17.15
          ],
          [
           "Iowa",
           11.85
          ],
          [
           "Iowa",
           1.7
          ],
          [
           "Iowa",
           2.525
          ],
          [
           "Iowa",
           5.6
          ],
          [
           "Iowa",
           5.074999999999999
          ],
          [
           "Iowa",
           1.9249999999999998
          ],
          [
           "Iowa",
           3.5
          ],
          [
           "Iowa",
           29.575
          ],
          [
           "Iowa",
           31.9
          ],
          [
           "Iowa",
           37.775
          ],
          [
           "Iowa",
           25.75
          ],
          [
           "Iowa",
           34.8
          ],
          [
           "Kansas",
           0.6000000000000001
          ],
          [
           "Kansas",
           4.325
          ],
          [
           "Kansas",
           4.7
          ],
          [
           "Kansas",
           8.725
          ],
          [
           "Kansas",
           2.5
          ],
          [
           "Kansas",
           15.425
          ],
          [
           "Kansas",
           3.925
          ],
          [
           "Kansas",
           4.949999999999999
          ],
          [
           "Kansas",
           13.825
          ],
          [
           "Kansas",
           21.6
          ],
          [
           "Kansas",
           13.375
          ],
          [
           "Kansas",
           10.4
          ],
          [
           "Kansas",
           13.775
          ],
          [
           "Kansas",
           20.225
          ],
          [
           "Kansas",
           12.2
          ],
          [
           "Kansas",
           11.175
          ],
          [
           "Kansas",
           13.850000000000001
          ],
          [
           "Kansas",
           17.95
          ],
          [
           "Kansas",
           33.575
          ],
          [
           "Kansas",
           7.8
          ],
          [
           "Kansas",
           7.25
          ],
          [
           "Kansas",
           2.8000000000000003
          ],
          [
           "Kansas",
           9.575
          ],
          [
           "Kansas",
           11.25
          ],
          [
           "Kansas",
           4
          ],
          [
           "Kansas",
           28.525
          ],
          [
           "Kansas",
           37.4
          ],
          [
           "Kansas",
           36.95
          ],
          [
           "Kansas",
           61.15
          ],
          [
           "Kansas",
           92
          ],
          [
           "Kentucky",
           2.35
          ],
          [
           "Kentucky",
           1.65
          ],
          [
           "Kentucky",
           1.625
          ],
          [
           "Kentucky",
           1.075
          ],
          [
           "Kentucky",
           0.1
          ],
          [
           "Kentucky",
           12.1
          ],
          [
           "Kentucky",
           11.55
          ],
          [
           "Kentucky",
           9.05
          ],
          [
           "Kentucky",
           5.525
          ],
          [
           "Kentucky",
           10.7
          ],
          [
           "Kentucky",
           5.15
          ],
          [
           "Kentucky",
           12.3
          ],
          [
           "Kentucky",
           3.8499999999999996
          ],
          [
           "Kentucky",
           5.075
          ],
          [
           "Kentucky",
           5.3
          ],
          [
           "Kentucky",
           13.75
          ],
          [
           "Kentucky",
           23.275
          ],
          [
           "Kentucky",
           21.675
          ],
          [
           "Kentucky",
           29.55
          ],
          [
           "Kentucky",
           12.9
          ],
          [
           "Kentucky",
           4.875
          ],
          [
           "Kentucky",
           5.6
          ],
          [
           "Kentucky",
           9.425
          ],
          [
           "Kentucky",
           5.925
          ],
          [
           "Kentucky",
           4.6
          ],
          [
           "Kentucky",
           23.775
          ],
          [
           "Kentucky",
           38.25
          ],
          [
           "Kentucky",
           39.575
          ],
          [
           "Kentucky",
           47.025
          ],
          [
           "Kentucky",
           21.6
          ],
          [
           "Louisiana",
           1.125
          ],
          [
           "Louisiana",
           4.9
          ],
          [
           "Louisiana",
           0.175
          ],
          [
           "Louisiana",
           0.225
          ],
          [
           "Louisiana",
           0.1
          ],
          [
           "Louisiana",
           3.375
          ],
          [
           "Louisiana",
           5.975
          ],
          [
           "Louisiana",
           2.975
          ],
          [
           "Louisiana",
           1.925
          ],
          [
           "Louisiana",
           1
          ],
          [
           "Louisiana",
           1.25
          ],
          [
           "Louisiana",
           0.6
          ],
          [
           "Louisiana",
           1.4000000000000001
          ],
          [
           "Louisiana",
           2.2750000000000004
          ],
          [
           "Louisiana",
           0.3
          ],
          [
           "Louisiana",
           2.925
          ],
          [
           "Louisiana",
           10.6
          ],
          [
           "Louisiana",
           28.450000000000003
          ],
          [
           "Louisiana",
           10.8
          ],
          [
           "Louisiana",
           1.3
          ],
          [
           "Louisiana",
           0.75
          ],
          [
           "Louisiana",
           1.1
          ],
          [
           "Louisiana",
           6.95
          ],
          [
           "Louisiana",
           1.55
          ],
          [
           "Louisiana",
           0.7
          ],
          [
           "Louisiana",
           22.6
          ],
          [
           "Louisiana",
           21.475
          ],
          [
           "Louisiana",
           34.925
          ],
          [
           "Louisiana",
           15.225000000000001
          ],
          [
           "Louisiana",
           57.8
          ],
          [
           "Maine",
           3.3249999999999997
          ],
          [
           "Maine",
           1.2249999999999999
          ],
          [
           "Maine",
           8.975
          ],
          [
           "Maine",
           0.375
          ],
          [
           "Maine",
           0
          ],
          [
           "Maine",
           2.675
          ],
          [
           "Maine",
           2.4
          ],
          [
           "Maine",
           7.525
          ],
          [
           "Maine",
           2.6
          ],
          [
           "Maine",
           1.4
          ],
          [
           "Maine",
           8.625
          ],
          [
           "Maine",
           7.775
          ],
          [
           "Maine",
           4.075
          ],
          [
           "Maine",
           0.325
          ],
          [
           "Maine",
           0
          ],
          [
           "Maine",
           9.55
          ],
          [
           "Maine",
           0.325
          ],
          [
           "Maine",
           8.075
          ],
          [
           "Maine",
           1.875
          ],
          [
           "Maine",
           0.1
          ],
          [
           "Maine",
           2.55
          ],
          [
           "Maine",
           7.35
          ],
          [
           "Maine",
           3.725
          ],
          [
           "Maine",
           2
          ],
          [
           "Maine",
           0.8
          ],
          [
           "Maine",
           26.1
          ],
          [
           "Maine",
           26.5
          ],
          [
           "Maine",
           14.149999999999999
          ],
          [
           "Maine",
           17.825
          ],
          [
           "Maine",
           2.3
          ],
          [
           "Maryland",
           0.9
          ],
          [
           "Maryland",
           1.75
          ],
          [
           "Maryland",
           0.675
          ],
          [
           "Maryland",
           1.4500000000000002
          ],
          [
           "Maryland",
           0.2
          ],
          [
           "Maryland",
           8.275
          ],
          [
           "Maryland",
           4.1
          ],
          [
           "Maryland",
           5.225
          ],
          [
           "Maryland",
           6.175000000000001
          ],
          [
           "Maryland",
           10.1
          ],
          [
           "Maryland",
           6.325
          ],
          [
           "Maryland",
           4.425
          ],
          [
           "Maryland",
           1
          ],
          [
           "Maryland",
           0.8999999999999999
          ],
          [
           "Maryland",
           0
          ],
          [
           "Maryland",
           6.050000000000001
          ],
          [
           "Maryland",
           3.875
          ],
          [
           "Maryland",
           5.8500000000000005
          ],
          [
           "Maryland",
           5.075
          ],
          [
           "Maryland",
           5.1
          ],
          [
           "Maryland",
           5.05
          ],
          [
           "Maryland",
           0.875
          ],
          [
           "Maryland",
           5.575
          ],
          [
           "Maryland",
           2.25
          ],
          [
           "Maryland",
           2.4
          ],
          [
           "Maryland",
           11.875
          ],
          [
           "Maryland",
           16.25
          ],
          [
           "Maryland",
           7.825000000000001
          ],
          [
           "Maryland",
           14.575
          ],
          [
           "Maryland",
           12.6
          ],
          [
           "Massachusetts",
           2.225
          ],
          [
           "Massachusetts",
           2.05
          ],
          [
           "Massachusetts",
           5.825
          ],
          [
           "Massachusetts",
           5.15
          ],
          [
           "Massachusetts",
           0
          ],
          [
           "Massachusetts",
           4.275
          ],
          [
           "Massachusetts",
           2.375
          ],
          [
           "Massachusetts",
           3.3
          ],
          [
           "Massachusetts",
           4.025
          ],
          [
           "Massachusetts",
           6.3
          ],
          [
           "Massachusetts",
           17.15
          ],
          [
           "Massachusetts",
           2.775
          ],
          [
           "Massachusetts",
           5.125
          ],
          [
           "Massachusetts",
           5.425
          ],
          [
           "Massachusetts",
           4.3
          ],
          [
           "Massachusetts",
           17.425
          ],
          [
           "Massachusetts",
           6.7749999999999995
          ],
          [
           "Massachusetts",
           5.05
          ],
          [
           "Massachusetts",
           5.6499999999999995
          ],
          [
           "Massachusetts",
           0
          ],
          [
           "Massachusetts",
           2.3000000000000003
          ],
          [
           "Massachusetts",
           6.275
          ],
          [
           "Massachusetts",
           1.9
          ],
          [
           "Massachusetts",
           6.275
          ],
          [
           "Massachusetts",
           0.9
          ],
          [
           "Massachusetts",
           34.5
          ],
          [
           "Massachusetts",
           17.7
          ],
          [
           "Massachusetts",
           35.625
          ],
          [
           "Massachusetts",
           33.75
          ],
          [
           "Massachusetts",
           10.3
          ],
          [
           "Michigan",
           2.25
          ],
          [
           "Michigan",
           0.375
          ],
          [
           "Michigan",
           3.5249999999999995
          ],
          [
           "Michigan",
           7.05
          ],
          [
           "Michigan",
           1.5
          ],
          [
           "Michigan",
           7.425
          ],
          [
           "Michigan",
           5.9
          ],
          [
           "Michigan",
           4.625
          ],
          [
           "Michigan",
           11.65
          ],
          [
           "Michigan",
           12.2
          ],
          [
           "Michigan",
           7.125
          ],
          [
           "Michigan",
           7.2
          ],
          [
           "Michigan",
           10.325
          ],
          [
           "Michigan",
           14.5
          ],
          [
           "Michigan",
           0.2
          ],
          [
           "Michigan",
           9.125
          ],
          [
           "Michigan",
           9.025
          ],
          [
           "Michigan",
           8.25
          ],
          [
           "Michigan",
           16.775
          ],
          [
           "Michigan",
           5.8
          ],
          [
           "Michigan",
           5.05
          ],
          [
           "Michigan",
           3.9250000000000003
          ],
          [
           "Michigan",
           2.325
          ],
          [
           "Michigan",
           10.225000000000001
          ],
          [
           "Michigan",
           0.7
          ],
          [
           "Michigan",
           29
          ],
          [
           "Michigan",
           37
          ],
          [
           "Michigan",
           34.4
          ],
          [
           "Michigan",
           60.300000000000004
          ],
          [
           "Michigan",
           18.2
          ],
          [
           "Minnesota",
           4.300000000000001
          ],
          [
           "Minnesota",
           4
          ],
          [
           "Minnesota",
           2.1
          ],
          [
           "Minnesota",
           4.825
          ],
          [
           "Minnesota",
           1.9
          ],
          [
           "Minnesota",
           5.625
          ],
          [
           "Minnesota",
           9.85
          ],
          [
           "Minnesota",
           8.6
          ],
          [
           "Minnesota",
           5.55
          ],
          [
           "Minnesota",
           2
          ],
          [
           "Minnesota",
           17.25
          ],
          [
           "Minnesota",
           17.45
          ],
          [
           "Minnesota",
           15.725
          ],
          [
           "Minnesota",
           10.725
          ],
          [
           "Minnesota",
           0
          ],
          [
           "Minnesota",
           7.4
          ],
          [
           "Minnesota",
           8.825
          ],
          [
           "Minnesota",
           3.45
          ],
          [
           "Minnesota",
           6.9
          ],
          [
           "Minnesota",
           0.2
          ],
          [
           "Minnesota",
           6.875
          ],
          [
           "Minnesota",
           9.975
          ],
          [
           "Minnesota",
           3.35
          ],
          [
           "Minnesota",
           8.2
          ],
          [
           "Minnesota",
           0.8
          ],
          [
           "Minnesota",
           25.924999999999997
          ],
          [
           "Minnesota",
           26.9
          ],
          [
           "Minnesota",
           31.325
          ],
          [
           "Minnesota",
           21.95
          ],
          [
           "Minnesota",
           1.3
          ],
          [
           "Mississippi",
           0.175
          ],
          [
           "Mississippi",
           0.725
          ],
          [
           "Mississippi",
           0.5249999999999999
          ],
          [
           "Mississippi",
           0.05
          ],
          [
           "Mississippi",
           64.8
          ],
          [
           "Mississippi",
           2
          ],
          [
           "Mississippi",
           2.15
          ],
          [
           "Mississippi",
           5.95
          ],
          [
           "Mississippi",
           4.1
          ],
          [
           "Mississippi",
           1.9
          ],
          [
           "Mississippi",
           0.8250000000000001
          ],
          [
           "Mississippi",
           1.925
          ],
          [
           "Mississippi",
           0.875
          ],
          [
           "Mississippi",
           0.45
          ],
          [
           "Mississippi",
           48.4
          ],
          [
           "Mississippi",
           4.725
          ],
          [
           "Mississippi",
           3.35
          ],
          [
           "Mississippi",
           11.774999999999999
          ],
          [
           "Mississippi",
           11.575
          ],
          [
           "Mississippi",
           71
          ],
          [
           "Mississippi",
           1.375
          ],
          [
           "Mississippi",
           5.525
          ],
          [
           "Mississippi",
           1.75
          ],
          [
           "Mississippi",
           12.075
          ],
          [
           "Mississippi",
           5.5
          ],
          [
           "Mississippi",
           18.9
          ],
          [
           "Mississippi",
           18.875
          ],
          [
           "Mississippi",
           36.525
          ],
          [
           "Mississippi",
           25.825
          ],
          [
           "Mississippi",
           14.6
          ],
          [
           "Missouri",
           2.9
          ],
          [
           "Missouri",
           0.575
          ],
          [
           "Missouri",
           1.825
          ],
          [
           "Missouri",
           0.8500000000000001
          ],
          [
           "Missouri",
           1.9
          ],
          [
           "Missouri",
           3.9250000000000003
          ],
          [
           "Missouri",
           2.675
          ],
          [
           "Missouri",
           4.075
          ],
          [
           "Missouri",
           11.05
          ],
          [
           "Missouri",
           5.4
          ],
          [
           "Missouri",
           1.975
          ],
          [
           "Missouri",
           1.6
          ],
          [
           "Missouri",
           9.450000000000001
          ],
          [
           "Missouri",
           2.125
          ],
          [
           "Missouri",
           0.5
          ],
          [
           "Missouri",
           7.475
          ],
          [
           "Missouri",
           7.225
          ],
          [
           "Missouri",
           18.625
          ],
          [
           "Missouri",
           29.474999999999998
          ],
          [
           "Missouri",
           2.3
          ],
          [
           "Missouri",
           4.15
          ],
          [
           "Missouri",
           2.475
          ],
          [
           "Missouri",
           10.925
          ],
          [
           "Missouri",
           7.925
          ],
          [
           "Missouri",
           3.2
          ],
          [
           "Missouri",
           8.025
          ],
          [
           "Missouri",
           16.7
          ],
          [
           "Missouri",
           31.1
          ],
          [
           "Missouri",
           38.25
          ],
          [
           "Missouri",
           5.4
          ],
          [
           "Montana",
           6.625
          ],
          [
           "Montana",
           11.1
          ],
          [
           "Montana",
           3.5500000000000003
          ],
          [
           "Montana",
           6.725
          ],
          [
           "Montana",
           0
          ],
          [
           "Montana",
           3.375
          ],
          [
           "Montana",
           11.6
          ],
          [
           "Montana",
           8.7
          ],
          [
           "Montana",
           6.425
          ],
          [
           "Montana",
           0.8
          ],
          [
           "Montana",
           4.95
          ],
          [
           "Montana",
           6.25
          ],
          [
           "Montana",
           3.5250000000000004
          ],
          [
           "Montana",
           13.025
          ],
          [
           "Montana",
           0.8
          ],
          [
           "Montana",
           9.399999999999999
          ],
          [
           "Montana",
           13.825
          ],
          [
           "Montana",
           7.475
          ],
          [
           "Montana",
           9.05
          ],
          [
           "Montana",
           0
          ],
          [
           "Montana",
           6.775
          ],
          [
           "Montana",
           8.675
          ],
          [
           "Montana",
           1.7
          ],
          [
           "Montana",
           1
          ],
          [
           "Montana",
           1.1
          ],
          [
           "Montana",
           26.425
          ],
          [
           "Montana",
           32.975
          ],
          [
           "Montana",
           37.625
          ],
          [
           "Montana",
           39.075
          ],
          [
           "Montana",
           15.1
          ],
          [
           "Nebraska",
           2.8
          ],
          [
           "Nebraska",
           0.35000000000000003
          ],
          [
           "Nebraska",
           1.4749999999999999
          ],
          [
           "Nebraska",
           2
          ],
          [
           "Nebraska",
           32
          ],
          [
           "Nebraska",
           1.85
          ],
          [
           "Nebraska",
           0.9750000000000001
          ],
          [
           "Nebraska",
           7.9
          ],
          [
           "Nebraska",
           4.475
          ],
          [
           "Nebraska",
           2.2
          ],
          [
           "Nebraska",
           3.85
          ],
          [
           "Nebraska",
           3.8499999999999996
          ],
          [
           "Nebraska",
           11.700000000000001
          ],
          [
           "Nebraska",
           3.45
          ],
          [
           "Nebraska",
           0.8
          ],
          [
           "Nebraska",
           4.325
          ],
          [
           "Nebraska",
           0.875
          ],
          [
           "Nebraska",
           12.149999999999999
          ],
          [
           "Nebraska",
           1.725
          ],
          [
           "Nebraska",
           1.3
          ],
          [
           "Nebraska",
           2.625
          ],
          [
           "Nebraska",
           1.425
          ],
          [
           "Nebraska",
           3.425
          ],
          [
           "Nebraska",
           2.85
          ],
          [
           "Nebraska",
           0.1
          ],
          [
           "Nebraska",
           15.275
          ],
          [
           "Nebraska",
           9.7
          ],
          [
           "Nebraska",
           26.65
          ],
          [
           "Nebraska",
           9.15
          ],
          [
           "Nebraska",
           32.3
          ],
          [
           "New Jersey",
           7.699999999999999
          ],
          [
           "New Jersey",
           0.5
          ],
          [
           "New Jersey",
           1.75
          ],
          [
           "New Jersey",
           0.07500000000000001
          ],
          [
           "New Jersey",
           0
          ],
          [
           "New Jersey",
           5.5
          ],
          [
           "New Jersey",
           1.65
          ],
          [
           "New Jersey",
           1.2
          ],
          [
           "New Jersey",
           3.4
          ],
          [
           "New Jersey",
           3.5
          ],
          [
           "New Jersey",
           9.4
          ],
          [
           "New Jersey",
           2.75
          ],
          [
           "New Jersey",
           1.8
          ],
          [
           "New Jersey",
           0.15000000000000002
          ],
          [
           "New Jersey",
           0
          ],
          [
           "New Jersey",
           5
          ],
          [
           "New Jersey",
           5.1
          ],
          [
           "New Jersey",
           4
          ],
          [
           "New Jersey",
           3.375
          ],
          [
           "New Jersey",
           4.4
          ],
          [
           "New Jersey",
           5.25
          ],
          [
           "New Jersey",
           5.3
          ],
          [
           "New Jersey",
           0.825
          ],
          [
           "New Jersey",
           0.4
          ],
          [
           "New Jersey",
           0.6
          ],
          [
           "New Jersey",
           26.875
          ],
          [
           "New Jersey",
           17.175
          ],
          [
           "New Jersey",
           16.825
          ],
          [
           "New Jersey",
           14.425
          ],
          [
           "New Jersey",
           15.3
          ],
          [
           "New Mexico",
           17.675
          ],
          [
           "New Mexico",
           26.5
          ],
          [
           "New Mexico",
           44.525000000000006
          ],
          [
           "New Mexico",
           1
          ],
          [
           "New Mexico",
           0.6
          ],
          [
           "New Mexico",
           14.450000000000001
          ],
          [
           "New Mexico",
           3.05
          ],
          [
           "New Mexico",
           12.675
          ],
          [
           "New Mexico",
           4.5
          ],
          [
           "New Mexico",
           1.4
          ],
          [
           "New Mexico",
           18.125
          ],
          [
           "New Mexico",
           6.65
          ],
          [
           "New Mexico",
           5.975
          ],
          [
           "New Mexico",
           3.4250000000000003
          ],
          [
           "New Mexico",
           0
          ],
          [
           "New Mexico",
           13.85
          ],
          [
           "New Mexico",
           14.1
          ],
          [
           "New Mexico",
           1.05
          ],
          [
           "New Mexico",
           0.35
          ],
          [
           "New Mexico",
           1.1
          ],
          [
           "New Mexico",
           1.375
          ],
          [
           "New Mexico",
           0.325
          ],
          [
           "New Mexico",
           0.475
          ],
          [
           "New Mexico",
           0.725
          ],
          [
           "New Mexico",
           0.3
          ],
          [
           "New Mexico",
           37
          ],
          [
           "New Mexico",
           58.45
          ],
          [
           "New Mexico",
           85.675
          ],
          [
           "New Mexico",
           31.099999999999998
          ],
          [
           "New Mexico",
           3.5
          ],
          [
           "New York",
           2.875
          ],
          [
           "New York",
           2.875
          ],
          [
           "New York",
           6.525
          ],
          [
           "New York",
           10.7
          ],
          [
           "New York",
           1.7
          ],
          [
           "New York",
           6.225
          ],
          [
           "New York",
           10.125
          ],
          [
           "New York",
           9.025
          ],
          [
           "New York",
           13.85
          ],
          [
           "New York",
           7.7
          ],
          [
           "New York",
           6.7
          ],
          [
           "New York",
           9.25
          ],
          [
           "New York",
           5.300000000000001
          ],
          [
           "New York",
           8.825
          ],
          [
           "New York",
           1.7
          ],
          [
           "New York",
           7.9
          ],
          [
           "New York",
           5.05
          ],
          [
           "New York",
           11
          ],
          [
           "New York",
           14.25
          ],
          [
           "New York",
           2.5
          ],
          [
           "New York",
           4.275
          ],
          [
           "New York",
           2.775
          ],
          [
           "New York",
           3.825
          ],
          [
           "New York",
           5.1499999999999995
          ],
          [
           "New York",
           9
          ],
          [
           "New York",
           22.8
          ],
          [
           "New York",
           28.275
          ],
          [
           "New York",
           27.5
          ],
          [
           "New York",
           32.9
          ],
          [
           "New York",
           10.6
          ],
          [
           "North Carolina",
           0.4
          ],
          [
           "North Carolina",
           2.125
          ],
          [
           "North Carolina",
           2.425
          ],
          [
           "North Carolina",
           4
          ],
          [
           "North Carolina",
           0.2
          ],
          [
           "North Carolina",
           5.775
          ],
          [
           "North Carolina",
           9.55
          ],
          [
           "North Carolina",
           7.8999999999999995
          ],
          [
           "North Carolina",
           12.625
          ],
          [
           "North Carolina",
           2.2
          ],
          [
           "North Carolina",
           8.575
          ],
          [
           "North Carolina",
           9.85
          ],
          [
           "North Carolina",
           6.025
          ],
          [
           "North Carolina",
           3.275
          ],
          [
           "North Carolina",
           0.7
          ],
          [
           "North Carolina",
           11.975
          ],
          [
           "North Carolina",
           11.775
          ],
          [
           "North Carolina",
           18.825
          ],
          [
           "North Carolina",
           10.274999999999999
          ],
          [
           "North Carolina",
           2
          ],
          [
           "North Carolina",
           6.7749999999999995
          ],
          [
           "North Carolina",
           12.1
          ],
          [
           "North Carolina",
           3.475
          ],
          [
           "North Carolina",
           4.275
          ],
          [
           "North Carolina",
           3.4
          ],
          [
           "North Carolina",
           32.5
          ],
          [
           "North Carolina",
           28.275
          ],
          [
           "North Carolina",
           49.2
          ],
          [
           "North Carolina",
           39.6
          ],
          [
           "North Carolina",
           16.4
          ],
          [
           "North Dakota",
           2.5
          ],
          [
           "North Dakota",
           2.4749999999999996
          ],
          [
           "North Dakota",
           1.7
          ],
          [
           "North Dakota",
           5.925
          ],
          [
           "North Dakota",
           0
          ],
          [
           "North Dakota",
           3.7249999999999996
          ],
          [
           "North Dakota",
           4.05
          ],
          [
           "North Dakota",
           3.1
          ],
          [
           "North Dakota",
           5.225
          ],
          [
           "North Dakota",
           0.4
          ],
          [
           "North Dakota",
           4.525
          ],
          [
           "North Dakota",
           3.6
          ],
          [
           "North Dakota",
           3.475
          ],
          [
           "North Dakota",
           6.425
          ],
          [
           "North Dakota",
           6.5
          ],
          [
           "North Dakota",
           5.625
          ],
          [
           "North Dakota",
           5.85
          ],
          [
           "North Dakota",
           8.1
          ],
          [
           "North Dakota",
           7.225
          ],
          [
           "North Dakota",
           0
          ],
          [
           "North Dakota",
           1.55
          ],
          [
           "North Dakota",
           4.3
          ],
          [
           "North Dakota",
           0.85
          ],
          [
           "North Dakota",
           2.525
          ],
          [
           "North Dakota",
           1.3
          ],
          [
           "North Dakota",
           15.45
          ],
          [
           "North Dakota",
           20.1
          ],
          [
           "North Dakota",
           28.450000000000003
          ],
          [
           "North Dakota",
           29.575
          ],
          [
           "North Dakota",
           6.9
          ],
          [
           "Ohio",
           1.65
          ],
          [
           "Ohio",
           0.9749999999999999
          ],
          [
           "Ohio",
           4.65
          ],
          [
           "Ohio",
           2.725
          ],
          [
           "Ohio",
           11.1
          ],
          [
           "Ohio",
           11.275
          ],
          [
           "Ohio",
           6.975
          ],
          [
           "Ohio",
           10.475
          ],
          [
           "Ohio",
           12.925
          ],
          [
           "Ohio",
           6.7
          ],
          [
           "Ohio",
           11.399999999999999
          ],
          [
           "Ohio",
           6.675000000000001
          ],
          [
           "Ohio",
           5.9
          ],
          [
           "Ohio",
           3.825
          ],
          [
           "Ohio",
           1.1
          ],
          [
           "Ohio",
           5.625
          ],
          [
           "Ohio",
           8.8
          ],
          [
           "Ohio",
           15.100000000000001
          ],
          [
           "Ohio",
           21.849999999999998
          ],
          [
           "Ohio",
           9.9
          ],
          [
           "Ohio",
           8.975
          ],
          [
           "Ohio",
           5.2
          ],
          [
           "Ohio",
           7.35
          ],
          [
           "Ohio",
           6.05
          ],
          [
           "Ohio",
           3.1
          ],
          [
           "Ohio",
           23.375
          ],
          [
           "Ohio",
           38.7
          ],
          [
           "Ohio",
           42.025
          ],
          [
           "Ohio",
           41.65
          ],
          [
           "Ohio",
           49.3
          ],
          [
           "Oklahoma",
           0.175
          ],
          [
           "Oklahoma",
           0.125
          ],
          [
           "Oklahoma",
           5.3
          ],
          [
           "Oklahoma",
           3.2249999999999996
          ],
          [
           "Oklahoma",
           0
          ],
          [
           "Oklahoma",
           2.75
          ],
          [
           "Oklahoma",
           0.75
          ],
          [
           "Oklahoma",
           3.225
          ],
          [
           "Oklahoma",
           8.175
          ],
          [
           "Oklahoma",
           0
          ],
          [
           "Oklahoma",
           0.07500000000000001
          ],
          [
           "Oklahoma",
           0.575
          ],
          [
           "Oklahoma",
           1.1
          ],
          [
           "Oklahoma",
           12.575
          ],
          [
           "Oklahoma",
           0
          ],
          [
           "Oklahoma",
           5.8
          ],
          [
           "Oklahoma",
           2.75
          ],
          [
           "Oklahoma",
           6.7
          ],
          [
           "Oklahoma",
           17.725
          ],
          [
           "Oklahoma",
           0.3
          ],
          [
           "Oklahoma",
           1.9249999999999998
          ],
          [
           "Oklahoma",
           10.975
          ],
          [
           "Oklahoma",
           0.7000000000000001
          ],
          [
           "Oklahoma",
           6.45
          ],
          [
           "Oklahoma",
           0
          ],
          [
           "Oklahoma",
           21.25
          ],
          [
           "Oklahoma",
           17.275
          ],
          [
           "Oklahoma",
           14.625
          ],
          [
           "Oklahoma",
           39.25
          ],
          [
           "Oklahoma",
           7.7
          ],
          [
           "Oregon",
           5.075
          ],
          [
           "Oregon",
           10.175
          ],
          [
           "Oregon",
           14.55
          ],
          [
           "Oregon",
           8.075
          ],
          [
           "Oregon",
           0.2
          ],
          [
           "Oregon",
           3.4749999999999996
          ],
          [
           "Oregon",
           6.699999999999999
          ],
          [
           "Oregon",
           10.375
          ],
          [
           "Oregon",
           7.725
          ],
          [
           "Oregon",
           2.7
          ],
          [
           "Oregon",
           5.300000000000001
          ],
          [
           "Oregon",
           3.75
          ],
          [
           "Oregon",
           10
          ],
          [
           "Oregon",
           18.3
          ],
          [
           "Oregon",
           0.2
          ],
          [
           "Oregon",
           11.25
          ],
          [
           "Oregon",
           12.7
          ],
          [
           "Oregon",
           13.25
          ],
          [
           "Oregon",
           2.9
          ],
          [
           "Oregon",
           0.1
          ],
          [
           "Oregon",
           1.7
          ],
          [
           "Oregon",
           2.275
          ],
          [
           "Oregon",
           5.8500000000000005
          ],
          [
           "Oregon",
           0.55
          ],
          [
           "Oregon",
           0.5
          ],
          [
           "Oregon",
           32.975
          ],
          [
           "Oregon",
           37.875
          ],
          [
           "Oregon",
           42.725
          ],
          [
           "Oregon",
           45.85
          ],
          [
           "Oregon",
           18
          ],
          [
           "Pennsylvania",
           2.3
          ],
          [
           "Pennsylvania",
           1.325
          ],
          [
           "Pennsylvania",
           1.3
          ],
          [
           "Pennsylvania",
           3.525
          ],
          [
           "Pennsylvania",
           3.7
          ],
          [
           "Pennsylvania",
           8.125
          ],
          [
           "Pennsylvania",
           4.45
          ],
          [
           "Pennsylvania",
           2.775
          ],
          [
           "Pennsylvania",
           4.25
          ],
          [
           "Pennsylvania",
           7.5
          ],
          [
           "Pennsylvania",
           2.225
          ],
          [
           "Pennsylvania",
           3.625
          ],
          [
           "Pennsylvania",
           3.75
          ],
          [
           "Pennsylvania",
           6.475
          ],
          [
           "Pennsylvania",
           4
          ],
          [
           "Pennsylvania",
           6.925
          ],
          [
           "Pennsylvania",
           4.625
          ],
          [
           "Pennsylvania",
           3.625
          ],
          [
           "Pennsylvania",
           10.1
          ],
          [
           "Pennsylvania",
           4.6
          ],
          [
           "Pennsylvania",
           2.55
          ],
          [
           "Pennsylvania",
           2.45
          ],
          [
           "Pennsylvania",
           2.975
          ],
          [
           "Pennsylvania",
           4.95
          ],
          [
           "Pennsylvania",
           9.5
          ],
          [
           "Pennsylvania",
           29.200000000000003
          ],
          [
           "Pennsylvania",
           27.375
          ],
          [
           "Pennsylvania",
           30.125
          ],
          [
           "Pennsylvania",
           29.025
          ],
          [
           "Pennsylvania",
           15.3
          ],
          [
           "South Carolina",
           4.85
          ],
          [
           "South Carolina",
           6.25
          ],
          [
           "South Carolina",
           7.574999999999999
          ],
          [
           "South Carolina",
           0.6
          ],
          [
           "South Carolina",
           0
          ],
          [
           "South Carolina",
           4.25
          ],
          [
           "South Carolina",
           11.975
          ],
          [
           "South Carolina",
           3.475
          ],
          [
           "South Carolina",
           8.1
          ],
          [
           "South Carolina",
           12.4
          ],
          [
           "South Carolina",
           4.5249999999999995
          ],
          [
           "South Carolina",
           16.25
          ],
          [
           "South Carolina",
           5.7
          ],
          [
           "South Carolina",
           9.5
          ],
          [
           "South Carolina",
           1.7
          ],
          [
           "South Carolina",
           10.4
          ],
          [
           "South Carolina",
           21.2
          ],
          [
           "South Carolina",
           14.55
          ],
          [
           "South Carolina",
           22.125
          ],
          [
           "South Carolina",
           14.5
          ],
          [
           "South Carolina",
           1.65
          ],
          [
           "South Carolina",
           2.475
          ],
          [
           "South Carolina",
           1.225
          ],
          [
           "South Carolina",
           3.1
          ],
          [
           "South Carolina",
           1
          ],
          [
           "South Carolina",
           28.25
          ],
          [
           "South Carolina",
           27.85
          ],
          [
           "South Carolina",
           23.725
          ],
          [
           "South Carolina",
           38.125
          ],
          [
           "South Carolina",
           18.5
          ],
          [
           "South Dakota",
           1.5
          ],
          [
           "South Dakota",
           4.05
          ],
          [
           "South Dakota",
           2.525
          ],
          [
           "South Dakota",
           4.4
          ],
          [
           "South Dakota",
           0
          ],
          [
           "South Dakota",
           1.7249999999999999
          ],
          [
           "South Dakota",
           5.375
          ],
          [
           "South Dakota",
           9.925
          ],
          [
           "South Dakota",
           21.275
          ],
          [
           "South Dakota",
           0.8
          ],
          [
           "South Dakota",
           4.175
          ],
          [
           "South Dakota",
           8.45
          ],
          [
           "South Dakota",
           5.225
          ],
          [
           "South Dakota",
           3.475
          ],
          [
           "South Dakota",
           2.5
          ],
          [
           "South Dakota",
           5.575
          ],
          [
           "South Dakota",
           7.8500000000000005
          ],
          [
           "South Dakota",
           3.725
          ],
          [
           "South Dakota",
           18.675
          ],
          [
           "South Dakota",
           0
          ],
          [
           "South Dakota",
           3.275
          ],
          [
           "South Dakota",
           0.8749999999999999
          ],
          [
           "South Dakota",
           2.275
          ],
          [
           "South Dakota",
           1.05
          ],
          [
           "South Dakota",
           2.2
          ],
          [
           "South Dakota",
           12.45
          ],
          [
           "South Dakota",
           32.575
          ],
          [
           "South Dakota",
           19.075
          ],
          [
           "South Dakota",
           31.75
          ],
          [
           "South Dakota",
           0.8
          ],
          [
           "Tennessee",
           0.575
          ],
          [
           "Tennessee",
           0.4
          ],
          [
           "Tennessee",
           1.05
          ],
          [
           "Tennessee",
           1.9749999999999999
          ],
          [
           "Tennessee",
           5.1
          ],
          [
           "Tennessee",
           6.225
          ],
          [
           "Tennessee",
           6.9
          ],
          [
           "Tennessee",
           7.875
          ],
          [
           "Tennessee",
           8.524999999999999
          ],
          [
           "Tennessee",
           7.7
          ],
          [
           "Tennessee",
           4.8
          ],
          [
           "Tennessee",
           1.9
          ],
          [
           "Tennessee",
           3.375
          ],
          [
           "Tennessee",
           7.75
          ],
          [
           "Tennessee",
           0.9
          ],
          [
           "Tennessee",
           27.525
          ],
          [
           "Tennessee",
           18.625
          ],
          [
           "Tennessee",
           19.775
          ],
          [
           "Tennessee",
           29.325
          ],
          [
           "Tennessee",
           23.6
          ],
          [
           "Tennessee",
           3
          ],
          [
           "Tennessee",
           4.65
          ],
          [
           "Tennessee",
           8.275
          ],
          [
           "Tennessee",
           7.35
          ],
          [
           "Tennessee",
           7.1
          ],
          [
           "Tennessee",
           41.1
          ],
          [
           "Tennessee",
           25.75
          ],
          [
           "Tennessee",
           36.9
          ],
          [
           "Tennessee",
           44.9
          ],
          [
           "Tennessee",
           62.8
          ],
          [
           "Texas",
           2.875
          ],
          [
           "Texas",
           3.675
          ],
          [
           "Texas",
           2.675
          ],
          [
           "Texas",
           4.7
          ],
          [
           "Texas",
           5.3
          ],
          [
           "Texas",
           4.15
          ],
          [
           "Texas",
           4.4
          ],
          [
           "Texas",
           7.1000000000000005
          ],
          [
           "Texas",
           4.8
          ],
          [
           "Texas",
           6.9
          ],
          [
           "Texas",
           10.625
          ],
          [
           "Texas",
           11.7
          ],
          [
           "Texas",
           11.1
          ],
          [
           "Texas",
           3.475
          ],
          [
           "Texas",
           8.3
          ],
          [
           "Texas",
           17.45
          ],
          [
           "Texas",
           11.925
          ],
          [
           "Texas",
           20.925
          ],
          [
           "Texas",
           12.675
          ],
          [
           "Texas",
           6.5
          ],
          [
           "Texas",
           5.6
          ],
          [
           "Texas",
           2.925
          ],
          [
           "Texas",
           2.925
          ],
          [
           "Texas",
           7.375
          ],
          [
           "Texas",
           3
          ],
          [
           "Texas",
           23.1
          ],
          [
           "Texas",
           31.450000000000003
          ],
          [
           "Texas",
           33.125
          ],
          [
           "Texas",
           21.35
          ],
          [
           "Texas",
           26.1
          ],
          [
           "Utah",
           12.4
          ],
          [
           "Utah",
           0.675
          ],
          [
           "Utah",
           2.975
          ],
          [
           "Utah",
           1.925
          ],
          [
           "Utah",
           0.1
          ],
          [
           "Utah",
           4.15
          ],
          [
           "Utah",
           2.05
          ],
          [
           "Utah",
           9.975
          ],
          [
           "Utah",
           2.25
          ],
          [
           "Utah",
           0.3
          ],
          [
           "Utah",
           12.625000000000002
          ],
          [
           "Utah",
           7.6
          ],
          [
           "Utah",
           6.5
          ],
          [
           "Utah",
           2.475
          ],
          [
           "Utah",
           0
          ],
          [
           "Utah",
           11.450000000000001
          ],
          [
           "Utah",
           6.8500000000000005
          ],
          [
           "Utah",
           2.575
          ],
          [
           "Utah",
           7.25
          ],
          [
           "Utah",
           0
          ],
          [
           "Utah",
           0.55
          ],
          [
           "Utah",
           0.825
          ],
          [
           "Utah",
           7.300000000000001
          ],
          [
           "Utah",
           2
          ],
          [
           "Utah",
           8.8
          ],
          [
           "Utah",
           39.175
          ],
          [
           "Utah",
           26.924999999999997
          ],
          [
           "Utah",
           35.050000000000004
          ],
          [
           "Utah",
           36.05
          ],
          [
           "Utah",
           22.9
          ],
          [
           "Vermont",
           0.25
          ],
          [
           "Vermont",
           10.825000000000001
          ],
          [
           "Vermont",
           7.300000000000001
          ],
          [
           "Vermont",
           1.325
          ],
          [
           "Vermont",
           2.4
          ],
          [
           "Vermont",
           1.975
          ],
          [
           "Vermont",
           0.8999999999999999
          ],
          [
           "Vermont",
           3.45
          ],
          [
           "Vermont",
           1.225
          ],
          [
           "Vermont",
           0.2
          ],
          [
           "Vermont",
           0.15
          ],
          [
           "Vermont",
           10.25
          ],
          [
           "Vermont",
           13.850000000000001
          ],
          [
           "Vermont",
           10.350000000000001
          ],
          [
           "Vermont",
           0
          ],
          [
           "Vermont",
           6.2
          ],
          [
           "Vermont",
           12.35
          ],
          [
           "Vermont",
           13.625
          ],
          [
           "Vermont",
           2.225
          ],
          [
           "Vermont",
           0.1
          ],
          [
           "Vermont",
           5.15
          ],
          [
           "Vermont",
           0.65
          ],
          [
           "Vermont",
           1.3
          ],
          [
           "Vermont",
           0.4
          ],
          [
           "Vermont",
           1.2
          ],
          [
           "Vermont",
           21.45
          ],
          [
           "Vermont",
           13.5
          ],
          [
           "Vermont",
           30.674999999999997
          ],
          [
           "Vermont",
           18.575
          ],
          [
           "Vermont",
           6.2
          ],
          [
           "Virginia",
           1.45
          ],
          [
           "Virginia",
           2.475
          ],
          [
           "Virginia",
           1.625
          ],
          [
           "Virginia",
           4.55
          ],
          [
           "Virginia",
           0.8
          ],
          [
           "Virginia",
           5.525
          ],
          [
           "Virginia",
           4.85
          ],
          [
           "Virginia",
           5.125
          ],
          [
           "Virginia",
           12.05
          ],
          [
           "Virginia",
           3.9
          ],
          [
           "Virginia",
           0.9750000000000001
          ],
          [
           "Virginia",
           2.175
          ],
          [
           "Virginia",
           4.05
          ],
          [
           "Virginia",
           6.5
          ],
          [
           "Virginia",
           0.3
          ],
          [
           "Virginia",
           13.45
          ],
          [
           "Virginia",
           13.875
          ],
          [
           "Virginia",
           19.475
          ],
          [
           "Virginia",
           24.25
          ],
          [
           "Virginia",
           12.8
          ],
          [
           "Virginia",
           8.925
          ],
          [
           "Virginia",
           3.8499999999999996
          ],
          [
           "Virginia",
           4.675
          ],
          [
           "Virginia",
           5.575
          ],
          [
           "Virginia",
           9.3
          ],
          [
           "Virginia",
           25.125
          ],
          [
           "Virginia",
           31.575000000000003
          ],
          [
           "Virginia",
           27.824999999999996
          ],
          [
           "Virginia",
           36.2
          ],
          [
           "Virginia",
           16.6
          ],
          [
           "Washington",
           1.2249999999999999
          ],
          [
           "Washington",
           2.3
          ],
          [
           "Washington",
           1.55
          ],
          [
           "Washington",
           5.225
          ],
          [
           "Washington",
           0.6
          ],
          [
           "Washington",
           4
          ],
          [
           "Washington",
           5.45
          ],
          [
           "Washington",
           3.175
          ],
          [
           "Washington",
           5.175
          ],
          [
           "Washington",
           0.8
          ],
          [
           "Washington",
           1.825
          ],
          [
           "Washington",
           8.25
          ],
          [
           "Washington",
           2.25
          ],
          [
           "Washington",
           4.275
          ],
          [
           "Washington",
           0.3
          ],
          [
           "Washington",
           1.125
          ],
          [
           "Washington",
           6.975
          ],
          [
           "Washington",
           3.45
          ],
          [
           "Washington",
           2.85
          ],
          [
           "Washington",
           0.8
          ],
          [
           "Washington",
           0.8500000000000001
          ],
          [
           "Washington",
           1.525
          ],
          [
           "Washington",
           1.85
          ],
          [
           "Washington",
           1.275
          ],
          [
           "Washington",
           0.2
          ],
          [
           "Washington",
           30.675
          ],
          [
           "Washington",
           37.699999999999996
          ],
          [
           "Washington",
           18.375
          ],
          [
           "Washington",
           26.5
          ],
          [
           "Washington",
           22.3
          ],
          [
           "West Virginia",
           1.275
          ],
          [
           "West Virginia",
           2.5
          ],
          [
           "West Virginia",
           1.45
          ],
          [
           "West Virginia",
           0.95
          ],
          [
           "West Virginia",
           1.1
          ],
          [
           "West Virginia",
           7.6
          ],
          [
           "West Virginia",
           8.5
          ],
          [
           "West Virginia",
           8.225
          ],
          [
           "West Virginia",
           11.35
          ],
          [
           "West Virginia",
           5
          ],
          [
           "West Virginia",
           2.325
          ],
          [
           "West Virginia",
           0.45
          ],
          [
           "West Virginia",
           0.275
          ],
          [
           "West Virginia",
           3.45
          ],
          [
           "West Virginia",
           0.2
          ],
          [
           "West Virginia",
           6.3500000000000005
          ],
          [
           "West Virginia",
           3.275
          ],
          [
           "West Virginia",
           3.525
          ],
          [
           "West Virginia",
           20.825
          ],
          [
           "West Virginia",
           3.2
          ],
          [
           "West Virginia",
           3.05
          ],
          [
           "West Virginia",
           2.6
          ],
          [
           "West Virginia",
           2.575
          ],
          [
           "West Virginia",
           5.425000000000001
          ],
          [
           "West Virginia",
           1.3
          ],
          [
           "West Virginia",
           18.525
          ],
          [
           "West Virginia",
           26.825
          ],
          [
           "West Virginia",
           27.675
          ],
          [
           "West Virginia",
           28.825
          ],
          [
           "West Virginia",
           10.3
          ],
          [
           "Wisconsin",
           3.625
          ],
          [
           "Wisconsin",
           8.675
          ],
          [
           "Wisconsin",
           13.600000000000001
          ],
          [
           "Wisconsin",
           5.9
          ],
          [
           "Wisconsin",
           0.7
          ],
          [
           "Wisconsin",
           10.675
          ],
          [
           "Wisconsin",
           10.35
          ],
          [
           "Wisconsin",
           8.875
          ],
          [
           "Wisconsin",
           11.7
          ],
          [
           "Wisconsin",
           13.8
          ],
          [
           "Wisconsin",
           14.875
          ],
          [
           "Wisconsin",
           13.1
          ],
          [
           "Wisconsin",
           12.2
          ],
          [
           "Wisconsin",
           18.15
          ],
          [
           "Wisconsin",
           1.1
          ],
          [
           "Wisconsin",
           10.725
          ],
          [
           "Wisconsin",
           7.775
          ],
          [
           "Wisconsin",
           15.375
          ],
          [
           "Wisconsin",
           20.4
          ],
          [
           "Wisconsin",
           3.2
          ],
          [
           "Wisconsin",
           10.75
          ],
          [
           "Wisconsin",
           19.55
          ],
          [
           "Wisconsin",
           9.525
          ],
          [
           "Wisconsin",
           3.5
          ],
          [
           "Wisconsin",
           5
          ],
          [
           "Wisconsin",
           37.699999999999996
          ],
          [
           "Wisconsin",
           37.099999999999994
          ],
          [
           "Wisconsin",
           36.875
          ],
          [
           "Wisconsin",
           32.625
          ],
          [
           "Wisconsin",
           15.9
          ],
          [
           "Wyoming",
           3.45
          ],
          [
           "Wyoming",
           1.25
          ],
          [
           "Wyoming",
           7.625
          ],
          [
           "Wyoming",
           1.75
          ],
          [
           "Wyoming",
           0.1
          ],
          [
           "Wyoming",
           5.575
          ],
          [
           "Wyoming",
           1.95
          ],
          [
           "Wyoming",
           5
          ],
          [
           "Wyoming",
           2.225
          ],
          [
           "Wyoming",
           0.5
          ],
          [
           "Wyoming",
           4.375
          ],
          [
           "Wyoming",
           2.725
          ],
          [
           "Wyoming",
           3.2750000000000004
          ],
          [
           "Wyoming",
           4.475
          ],
          [
           "Wyoming",
           0
          ],
          [
           "Wyoming",
           8.049999999999999
          ],
          [
           "Wyoming",
           1.925
          ],
          [
           "Wyoming",
           1.875
          ],
          [
           "Wyoming",
           2.775
          ],
          [
           "Wyoming",
           0
          ],
          [
           "Wyoming",
           1.6749999999999998
          ],
          [
           "Wyoming",
           0.6
          ],
          [
           "Wyoming",
           1.925
          ],
          [
           "Wyoming",
           2.5
          ],
          [
           "Wyoming",
           2.3
          ],
          [
           "Wyoming",
           23.375
          ],
          [
           "Wyoming",
           19.475
          ],
          [
           "Wyoming",
           23.525000000000002
          ],
          [
           "Wyoming",
           22.424999999999997
          ],
          [
           "Wyoming",
           0.7
          ]
         ],
         "geo": "geo",
         "hovertemplate": "state_code=%{location}<br>State=%{customdata[0]}<br>% of Bee Colonies=%{z}<extra></extra>",
         "locationmode": "USA-states",
         "locations": [
          "AL",
          "AL",
          "AL",
          "AL",
          "AL",
          "AL",
          "AL",
          "AL",
          "AL",
          "AL",
          "AL",
          "AL",
          "AL",
          "AL",
          "AL",
          "AL",
          "AL",
          "AL",
          "AL",
          "AL",
          "AL",
          "AL",
          "AL",
          "AL",
          "AL",
          "AL",
          "AL",
          "AL",
          "AL",
          "AL",
          "AZ",
          "AZ",
          "AZ",
          "AZ",
          "AZ",
          "AZ",
          "AZ",
          "AZ",
          "AZ",
          "AZ",
          "AZ",
          "AZ",
          "AZ",
          "AZ",
          "AZ",
          "AZ",
          "AZ",
          "AZ",
          "AZ",
          "AZ",
          "AZ",
          "AZ",
          "AZ",
          "AZ",
          "AZ",
          "AZ",
          "AZ",
          "AZ",
          "AZ",
          "AZ",
          "AR",
          "AR",
          "AR",
          "AR",
          "AR",
          "AR",
          "AR",
          "AR",
          "AR",
          "AR",
          "AR",
          "AR",
          "AR",
          "AR",
          "AR",
          "AR",
          "AR",
          "AR",
          "AR",
          "AR",
          "AR",
          "AR",
          "AR",
          "AR",
          "AR",
          "AR",
          "AR",
          "AR",
          "AR",
          "AR",
          "CA",
          "CA",
          "CA",
          "CA",
          "CA",
          "CA",
          "CA",
          "CA",
          "CA",
          "CA",
          "CA",
          "CA",
          "CA",
          "CA",
          "CA",
          "CA",
          "CA",
          "CA",
          "CA",
          "CA",
          "CA",
          "CA",
          "CA",
          "CA",
          "CA",
          "CA",
          "CA",
          "CA",
          "CA",
          "CA",
          "CO",
          "CO",
          "CO",
          "CO",
          "CO",
          "CO",
          "CO",
          "CO",
          "CO",
          "CO",
          "CO",
          "CO",
          "CO",
          "CO",
          "CO",
          "CO",
          "CO",
          "CO",
          "CO",
          "CO",
          "CO",
          "CO",
          "CO",
          "CO",
          "CO",
          "CO",
          "CO",
          "CO",
          "CO",
          "CO",
          "CT",
          "CT",
          "CT",
          "CT",
          "CT",
          "CT",
          "CT",
          "CT",
          "CT",
          "CT",
          "CT",
          "CT",
          "CT",
          "CT",
          "CT",
          "CT",
          "CT",
          "CT",
          "CT",
          "CT",
          "CT",
          "CT",
          "CT",
          "CT",
          "CT",
          "CT",
          "CT",
          "CT",
          "CT",
          "CT",
          "FL",
          "FL",
          "FL",
          "FL",
          "FL",
          "FL",
          "FL",
          "FL",
          "FL",
          "FL",
          "FL",
          "FL",
          "FL",
          "FL",
          "FL",
          "FL",
          "FL",
          "FL",
          "FL",
          "FL",
          "FL",
          "FL",
          "FL",
          "FL",
          "FL",
          "FL",
          "FL",
          "FL",
          "FL",
          "FL",
          "GA",
          "GA",
          "GA",
          "GA",
          "GA",
          "GA",
          "GA",
          "GA",
          "GA",
          "GA",
          "GA",
          "GA",
          "GA",
          "GA",
          "GA",
          "GA",
          "GA",
          "GA",
          "GA",
          "GA",
          "GA",
          "GA",
          "GA",
          "GA",
          "GA",
          "GA",
          "GA",
          "GA",
          "GA",
          "GA",
          "HI",
          "HI",
          "HI",
          "HI",
          "HI",
          "HI",
          "HI",
          "HI",
          "HI",
          "HI",
          "HI",
          "HI",
          "HI",
          "HI",
          "HI",
          "HI",
          "HI",
          "HI",
          "HI",
          "HI",
          "HI",
          "HI",
          "HI",
          "HI",
          "HI",
          "HI",
          "HI",
          "HI",
          "HI",
          "HI",
          "ID",
          "ID",
          "ID",
          "ID",
          "ID",
          "ID",
          "ID",
          "ID",
          "ID",
          "ID",
          "ID",
          "ID",
          "ID",
          "ID",
          "ID",
          "ID",
          "ID",
          "ID",
          "ID",
          "ID",
          "ID",
          "ID",
          "ID",
          "ID",
          "ID",
          "ID",
          "ID",
          "ID",
          "ID",
          "ID",
          "IL",
          "IL",
          "IL",
          "IL",
          "IL",
          "IL",
          "IL",
          "IL",
          "IL",
          "IL",
          "IL",
          "IL",
          "IL",
          "IL",
          "IL",
          "IL",
          "IL",
          "IL",
          "IL",
          "IL",
          "IL",
          "IL",
          "IL",
          "IL",
          "IL",
          "IL",
          "IL",
          "IL",
          "IL",
          "IL",
          "IN",
          "IN",
          "IN",
          "IN",
          "IN",
          "IN",
          "IN",
          "IN",
          "IN",
          "IN",
          "IN",
          "IN",
          "IN",
          "IN",
          "IN",
          "IN",
          "IN",
          "IN",
          "IN",
          "IN",
          "IN",
          "IN",
          "IN",
          "IN",
          "IN",
          "IN",
          "IN",
          "IN",
          "IN",
          "IN",
          "IA",
          "IA",
          "IA",
          "IA",
          "IA",
          "IA",
          "IA",
          "IA",
          "IA",
          "IA",
          "IA",
          "IA",
          "IA",
          "IA",
          "IA",
          "IA",
          "IA",
          "IA",
          "IA",
          "IA",
          "IA",
          "IA",
          "IA",
          "IA",
          "IA",
          "IA",
          "IA",
          "IA",
          "IA",
          "IA",
          "KS",
          "KS",
          "KS",
          "KS",
          "KS",
          "KS",
          "KS",
          "KS",
          "KS",
          "KS",
          "KS",
          "KS",
          "KS",
          "KS",
          "KS",
          "KS",
          "KS",
          "KS",
          "KS",
          "KS",
          "KS",
          "KS",
          "KS",
          "KS",
          "KS",
          "KS",
          "KS",
          "KS",
          "KS",
          "KS",
          "KY",
          "KY",
          "KY",
          "KY",
          "KY",
          "KY",
          "KY",
          "KY",
          "KY",
          "KY",
          "KY",
          "KY",
          "KY",
          "KY",
          "KY",
          "KY",
          "KY",
          "KY",
          "KY",
          "KY",
          "KY",
          "KY",
          "KY",
          "KY",
          "KY",
          "KY",
          "KY",
          "KY",
          "KY",
          "KY",
          "LA",
          "LA",
          "LA",
          "LA",
          "LA",
          "LA",
          "LA",
          "LA",
          "LA",
          "LA",
          "LA",
          "LA",
          "LA",
          "LA",
          "LA",
          "LA",
          "LA",
          "LA",
          "LA",
          "LA",
          "LA",
          "LA",
          "LA",
          "LA",
          "LA",
          "LA",
          "LA",
          "LA",
          "LA",
          "LA",
          "ME",
          "ME",
          "ME",
          "ME",
          "ME",
          "ME",
          "ME",
          "ME",
          "ME",
          "ME",
          "ME",
          "ME",
          "ME",
          "ME",
          "ME",
          "ME",
          "ME",
          "ME",
          "ME",
          "ME",
          "ME",
          "ME",
          "ME",
          "ME",
          "ME",
          "ME",
          "ME",
          "ME",
          "ME",
          "ME",
          "MD",
          "MD",
          "MD",
          "MD",
          "MD",
          "MD",
          "MD",
          "MD",
          "MD",
          "MD",
          "MD",
          "MD",
          "MD",
          "MD",
          "MD",
          "MD",
          "MD",
          "MD",
          "MD",
          "MD",
          "MD",
          "MD",
          "MD",
          "MD",
          "MD",
          "MD",
          "MD",
          "MD",
          "MD",
          "MD",
          "MA",
          "MA",
          "MA",
          "MA",
          "MA",
          "MA",
          "MA",
          "MA",
          "MA",
          "MA",
          "MA",
          "MA",
          "MA",
          "MA",
          "MA",
          "MA",
          "MA",
          "MA",
          "MA",
          "MA",
          "MA",
          "MA",
          "MA",
          "MA",
          "MA",
          "MA",
          "MA",
          "MA",
          "MA",
          "MA",
          "MI",
          "MI",
          "MI",
          "MI",
          "MI",
          "MI",
          "MI",
          "MI",
          "MI",
          "MI",
          "MI",
          "MI",
          "MI",
          "MI",
          "MI",
          "MI",
          "MI",
          "MI",
          "MI",
          "MI",
          "MI",
          "MI",
          "MI",
          "MI",
          "MI",
          "MI",
          "MI",
          "MI",
          "MI",
          "MI",
          "MN",
          "MN",
          "MN",
          "MN",
          "MN",
          "MN",
          "MN",
          "MN",
          "MN",
          "MN",
          "MN",
          "MN",
          "MN",
          "MN",
          "MN",
          "MN",
          "MN",
          "MN",
          "MN",
          "MN",
          "MN",
          "MN",
          "MN",
          "MN",
          "MN",
          "MN",
          "MN",
          "MN",
          "MN",
          "MN",
          "MS",
          "MS",
          "MS",
          "MS",
          "MS",
          "MS",
          "MS",
          "MS",
          "MS",
          "MS",
          "MS",
          "MS",
          "MS",
          "MS",
          "MS",
          "MS",
          "MS",
          "MS",
          "MS",
          "MS",
          "MS",
          "MS",
          "MS",
          "MS",
          "MS",
          "MS",
          "MS",
          "MS",
          "MS",
          "MS",
          "MO",
          "MO",
          "MO",
          "MO",
          "MO",
          "MO",
          "MO",
          "MO",
          "MO",
          "MO",
          "MO",
          "MO",
          "MO",
          "MO",
          "MO",
          "MO",
          "MO",
          "MO",
          "MO",
          "MO",
          "MO",
          "MO",
          "MO",
          "MO",
          "MO",
          "MO",
          "MO",
          "MO",
          "MO",
          "MO",
          "MT",
          "MT",
          "MT",
          "MT",
          "MT",
          "MT",
          "MT",
          "MT",
          "MT",
          "MT",
          "MT",
          "MT",
          "MT",
          "MT",
          "MT",
          "MT",
          "MT",
          "MT",
          "MT",
          "MT",
          "MT",
          "MT",
          "MT",
          "MT",
          "MT",
          "MT",
          "MT",
          "MT",
          "MT",
          "MT",
          "NE",
          "NE",
          "NE",
          "NE",
          "NE",
          "NE",
          "NE",
          "NE",
          "NE",
          "NE",
          "NE",
          "NE",
          "NE",
          "NE",
          "NE",
          "NE",
          "NE",
          "NE",
          "NE",
          "NE",
          "NE",
          "NE",
          "NE",
          "NE",
          "NE",
          "NE",
          "NE",
          "NE",
          "NE",
          "NE",
          "NJ",
          "NJ",
          "NJ",
          "NJ",
          "NJ",
          "NJ",
          "NJ",
          "NJ",
          "NJ",
          "NJ",
          "NJ",
          "NJ",
          "NJ",
          "NJ",
          "NJ",
          "NJ",
          "NJ",
          "NJ",
          "NJ",
          "NJ",
          "NJ",
          "NJ",
          "NJ",
          "NJ",
          "NJ",
          "NJ",
          "NJ",
          "NJ",
          "NJ",
          "NJ",
          "NM",
          "NM",
          "NM",
          "NM",
          "NM",
          "NM",
          "NM",
          "NM",
          "NM",
          "NM",
          "NM",
          "NM",
          "NM",
          "NM",
          "NM",
          "NM",
          "NM",
          "NM",
          "NM",
          "NM",
          "NM",
          "NM",
          "NM",
          "NM",
          "NM",
          "NM",
          "NM",
          "NM",
          "NM",
          "NM",
          "NY",
          "NY",
          "NY",
          "NY",
          "NY",
          "NY",
          "NY",
          "NY",
          "NY",
          "NY",
          "NY",
          "NY",
          "NY",
          "NY",
          "NY",
          "NY",
          "NY",
          "NY",
          "NY",
          "NY",
          "NY",
          "NY",
          "NY",
          "NY",
          "NY",
          "NY",
          "NY",
          "NY",
          "NY",
          "NY",
          "NC",
          "NC",
          "NC",
          "NC",
          "NC",
          "NC",
          "NC",
          "NC",
          "NC",
          "NC",
          "NC",
          "NC",
          "NC",
          "NC",
          "NC",
          "NC",
          "NC",
          "NC",
          "NC",
          "NC",
          "NC",
          "NC",
          "NC",
          "NC",
          "NC",
          "NC",
          "NC",
          "NC",
          "NC",
          "NC",
          "ND",
          "ND",
          "ND",
          "ND",
          "ND",
          "ND",
          "ND",
          "ND",
          "ND",
          "ND",
          "ND",
          "ND",
          "ND",
          "ND",
          "ND",
          "ND",
          "ND",
          "ND",
          "ND",
          "ND",
          "ND",
          "ND",
          "ND",
          "ND",
          "ND",
          "ND",
          "ND",
          "ND",
          "ND",
          "ND",
          "OH",
          "OH",
          "OH",
          "OH",
          "OH",
          "OH",
          "OH",
          "OH",
          "OH",
          "OH",
          "OH",
          "OH",
          "OH",
          "OH",
          "OH",
          "OH",
          "OH",
          "OH",
          "OH",
          "OH",
          "OH",
          "OH",
          "OH",
          "OH",
          "OH",
          "OH",
          "OH",
          "OH",
          "OH",
          "OH",
          "OK",
          "OK",
          "OK",
          "OK",
          "OK",
          "OK",
          "OK",
          "OK",
          "OK",
          "OK",
          "OK",
          "OK",
          "OK",
          "OK",
          "OK",
          "OK",
          "OK",
          "OK",
          "OK",
          "OK",
          "OK",
          "OK",
          "OK",
          "OK",
          "OK",
          "OK",
          "OK",
          "OK",
          "OK",
          "OK",
          "OR",
          "OR",
          "OR",
          "OR",
          "OR",
          "OR",
          "OR",
          "OR",
          "OR",
          "OR",
          "OR",
          "OR",
          "OR",
          "OR",
          "OR",
          "OR",
          "OR",
          "OR",
          "OR",
          "OR",
          "OR",
          "OR",
          "OR",
          "OR",
          "OR",
          "OR",
          "OR",
          "OR",
          "OR",
          "OR",
          "PA",
          "PA",
          "PA",
          "PA",
          "PA",
          "PA",
          "PA",
          "PA",
          "PA",
          "PA",
          "PA",
          "PA",
          "PA",
          "PA",
          "PA",
          "PA",
          "PA",
          "PA",
          "PA",
          "PA",
          "PA",
          "PA",
          "PA",
          "PA",
          "PA",
          "PA",
          "PA",
          "PA",
          "PA",
          "PA",
          "SC",
          "SC",
          "SC",
          "SC",
          "SC",
          "SC",
          "SC",
          "SC",
          "SC",
          "SC",
          "SC",
          "SC",
          "SC",
          "SC",
          "SC",
          "SC",
          "SC",
          "SC",
          "SC",
          "SC",
          "SC",
          "SC",
          "SC",
          "SC",
          "SC",
          "SC",
          "SC",
          "SC",
          "SC",
          "SC",
          "SD",
          "SD",
          "SD",
          "SD",
          "SD",
          "SD",
          "SD",
          "SD",
          "SD",
          "SD",
          "SD",
          "SD",
          "SD",
          "SD",
          "SD",
          "SD",
          "SD",
          "SD",
          "SD",
          "SD",
          "SD",
          "SD",
          "SD",
          "SD",
          "SD",
          "SD",
          "SD",
          "SD",
          "SD",
          "SD",
          "TN",
          "TN",
          "TN",
          "TN",
          "TN",
          "TN",
          "TN",
          "TN",
          "TN",
          "TN",
          "TN",
          "TN",
          "TN",
          "TN",
          "TN",
          "TN",
          "TN",
          "TN",
          "TN",
          "TN",
          "TN",
          "TN",
          "TN",
          "TN",
          "TN",
          "TN",
          "TN",
          "TN",
          "TN",
          "TN",
          "TX",
          "TX",
          "TX",
          "TX",
          "TX",
          "TX",
          "TX",
          "TX",
          "TX",
          "TX",
          "TX",
          "TX",
          "TX",
          "TX",
          "TX",
          "TX",
          "TX",
          "TX",
          "TX",
          "TX",
          "TX",
          "TX",
          "TX",
          "TX",
          "TX",
          "TX",
          "TX",
          "TX",
          "TX",
          "TX",
          "UT",
          "UT",
          "UT",
          "UT",
          "UT",
          "UT",
          "UT",
          "UT",
          "UT",
          "UT",
          "UT",
          "UT",
          "UT",
          "UT",
          "UT",
          "UT",
          "UT",
          "UT",
          "UT",
          "UT",
          "UT",
          "UT",
          "UT",
          "UT",
          "UT",
          "UT",
          "UT",
          "UT",
          "UT",
          "UT",
          "VT",
          "VT",
          "VT",
          "VT",
          "VT",
          "VT",
          "VT",
          "VT",
          "VT",
          "VT",
          "VT",
          "VT",
          "VT",
          "VT",
          "VT",
          "VT",
          "VT",
          "VT",
          "VT",
          "VT",
          "VT",
          "VT",
          "VT",
          "VT",
          "VT",
          "VT",
          "VT",
          "VT",
          "VT",
          "VT",
          "VA",
          "VA",
          "VA",
          "VA",
          "VA",
          "VA",
          "VA",
          "VA",
          "VA",
          "VA",
          "VA",
          "VA",
          "VA",
          "VA",
          "VA",
          "VA",
          "VA",
          "VA",
          "VA",
          "VA",
          "VA",
          "VA",
          "VA",
          "VA",
          "VA",
          "VA",
          "VA",
          "VA",
          "VA",
          "VA",
          "WA",
          "WA",
          "WA",
          "WA",
          "WA",
          "WA",
          "WA",
          "WA",
          "WA",
          "WA",
          "WA",
          "WA",
          "WA",
          "WA",
          "WA",
          "WA",
          "WA",
          "WA",
          "WA",
          "WA",
          "WA",
          "WA",
          "WA",
          "WA",
          "WA",
          "WA",
          "WA",
          "WA",
          "WA",
          "WA",
          "WV",
          "WV",
          "WV",
          "WV",
          "WV",
          "WV",
          "WV",
          "WV",
          "WV",
          "WV",
          "WV",
          "WV",
          "WV",
          "WV",
          "WV",
          "WV",
          "WV",
          "WV",
          "WV",
          "WV",
          "WV",
          "WV",
          "WV",
          "WV",
          "WV",
          "WV",
          "WV",
          "WV",
          "WV",
          "WV",
          "WI",
          "WI",
          "WI",
          "WI",
          "WI",
          "WI",
          "WI",
          "WI",
          "WI",
          "WI",
          "WI",
          "WI",
          "WI",
          "WI",
          "WI",
          "WI",
          "WI",
          "WI",
          "WI",
          "WI",
          "WI",
          "WI",
          "WI",
          "WI",
          "WI",
          "WI",
          "WI",
          "WI",
          "WI",
          "WI",
          "WY",
          "WY",
          "WY",
          "WY",
          "WY",
          "WY",
          "WY",
          "WY",
          "WY",
          "WY",
          "WY",
          "WY",
          "WY",
          "WY",
          "WY",
          "WY",
          "WY",
          "WY",
          "WY",
          "WY",
          "WY",
          "WY",
          "WY",
          "WY",
          "WY",
          "WY",
          "WY",
          "WY",
          "WY",
          "WY"
         ],
         "name": "",
         "type": "choropleth",
         "z": [
          0.05,
          1.2,
          2.25,
          1.3,
          1.8,
          4.325,
          4.275,
          6.325,
          7.3,
          3.1,
          1.825,
          4,
          13.075,
          11.35,
          0.3,
          31.225,
          20.525000000000002,
          13.9,
          36.85,
          22.7,
          8.275,
          8.450000000000001,
          5.925000000000001,
          5.225,
          9,
          23.225,
          14.45,
          32.4,
          38.125,
          27.2,
          1.775,
          5.1,
          6.575,
          11.25,
          6.5,
          9.525,
          10.4,
          10.85,
          11.075,
          8.4,
          10.225000000000001,
          9.925,
          4.2,
          4.975,
          16.2,
          19.775000000000002,
          16.7,
          5.625,
          5.525,
          7.9,
          6,
          5.7,
          2.3,
          9.725000000000001,
          0.2,
          34.725,
          50.275,
          43.85,
          45.8,
          25.8,
          2.375,
          1.475,
          7.15,
          0.45,
          3.3,
          9.675,
          2.275,
          9.775,
          6.8500000000000005,
          0.7,
          9.8,
          2.45,
          13.1,
          29.075,
          55.3,
          29.224999999999998,
          7.3,
          15.625,
          9.325,
          1.5,
          3.075,
          3.3249999999999997,
          1.55,
          7.475,
          2.9,
          47.7,
          61.025000000000006,
          37.45,
          41.175,
          19.5,
          7.375,
          9.175,
          5.9,
          7.550000000000001,
          6.4,
          11.55,
          10.925,
          9.65,
          9.575,
          8.7,
          15.45,
          13.9,
          13.15,
          13.65,
          12.3,
          15.45,
          15.2,
          12.55,
          11.175,
          13.4,
          4.475,
          4.35,
          4.9,
          5.15,
          5.6,
          38.2,
          42.975,
          41.475,
          46.05,
          43.5,
          7.574999999999999,
          5.175000000000001,
          2.025,
          5.775,
          0,
          4.525,
          7.225,
          7.625,
          8.125,
          2.5,
          9.899999999999999,
          7.325000000000001,
          8.3,
          1.75,
          0,
          7.1499999999999995,
          7.1499999999999995,
          0.725,
          5.825000000000001,
          0.3,
          4.25,
          0.175,
          1.7999999999999998,
          2.15,
          0.6,
          37.825,
          30.825,
          32.85,
          54.8,
          11.2,
          0.7,
          0.45,
          0.025,
          0.6749999999999999,
          0,
          8.35,
          5.725,
          5.65,
          3.8,
          3.6,
          0.8500000000000001,
          0.375,
          0.275,
          0.975,
          0,
          1.175,
          2.4,
          1.5,
          1.3,
          1.3,
          1.275,
          1.725,
          1.9749999999999999,
          1.85,
          1.7,
          15.625,
          13.775,
          30.525,
          12.775,
          10.1,
          3.175,
          5.2,
          4.7,
          6.825,
          5.5,
          10.899999999999999,
          8.5,
          7.925000000000001,
          9.475,
          7.4,
          14.075,
          10.85,
          9.975,
          11.6,
          22.9,
          20,
          19.9,
          14.8,
          21.425,
          24.8,
          4.35,
          2.925,
          21.125,
          13.4,
          5.5,
          33.325,
          36.95,
          39.6,
          39.675,
          46.9,
          3.775,
          2.55,
          3.95,
          6.575,
          7.4,
          7.2250000000000005,
          6.6499999999999995,
          7.4,
          17.525,
          10.6,
          14.25,
          17.375,
          9.65,
          16.05,
          9.6,
          13.125,
          15.299999999999999,
          11.475,
          20.599999999999998,
          17.8,
          4.875,
          3.4,
          4.025,
          6.8,
          4.9,
          37.525,
          41.474999999999994,
          43.45,
          45.95,
          69.6,
          0.55,
          0.025,
          0.15,
          0.15,
          0.1,
          1.925,
          1.05,
          0.65,
          0.275,
          2.9,
          0.05,
          0.4,
          0,
          0.025,
          0.7,
          53.275,
          38.925,
          19.049999999999997,
          87.275,
          64.9,
          0.025,
          0.025,
          0.025,
          0.05,
          0,
          52,
          35.9,
          37.525000000000006,
          82.525,
          72.1,
          6.25,
          3.5250000000000004,
          17.674999999999997,
          7,
          8,
          6.9,
          5.25,
          5.175,
          7.075,
          8.6,
          6.2,
          4.2,
          14.975,
          16.075,
          9.2,
          4.8,
          3.15,
          21.174999999999997,
          15.55,
          8,
          4.025,
          2.6,
          2.625,
          3.75,
          0,
          37.75,
          27.475,
          48.1,
          57.1,
          24.5,
          0.45,
          1.05,
          1.2,
          3.7,
          3.1,
          4.825,
          4.025,
          6.25,
          7.175000000000001,
          15.5,
          1.05,
          3.9,
          4.35,
          4.5,
          0.7,
          4.025,
          7.6,
          10.45,
          10.674999999999999,
          14.7,
          4.525,
          4.275,
          4.425,
          6.5,
          10.1,
          9.925,
          17.25,
          22.825,
          21.95,
          33.3,
          4.575,
          0.575,
          1.85,
          7.15,
          2.6,
          7.075,
          3.375,
          6.675,
          12.899999999999999,
          7.1,
          2.275,
          1.1,
          13,
          22.549999999999997,
          5.5,
          3.225,
          7.15,
          5.4,
          11.325,
          8.8,
          5.9,
          3.7,
          4.575,
          1.9,
          1.7,
          16.225,
          27.125,
          14.675,
          48.05,
          15.6,
          2.05,
          10.55,
          7.65,
          4.65,
          0.6,
          12.775,
          10.95,
          10.475,
          10.075,
          7.7,
          5.575,
          7.25,
          18.775,
          10.125,
          0.3,
          3.125,
          11.35,
          17.15,
          11.85,
          1.7,
          2.525,
          5.6,
          5.074999999999999,
          1.9249999999999998,
          3.5,
          29.575,
          31.9,
          37.775,
          25.75,
          34.8,
          0.6000000000000001,
          4.325,
          4.7,
          8.725,
          2.5,
          15.425,
          3.925,
          4.949999999999999,
          13.825,
          21.6,
          13.375,
          10.4,
          13.775,
          20.225,
          12.2,
          11.175,
          13.850000000000001,
          17.95,
          33.575,
          7.8,
          7.25,
          2.8000000000000003,
          9.575,
          11.25,
          4,
          28.525,
          37.4,
          36.95,
          61.15,
          92,
          2.35,
          1.65,
          1.625,
          1.075,
          0.1,
          12.1,
          11.55,
          9.05,
          5.525,
          10.7,
          5.15,
          12.3,
          3.8499999999999996,
          5.075,
          5.3,
          13.75,
          23.275,
          21.675,
          29.55,
          12.9,
          4.875,
          5.6,
          9.425,
          5.925,
          4.6,
          23.775,
          38.25,
          39.575,
          47.025,
          21.6,
          1.125,
          4.9,
          0.175,
          0.225,
          0.1,
          3.375,
          5.975,
          2.975,
          1.925,
          1,
          1.25,
          0.6,
          1.4000000000000001,
          2.2750000000000004,
          0.3,
          2.925,
          10.6,
          28.450000000000003,
          10.8,
          1.3,
          0.75,
          1.1,
          6.95,
          1.55,
          0.7,
          22.6,
          21.475,
          34.925,
          15.225000000000001,
          57.8,
          3.3249999999999997,
          1.2249999999999999,
          8.975,
          0.375,
          0,
          2.675,
          2.4,
          7.525,
          2.6,
          1.4,
          8.625,
          7.775,
          4.075,
          0.325,
          0,
          9.55,
          0.325,
          8.075,
          1.875,
          0.1,
          2.55,
          7.35,
          3.725,
          2,
          0.8,
          26.1,
          26.5,
          14.149999999999999,
          17.825,
          2.3,
          0.9,
          1.75,
          0.675,
          1.4500000000000002,
          0.2,
          8.275,
          4.1,
          5.225,
          6.175000000000001,
          10.1,
          6.325,
          4.425,
          1,
          0.8999999999999999,
          0,
          6.050000000000001,
          3.875,
          5.8500000000000005,
          5.075,
          5.1,
          5.05,
          0.875,
          5.575,
          2.25,
          2.4,
          11.875,
          16.25,
          7.825000000000001,
          14.575,
          12.6,
          2.225,
          2.05,
          5.825,
          5.15,
          0,
          4.275,
          2.375,
          3.3,
          4.025,
          6.3,
          17.15,
          2.775,
          5.125,
          5.425,
          4.3,
          17.425,
          6.7749999999999995,
          5.05,
          5.6499999999999995,
          0,
          2.3000000000000003,
          6.275,
          1.9,
          6.275,
          0.9,
          34.5,
          17.7,
          35.625,
          33.75,
          10.3,
          2.25,
          0.375,
          3.5249999999999995,
          7.05,
          1.5,
          7.425,
          5.9,
          4.625,
          11.65,
          12.2,
          7.125,
          7.2,
          10.325,
          14.5,
          0.2,
          9.125,
          9.025,
          8.25,
          16.775,
          5.8,
          5.05,
          3.9250000000000003,
          2.325,
          10.225000000000001,
          0.7,
          29,
          37,
          34.4,
          60.300000000000004,
          18.2,
          4.300000000000001,
          4,
          2.1,
          4.825,
          1.9,
          5.625,
          9.85,
          8.6,
          5.55,
          2,
          17.25,
          17.45,
          15.725,
          10.725,
          0,
          7.4,
          8.825,
          3.45,
          6.9,
          0.2,
          6.875,
          9.975,
          3.35,
          8.2,
          0.8,
          25.924999999999997,
          26.9,
          31.325,
          21.95,
          1.3,
          0.175,
          0.725,
          0.5249999999999999,
          0.05,
          64.8,
          2,
          2.15,
          5.95,
          4.1,
          1.9,
          0.8250000000000001,
          1.925,
          0.875,
          0.45,
          48.4,
          4.725,
          3.35,
          11.774999999999999,
          11.575,
          71,
          1.375,
          5.525,
          1.75,
          12.075,
          5.5,
          18.9,
          18.875,
          36.525,
          25.825,
          14.6,
          2.9,
          0.575,
          1.825,
          0.8500000000000001,
          1.9,
          3.9250000000000003,
          2.675,
          4.075,
          11.05,
          5.4,
          1.975,
          1.6,
          9.450000000000001,
          2.125,
          0.5,
          7.475,
          7.225,
          18.625,
          29.474999999999998,
          2.3,
          4.15,
          2.475,
          10.925,
          7.925,
          3.2,
          8.025,
          16.7,
          31.1,
          38.25,
          5.4,
          6.625,
          11.1,
          3.5500000000000003,
          6.725,
          0,
          3.375,
          11.6,
          8.7,
          6.425,
          0.8,
          4.95,
          6.25,
          3.5250000000000004,
          13.025,
          0.8,
          9.399999999999999,
          13.825,
          7.475,
          9.05,
          0,
          6.775,
          8.675,
          1.7,
          1,
          1.1,
          26.425,
          32.975,
          37.625,
          39.075,
          15.1,
          2.8,
          0.35000000000000003,
          1.4749999999999999,
          2,
          32,
          1.85,
          0.9750000000000001,
          7.9,
          4.475,
          2.2,
          3.85,
          3.8499999999999996,
          11.700000000000001,
          3.45,
          0.8,
          4.325,
          0.875,
          12.149999999999999,
          1.725,
          1.3,
          2.625,
          1.425,
          3.425,
          2.85,
          0.1,
          15.275,
          9.7,
          26.65,
          9.15,
          32.3,
          7.699999999999999,
          0.5,
          1.75,
          0.07500000000000001,
          0,
          5.5,
          1.65,
          1.2,
          3.4,
          3.5,
          9.4,
          2.75,
          1.8,
          0.15000000000000002,
          0,
          5,
          5.1,
          4,
          3.375,
          4.4,
          5.25,
          5.3,
          0.825,
          0.4,
          0.6,
          26.875,
          17.175,
          16.825,
          14.425,
          15.3,
          17.675,
          26.5,
          44.525000000000006,
          1,
          0.6,
          14.450000000000001,
          3.05,
          12.675,
          4.5,
          1.4,
          18.125,
          6.65,
          5.975,
          3.4250000000000003,
          0,
          13.85,
          14.1,
          1.05,
          0.35,
          1.1,
          1.375,
          0.325,
          0.475,
          0.725,
          0.3,
          37,
          58.45,
          85.675,
          31.099999999999998,
          3.5,
          2.875,
          2.875,
          6.525,
          10.7,
          1.7,
          6.225,
          10.125,
          9.025,
          13.85,
          7.7,
          6.7,
          9.25,
          5.300000000000001,
          8.825,
          1.7,
          7.9,
          5.05,
          11,
          14.25,
          2.5,
          4.275,
          2.775,
          3.825,
          5.1499999999999995,
          9,
          22.8,
          28.275,
          27.5,
          32.9,
          10.6,
          0.4,
          2.125,
          2.425,
          4,
          0.2,
          5.775,
          9.55,
          7.8999999999999995,
          12.625,
          2.2,
          8.575,
          9.85,
          6.025,
          3.275,
          0.7,
          11.975,
          11.775,
          18.825,
          10.274999999999999,
          2,
          6.7749999999999995,
          12.1,
          3.475,
          4.275,
          3.4,
          32.5,
          28.275,
          49.2,
          39.6,
          16.4,
          2.5,
          2.4749999999999996,
          1.7,
          5.925,
          0,
          3.7249999999999996,
          4.05,
          3.1,
          5.225,
          0.4,
          4.525,
          3.6,
          3.475,
          6.425,
          6.5,
          5.625,
          5.85,
          8.1,
          7.225,
          0,
          1.55,
          4.3,
          0.85,
          2.525,
          1.3,
          15.45,
          20.1,
          28.450000000000003,
          29.575,
          6.9,
          1.65,
          0.9749999999999999,
          4.65,
          2.725,
          11.1,
          11.275,
          6.975,
          10.475,
          12.925,
          6.7,
          11.399999999999999,
          6.675000000000001,
          5.9,
          3.825,
          1.1,
          5.625,
          8.8,
          15.100000000000001,
          21.849999999999998,
          9.9,
          8.975,
          5.2,
          7.35,
          6.05,
          3.1,
          23.375,
          38.7,
          42.025,
          41.65,
          49.3,
          0.175,
          0.125,
          5.3,
          3.2249999999999996,
          0,
          2.75,
          0.75,
          3.225,
          8.175,
          0,
          0.07500000000000001,
          0.575,
          1.1,
          12.575,
          0,
          5.8,
          2.75,
          6.7,
          17.725,
          0.3,
          1.9249999999999998,
          10.975,
          0.7000000000000001,
          6.45,
          0,
          21.25,
          17.275,
          14.625,
          39.25,
          7.7,
          5.075,
          10.175,
          14.55,
          8.075,
          0.2,
          3.4749999999999996,
          6.699999999999999,
          10.375,
          7.725,
          2.7,
          5.300000000000001,
          3.75,
          10,
          18.3,
          0.2,
          11.25,
          12.7,
          13.25,
          2.9,
          0.1,
          1.7,
          2.275,
          5.8500000000000005,
          0.55,
          0.5,
          32.975,
          37.875,
          42.725,
          45.85,
          18,
          2.3,
          1.325,
          1.3,
          3.525,
          3.7,
          8.125,
          4.45,
          2.775,
          4.25,
          7.5,
          2.225,
          3.625,
          3.75,
          6.475,
          4,
          6.925,
          4.625,
          3.625,
          10.1,
          4.6,
          2.55,
          2.45,
          2.975,
          4.95,
          9.5,
          29.200000000000003,
          27.375,
          30.125,
          29.025,
          15.3,
          4.85,
          6.25,
          7.574999999999999,
          0.6,
          0,
          4.25,
          11.975,
          3.475,
          8.1,
          12.4,
          4.5249999999999995,
          16.25,
          5.7,
          9.5,
          1.7,
          10.4,
          21.2,
          14.55,
          22.125,
          14.5,
          1.65,
          2.475,
          1.225,
          3.1,
          1,
          28.25,
          27.85,
          23.725,
          38.125,
          18.5,
          1.5,
          4.05,
          2.525,
          4.4,
          0,
          1.7249999999999999,
          5.375,
          9.925,
          21.275,
          0.8,
          4.175,
          8.45,
          5.225,
          3.475,
          2.5,
          5.575,
          7.8500000000000005,
          3.725,
          18.675,
          0,
          3.275,
          0.8749999999999999,
          2.275,
          1.05,
          2.2,
          12.45,
          32.575,
          19.075,
          31.75,
          0.8,
          0.575,
          0.4,
          1.05,
          1.9749999999999999,
          5.1,
          6.225,
          6.9,
          7.875,
          8.524999999999999,
          7.7,
          4.8,
          1.9,
          3.375,
          7.75,
          0.9,
          27.525,
          18.625,
          19.775,
          29.325,
          23.6,
          3,
          4.65,
          8.275,
          7.35,
          7.1,
          41.1,
          25.75,
          36.9,
          44.9,
          62.8,
          2.875,
          3.675,
          2.675,
          4.7,
          5.3,
          4.15,
          4.4,
          7.1000000000000005,
          4.8,
          6.9,
          10.625,
          11.7,
          11.1,
          3.475,
          8.3,
          17.45,
          11.925,
          20.925,
          12.675,
          6.5,
          5.6,
          2.925,
          2.925,
          7.375,
          3,
          23.1,
          31.450000000000003,
          33.125,
          21.35,
          26.1,
          12.4,
          0.675,
          2.975,
          1.925,
          0.1,
          4.15,
          2.05,
          9.975,
          2.25,
          0.3,
          12.625000000000002,
          7.6,
          6.5,
          2.475,
          0,
          11.450000000000001,
          6.8500000000000005,
          2.575,
          7.25,
          0,
          0.55,
          0.825,
          7.300000000000001,
          2,
          8.8,
          39.175,
          26.924999999999997,
          35.050000000000004,
          36.05,
          22.9,
          0.25,
          10.825000000000001,
          7.300000000000001,
          1.325,
          2.4,
          1.975,
          0.8999999999999999,
          3.45,
          1.225,
          0.2,
          0.15,
          10.25,
          13.850000000000001,
          10.350000000000001,
          0,
          6.2,
          12.35,
          13.625,
          2.225,
          0.1,
          5.15,
          0.65,
          1.3,
          0.4,
          1.2,
          21.45,
          13.5,
          30.674999999999997,
          18.575,
          6.2,
          1.45,
          2.475,
          1.625,
          4.55,
          0.8,
          5.525,
          4.85,
          5.125,
          12.05,
          3.9,
          0.9750000000000001,
          2.175,
          4.05,
          6.5,
          0.3,
          13.45,
          13.875,
          19.475,
          24.25,
          12.8,
          8.925,
          3.8499999999999996,
          4.675,
          5.575,
          9.3,
          25.125,
          31.575000000000003,
          27.824999999999996,
          36.2,
          16.6,
          1.2249999999999999,
          2.3,
          1.55,
          5.225,
          0.6,
          4,
          5.45,
          3.175,
          5.175,
          0.8,
          1.825,
          8.25,
          2.25,
          4.275,
          0.3,
          1.125,
          6.975,
          3.45,
          2.85,
          0.8,
          0.8500000000000001,
          1.525,
          1.85,
          1.275,
          0.2,
          30.675,
          37.699999999999996,
          18.375,
          26.5,
          22.3,
          1.275,
          2.5,
          1.45,
          0.95,
          1.1,
          7.6,
          8.5,
          8.225,
          11.35,
          5,
          2.325,
          0.45,
          0.275,
          3.45,
          0.2,
          6.3500000000000005,
          3.275,
          3.525,
          20.825,
          3.2,
          3.05,
          2.6,
          2.575,
          5.425000000000001,
          1.3,
          18.525,
          26.825,
          27.675,
          28.825,
          10.3,
          3.625,
          8.675,
          13.600000000000001,
          5.9,
          0.7,
          10.675,
          10.35,
          8.875,
          11.7,
          13.8,
          14.875,
          13.1,
          12.2,
          18.15,
          1.1,
          10.725,
          7.775,
          15.375,
          20.4,
          3.2,
          10.75,
          19.55,
          9.525,
          3.5,
          5,
          37.699999999999996,
          37.099999999999994,
          36.875,
          32.625,
          15.9,
          3.45,
          1.25,
          7.625,
          1.75,
          0.1,
          5.575,
          1.95,
          5,
          2.225,
          0.5,
          4.375,
          2.725,
          3.2750000000000004,
          4.475,
          0,
          8.049999999999999,
          1.925,
          1.875,
          2.775,
          0,
          1.6749999999999998,
          0.6,
          1.925,
          2.5,
          2.3,
          23.375,
          19.475,
          23.525000000000002,
          22.424999999999997,
          0.7
         ]
        }
       ],
       "layout": {
        "coloraxis": {
         "colorbar": {
          "title": {
           "text": "% of Bee Colonies"
          }
         },
         "colorscale": [
          [
           0,
           "rgb(255,255,204)"
          ],
          [
           0.125,
           "rgb(255,237,160)"
          ],
          [
           0.25,
           "rgb(254,217,118)"
          ],
          [
           0.375,
           "rgb(254,178,76)"
          ],
          [
           0.5,
           "rgb(253,141,60)"
          ],
          [
           0.625,
           "rgb(252,78,42)"
          ],
          [
           0.75,
           "rgb(227,26,28)"
          ],
          [
           0.875,
           "rgb(189,0,38)"
          ],
          [
           1,
           "rgb(128,0,38)"
          ]
         ]
        },
        "geo": {
         "center": {},
         "domain": {
          "x": [
           0,
           1
          ],
          "y": [
           0,
           1
          ]
         },
         "scope": "usa"
        },
        "legend": {
         "tracegroupgap": 0
        },
        "margin": {
         "t": 60
        },
        "template": {
         "data": {
          "bar": [
           {
            "error_x": {
             "color": "#f2f5fa"
            },
            "error_y": {
             "color": "#f2f5fa"
            },
            "marker": {
             "line": {
              "color": "rgb(17,17,17)",
              "width": 0.5
             },
             "pattern": {
              "fillmode": "overlay",
              "size": 10,
              "solidity": 0.2
             }
            },
            "type": "bar"
           }
          ],
          "barpolar": [
           {
            "marker": {
             "line": {
              "color": "rgb(17,17,17)",
              "width": 0.5
             },
             "pattern": {
              "fillmode": "overlay",
              "size": 10,
              "solidity": 0.2
             }
            },
            "type": "barpolar"
           }
          ],
          "carpet": [
           {
            "aaxis": {
             "endlinecolor": "#A2B1C6",
             "gridcolor": "#506784",
             "linecolor": "#506784",
             "minorgridcolor": "#506784",
             "startlinecolor": "#A2B1C6"
            },
            "baxis": {
             "endlinecolor": "#A2B1C6",
             "gridcolor": "#506784",
             "linecolor": "#506784",
             "minorgridcolor": "#506784",
             "startlinecolor": "#A2B1C6"
            },
            "type": "carpet"
           }
          ],
          "choropleth": [
           {
            "colorbar": {
             "outlinewidth": 0,
             "ticks": ""
            },
            "type": "choropleth"
           }
          ],
          "contour": [
           {
            "colorbar": {
             "outlinewidth": 0,
             "ticks": ""
            },
            "colorscale": [
             [
              0,
              "#0d0887"
             ],
             [
              0.1111111111111111,
              "#46039f"
             ],
             [
              0.2222222222222222,
              "#7201a8"
             ],
             [
              0.3333333333333333,
              "#9c179e"
             ],
             [
              0.4444444444444444,
              "#bd3786"
             ],
             [
              0.5555555555555556,
              "#d8576b"
             ],
             [
              0.6666666666666666,
              "#ed7953"
             ],
             [
              0.7777777777777778,
              "#fb9f3a"
             ],
             [
              0.8888888888888888,
              "#fdca26"
             ],
             [
              1,
              "#f0f921"
             ]
            ],
            "type": "contour"
           }
          ],
          "contourcarpet": [
           {
            "colorbar": {
             "outlinewidth": 0,
             "ticks": ""
            },
            "type": "contourcarpet"
           }
          ],
          "heatmap": [
           {
            "colorbar": {
             "outlinewidth": 0,
             "ticks": ""
            },
            "colorscale": [
             [
              0,
              "#0d0887"
             ],
             [
              0.1111111111111111,
              "#46039f"
             ],
             [
              0.2222222222222222,
              "#7201a8"
             ],
             [
              0.3333333333333333,
              "#9c179e"
             ],
             [
              0.4444444444444444,
              "#bd3786"
             ],
             [
              0.5555555555555556,
              "#d8576b"
             ],
             [
              0.6666666666666666,
              "#ed7953"
             ],
             [
              0.7777777777777778,
              "#fb9f3a"
             ],
             [
              0.8888888888888888,
              "#fdca26"
             ],
             [
              1,
              "#f0f921"
             ]
            ],
            "type": "heatmap"
           }
          ],
          "heatmapgl": [
           {
            "colorbar": {
             "outlinewidth": 0,
             "ticks": ""
            },
            "colorscale": [
             [
              0,
              "#0d0887"
             ],
             [
              0.1111111111111111,
              "#46039f"
             ],
             [
              0.2222222222222222,
              "#7201a8"
             ],
             [
              0.3333333333333333,
              "#9c179e"
             ],
             [
              0.4444444444444444,
              "#bd3786"
             ],
             [
              0.5555555555555556,
              "#d8576b"
             ],
             [
              0.6666666666666666,
              "#ed7953"
             ],
             [
              0.7777777777777778,
              "#fb9f3a"
             ],
             [
              0.8888888888888888,
              "#fdca26"
             ],
             [
              1,
              "#f0f921"
             ]
            ],
            "type": "heatmapgl"
           }
          ],
          "histogram": [
           {
            "marker": {
             "pattern": {
              "fillmode": "overlay",
              "size": 10,
              "solidity": 0.2
             }
            },
            "type": "histogram"
           }
          ],
          "histogram2d": [
           {
            "colorbar": {
             "outlinewidth": 0,
             "ticks": ""
            },
            "colorscale": [
             [
              0,
              "#0d0887"
             ],
             [
              0.1111111111111111,
              "#46039f"
             ],
             [
              0.2222222222222222,
              "#7201a8"
             ],
             [
              0.3333333333333333,
              "#9c179e"
             ],
             [
              0.4444444444444444,
              "#bd3786"
             ],
             [
              0.5555555555555556,
              "#d8576b"
             ],
             [
              0.6666666666666666,
              "#ed7953"
             ],
             [
              0.7777777777777778,
              "#fb9f3a"
             ],
             [
              0.8888888888888888,
              "#fdca26"
             ],
             [
              1,
              "#f0f921"
             ]
            ],
            "type": "histogram2d"
           }
          ],
          "histogram2dcontour": [
           {
            "colorbar": {
             "outlinewidth": 0,
             "ticks": ""
            },
            "colorscale": [
             [
              0,
              "#0d0887"
             ],
             [
              0.1111111111111111,
              "#46039f"
             ],
             [
              0.2222222222222222,
              "#7201a8"
             ],
             [
              0.3333333333333333,
              "#9c179e"
             ],
             [
              0.4444444444444444,
              "#bd3786"
             ],
             [
              0.5555555555555556,
              "#d8576b"
             ],
             [
              0.6666666666666666,
              "#ed7953"
             ],
             [
              0.7777777777777778,
              "#fb9f3a"
             ],
             [
              0.8888888888888888,
              "#fdca26"
             ],
             [
              1,
              "#f0f921"
             ]
            ],
            "type": "histogram2dcontour"
           }
          ],
          "mesh3d": [
           {
            "colorbar": {
             "outlinewidth": 0,
             "ticks": ""
            },
            "type": "mesh3d"
           }
          ],
          "parcoords": [
           {
            "line": {
             "colorbar": {
              "outlinewidth": 0,
              "ticks": ""
             }
            },
            "type": "parcoords"
           }
          ],
          "pie": [
           {
            "automargin": true,
            "type": "pie"
           }
          ],
          "scatter": [
           {
            "marker": {
             "line": {
              "color": "#283442"
             }
            },
            "type": "scatter"
           }
          ],
          "scatter3d": [
           {
            "line": {
             "colorbar": {
              "outlinewidth": 0,
              "ticks": ""
             }
            },
            "marker": {
             "colorbar": {
              "outlinewidth": 0,
              "ticks": ""
             }
            },
            "type": "scatter3d"
           }
          ],
          "scattercarpet": [
           {
            "marker": {
             "colorbar": {
              "outlinewidth": 0,
              "ticks": ""
             }
            },
            "type": "scattercarpet"
           }
          ],
          "scattergeo": [
           {
            "marker": {
             "colorbar": {
              "outlinewidth": 0,
              "ticks": ""
             }
            },
            "type": "scattergeo"
           }
          ],
          "scattergl": [
           {
            "marker": {
             "line": {
              "color": "#283442"
             }
            },
            "type": "scattergl"
           }
          ],
          "scattermapbox": [
           {
            "marker": {
             "colorbar": {
              "outlinewidth": 0,
              "ticks": ""
             }
            },
            "type": "scattermapbox"
           }
          ],
          "scatterpolar": [
           {
            "marker": {
             "colorbar": {
              "outlinewidth": 0,
              "ticks": ""
             }
            },
            "type": "scatterpolar"
           }
          ],
          "scatterpolargl": [
           {
            "marker": {
             "colorbar": {
              "outlinewidth": 0,
              "ticks": ""
             }
            },
            "type": "scatterpolargl"
           }
          ],
          "scatterternary": [
           {
            "marker": {
             "colorbar": {
              "outlinewidth": 0,
              "ticks": ""
             }
            },
            "type": "scatterternary"
           }
          ],
          "surface": [
           {
            "colorbar": {
             "outlinewidth": 0,
             "ticks": ""
            },
            "colorscale": [
             [
              0,
              "#0d0887"
             ],
             [
              0.1111111111111111,
              "#46039f"
             ],
             [
              0.2222222222222222,
              "#7201a8"
             ],
             [
              0.3333333333333333,
              "#9c179e"
             ],
             [
              0.4444444444444444,
              "#bd3786"
             ],
             [
              0.5555555555555556,
              "#d8576b"
             ],
             [
              0.6666666666666666,
              "#ed7953"
             ],
             [
              0.7777777777777778,
              "#fb9f3a"
             ],
             [
              0.8888888888888888,
              "#fdca26"
             ],
             [
              1,
              "#f0f921"
             ]
            ],
            "type": "surface"
           }
          ],
          "table": [
           {
            "cells": {
             "fill": {
              "color": "#506784"
             },
             "line": {
              "color": "rgb(17,17,17)"
             }
            },
            "header": {
             "fill": {
              "color": "#2a3f5f"
             },
             "line": {
              "color": "rgb(17,17,17)"
             }
            },
            "type": "table"
           }
          ]
         },
         "layout": {
          "annotationdefaults": {
           "arrowcolor": "#f2f5fa",
           "arrowhead": 0,
           "arrowwidth": 1
          },
          "autotypenumbers": "strict",
          "coloraxis": {
           "colorbar": {
            "outlinewidth": 0,
            "ticks": ""
           }
          },
          "colorscale": {
           "diverging": [
            [
             0,
             "#8e0152"
            ],
            [
             0.1,
             "#c51b7d"
            ],
            [
             0.2,
             "#de77ae"
            ],
            [
             0.3,
             "#f1b6da"
            ],
            [
             0.4,
             "#fde0ef"
            ],
            [
             0.5,
             "#f7f7f7"
            ],
            [
             0.6,
             "#e6f5d0"
            ],
            [
             0.7,
             "#b8e186"
            ],
            [
             0.8,
             "#7fbc41"
            ],
            [
             0.9,
             "#4d9221"
            ],
            [
             1,
             "#276419"
            ]
           ],
           "sequential": [
            [
             0,
             "#0d0887"
            ],
            [
             0.1111111111111111,
             "#46039f"
            ],
            [
             0.2222222222222222,
             "#7201a8"
            ],
            [
             0.3333333333333333,
             "#9c179e"
            ],
            [
             0.4444444444444444,
             "#bd3786"
            ],
            [
             0.5555555555555556,
             "#d8576b"
            ],
            [
             0.6666666666666666,
             "#ed7953"
            ],
            [
             0.7777777777777778,
             "#fb9f3a"
            ],
            [
             0.8888888888888888,
             "#fdca26"
            ],
            [
             1,
             "#f0f921"
            ]
           ],
           "sequentialminus": [
            [
             0,
             "#0d0887"
            ],
            [
             0.1111111111111111,
             "#46039f"
            ],
            [
             0.2222222222222222,
             "#7201a8"
            ],
            [
             0.3333333333333333,
             "#9c179e"
            ],
            [
             0.4444444444444444,
             "#bd3786"
            ],
            [
             0.5555555555555556,
             "#d8576b"
            ],
            [
             0.6666666666666666,
             "#ed7953"
            ],
            [
             0.7777777777777778,
             "#fb9f3a"
            ],
            [
             0.8888888888888888,
             "#fdca26"
            ],
            [
             1,
             "#f0f921"
            ]
           ]
          },
          "colorway": [
           "#636efa",
           "#EF553B",
           "#00cc96",
           "#ab63fa",
           "#FFA15A",
           "#19d3f3",
           "#FF6692",
           "#B6E880",
           "#FF97FF",
           "#FECB52"
          ],
          "font": {
           "color": "#f2f5fa"
          },
          "geo": {
           "bgcolor": "rgb(17,17,17)",
           "lakecolor": "rgb(17,17,17)",
           "landcolor": "rgb(17,17,17)",
           "showlakes": true,
           "showland": true,
           "subunitcolor": "#506784"
          },
          "hoverlabel": {
           "align": "left"
          },
          "hovermode": "closest",
          "mapbox": {
           "style": "dark"
          },
          "paper_bgcolor": "rgb(17,17,17)",
          "plot_bgcolor": "rgb(17,17,17)",
          "polar": {
           "angularaxis": {
            "gridcolor": "#506784",
            "linecolor": "#506784",
            "ticks": ""
           },
           "bgcolor": "rgb(17,17,17)",
           "radialaxis": {
            "gridcolor": "#506784",
            "linecolor": "#506784",
            "ticks": ""
           }
          },
          "scene": {
           "xaxis": {
            "backgroundcolor": "rgb(17,17,17)",
            "gridcolor": "#506784",
            "gridwidth": 2,
            "linecolor": "#506784",
            "showbackground": true,
            "ticks": "",
            "zerolinecolor": "#C8D4E3"
           },
           "yaxis": {
            "backgroundcolor": "rgb(17,17,17)",
            "gridcolor": "#506784",
            "gridwidth": 2,
            "linecolor": "#506784",
            "showbackground": true,
            "ticks": "",
            "zerolinecolor": "#C8D4E3"
           },
           "zaxis": {
            "backgroundcolor": "rgb(17,17,17)",
            "gridcolor": "#506784",
            "gridwidth": 2,
            "linecolor": "#506784",
            "showbackground": true,
            "ticks": "",
            "zerolinecolor": "#C8D4E3"
           }
          },
          "shapedefaults": {
           "line": {
            "color": "#f2f5fa"
           }
          },
          "sliderdefaults": {
           "bgcolor": "#C8D4E3",
           "bordercolor": "rgb(17,17,17)",
           "borderwidth": 1,
           "tickwidth": 0
          },
          "ternary": {
           "aaxis": {
            "gridcolor": "#506784",
            "linecolor": "#506784",
            "ticks": ""
           },
           "baxis": {
            "gridcolor": "#506784",
            "linecolor": "#506784",
            "ticks": ""
           },
           "bgcolor": "rgb(17,17,17)",
           "caxis": {
            "gridcolor": "#506784",
            "linecolor": "#506784",
            "ticks": ""
           }
          },
          "title": {
           "x": 0.05
          },
          "updatemenudefaults": {
           "bgcolor": "#506784",
           "borderwidth": 0
          },
          "xaxis": {
           "automargin": true,
           "gridcolor": "#283442",
           "linecolor": "#506784",
           "ticks": "",
           "title": {
            "standoff": 15
           },
           "zerolinecolor": "#283442",
           "zerolinewidth": 2
          },
          "yaxis": {
           "automargin": true,
           "gridcolor": "#283442",
           "linecolor": "#506784",
           "ticks": "",
           "title": {
            "standoff": 15
           },
           "zerolinecolor": "#283442",
           "zerolinewidth": 2
          }
         }
        }
       }
      }
     },
     "metadata": {},
     "output_type": "display_data"
    }
   ],
   "source": [
    "fig = px.choropleth(\n",
    "    data_frame=df,\n",
    "    locationmode='USA-states',\n",
    "    locations='state_code',\n",
    "    scope=\"usa\",\n",
    "    color='Pct of Colonies Impacted',\n",
    "    hover_data=['State', 'Pct of Colonies Impacted'],\n",
    "    color_continuous_scale=px.colors.sequential.YlOrRd,\n",
    "    labels={'Pct of Colonies Impacted': '% of Bee Colonies'},\n",
    "    template='plotly_dark'\n",
    ")\n",
    "\n",
    "fig.show()"
   ]
  }
 ],
 "metadata": {
  "kernelspec": {
   "display_name": ".venv",
   "language": "python",
   "name": "python3"
  },
  "language_info": {
   "codemirror_mode": {
    "name": "ipython",
    "version": 3
   },
   "file_extension": ".py",
   "mimetype": "text/x-python",
   "name": "python",
   "nbconvert_exporter": "python",
   "pygments_lexer": "ipython3",
   "version": "3.11.0"
  },
  "orig_nbformat": 4,
  "vscode": {
   "interpreter": {
    "hash": "e18d8b4a9e9760bc4f482009e1170b09d13fe3dc2ade43b35e2d074fefbd2765"
   }
  }
 },
 "nbformat": 4,
 "nbformat_minor": 2
}
