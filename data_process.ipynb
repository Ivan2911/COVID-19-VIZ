{
 "cells": [
  {
   "cell_type": "code",
   "execution_count": 1,
   "metadata": {},
   "outputs": [],
   "source": [
    "import pandas as pd"
   ]
  },
  {
   "cell_type": "code",
   "execution_count": 70,
   "metadata": {},
   "outputs": [],
   "source": [
    "us2020_url = \"https://raw.githubusercontent.com/nytimes/covid-19-data/master/us-counties-2020.csv\"\n",
    "us2020_cases = pd.read_csv(us2020_url, usecols=['date', 'county', 'state', 'cases', 'deaths'])\n",
    "us2021_url = \"https://raw.githubusercontent.com/nytimes/covid-19-data/master/us-counties-2021.csv\"\n",
    "us2021_cases = pd.read_csv(us2021_url, usecols=['date', 'county', 'state', 'cases', 'deaths'])"
   ]
  },
  {
   "cell_type": "code",
   "execution_count": 71,
   "metadata": {},
   "outputs": [],
   "source": [
    "us2022_url = \"https://raw.githubusercontent.com/nytimes/covid-19-data/master/us-counties-2022.csv\"\n",
    "us2022_cases = pd.read_csv(us2022_url, usecols=['date', 'county', 'state', 'cases', 'deaths'])"
   ]
  },
  {
   "cell_type": "code",
   "execution_count": 73,
   "metadata": {},
   "outputs": [],
   "source": [
    "\n",
    "recent_url = \"https://raw.githubusercontent.com/nytimes/covid-19-data/master/us-counties-recent.csv\"\n",
    "recent_cases = pd.read_csv(recent_url, usecols=['date', 'county', 'state', 'cases', 'deaths'])"
   ]
  },
  {
   "cell_type": "code",
   "execution_count": 74,
   "metadata": {},
   "outputs": [
    {
     "data": {
      "text/html": [
       "<div>\n",
       "<style scoped>\n",
       "    .dataframe tbody tr th:only-of-type {\n",
       "        vertical-align: middle;\n",
       "    }\n",
       "\n",
       "    .dataframe tbody tr th {\n",
       "        vertical-align: top;\n",
       "    }\n",
       "\n",
       "    .dataframe thead th {\n",
       "        text-align: right;\n",
       "    }\n",
       "</style>\n",
       "<table border=\"1\" class=\"dataframe\">\n",
       "  <thead>\n",
       "    <tr style=\"text-align: right;\">\n",
       "      <th></th>\n",
       "      <th>date</th>\n",
       "      <th>county</th>\n",
       "      <th>state</th>\n",
       "      <th>cases</th>\n",
       "      <th>deaths</th>\n",
       "    </tr>\n",
       "  </thead>\n",
       "  <tbody>\n",
       "    <tr>\n",
       "      <th>884732</th>\n",
       "      <td>2020-12-31</td>\n",
       "      <td>Sweetwater</td>\n",
       "      <td>Wyoming</td>\n",
       "      <td>2966</td>\n",
       "      <td>16.0</td>\n",
       "    </tr>\n",
       "    <tr>\n",
       "      <th>884733</th>\n",
       "      <td>2020-12-31</td>\n",
       "      <td>Teton</td>\n",
       "      <td>Wyoming</td>\n",
       "      <td>2138</td>\n",
       "      <td>4.0</td>\n",
       "    </tr>\n",
       "    <tr>\n",
       "      <th>884734</th>\n",
       "      <td>2020-12-31</td>\n",
       "      <td>Uinta</td>\n",
       "      <td>Wyoming</td>\n",
       "      <td>1558</td>\n",
       "      <td>7.0</td>\n",
       "    </tr>\n",
       "    <tr>\n",
       "      <th>884735</th>\n",
       "      <td>2020-12-31</td>\n",
       "      <td>Washakie</td>\n",
       "      <td>Wyoming</td>\n",
       "      <td>780</td>\n",
       "      <td>19.0</td>\n",
       "    </tr>\n",
       "    <tr>\n",
       "      <th>884736</th>\n",
       "      <td>2020-12-31</td>\n",
       "      <td>Weston</td>\n",
       "      <td>Wyoming</td>\n",
       "      <td>476</td>\n",
       "      <td>2.0</td>\n",
       "    </tr>\n",
       "  </tbody>\n",
       "</table>\n",
       "</div>"
      ],
      "text/plain": [
       "              date      county    state  cases  deaths\n",
       "884732  2020-12-31  Sweetwater  Wyoming   2966    16.0\n",
       "884733  2020-12-31       Teton  Wyoming   2138     4.0\n",
       "884734  2020-12-31       Uinta  Wyoming   1558     7.0\n",
       "884735  2020-12-31    Washakie  Wyoming    780    19.0\n",
       "884736  2020-12-31      Weston  Wyoming    476     2.0"
      ]
     },
     "execution_count": 74,
     "metadata": {},
     "output_type": "execute_result"
    }
   ],
   "source": [
    "us2020_cases.tail()"
   ]
  },
  {
   "cell_type": "code",
   "execution_count": 93,
   "metadata": {},
   "outputs": [
    {
     "data": {
      "text/plain": [
       "date      0\n",
       "county    0\n",
       "state     0\n",
       "cases     0\n",
       "deaths    0\n",
       "dtype: int64"
      ]
     },
     "execution_count": 93,
     "metadata": {},
     "output_type": "execute_result"
    }
   ],
   "source": [
    "us2020_cases[\"deaths\"] = us2020_cases[\"deaths\"].fillna(0)\n",
    "us2020_cases.isna().sum()"
   ]
  },
  {
   "cell_type": "code",
   "execution_count": 75,
   "metadata": {},
   "outputs": [
    {
     "data": {
      "text/html": [
       "<div>\n",
       "<style scoped>\n",
       "    .dataframe tbody tr th:only-of-type {\n",
       "        vertical-align: middle;\n",
       "    }\n",
       "\n",
       "    .dataframe tbody tr th {\n",
       "        vertical-align: top;\n",
       "    }\n",
       "\n",
       "    .dataframe thead th {\n",
       "        text-align: right;\n",
       "    }\n",
       "</style>\n",
       "<table border=\"1\" class=\"dataframe\">\n",
       "  <thead>\n",
       "    <tr style=\"text-align: right;\">\n",
       "      <th></th>\n",
       "      <th>date</th>\n",
       "      <th>county</th>\n",
       "      <th>state</th>\n",
       "      <th>cases</th>\n",
       "      <th>deaths</th>\n",
       "    </tr>\n",
       "  </thead>\n",
       "  <tbody>\n",
       "    <tr>\n",
       "      <th>1185368</th>\n",
       "      <td>2021-12-31</td>\n",
       "      <td>Sweetwater</td>\n",
       "      <td>Wyoming</td>\n",
       "      <td>8320</td>\n",
       "      <td>107.0</td>\n",
       "    </tr>\n",
       "    <tr>\n",
       "      <th>1185369</th>\n",
       "      <td>2021-12-31</td>\n",
       "      <td>Teton</td>\n",
       "      <td>Wyoming</td>\n",
       "      <td>5950</td>\n",
       "      <td>14.0</td>\n",
       "    </tr>\n",
       "    <tr>\n",
       "      <th>1185370</th>\n",
       "      <td>2021-12-31</td>\n",
       "      <td>Uinta</td>\n",
       "      <td>Wyoming</td>\n",
       "      <td>4154</td>\n",
       "      <td>31.0</td>\n",
       "    </tr>\n",
       "    <tr>\n",
       "      <th>1185371</th>\n",
       "      <td>2021-12-31</td>\n",
       "      <td>Washakie</td>\n",
       "      <td>Wyoming</td>\n",
       "      <td>1879</td>\n",
       "      <td>37.0</td>\n",
       "    </tr>\n",
       "    <tr>\n",
       "      <th>1185372</th>\n",
       "      <td>2021-12-31</td>\n",
       "      <td>Weston</td>\n",
       "      <td>Wyoming</td>\n",
       "      <td>1254</td>\n",
       "      <td>14.0</td>\n",
       "    </tr>\n",
       "  </tbody>\n",
       "</table>\n",
       "</div>"
      ],
      "text/plain": [
       "               date      county    state  cases  deaths\n",
       "1185368  2021-12-31  Sweetwater  Wyoming   8320   107.0\n",
       "1185369  2021-12-31       Teton  Wyoming   5950    14.0\n",
       "1185370  2021-12-31       Uinta  Wyoming   4154    31.0\n",
       "1185371  2021-12-31    Washakie  Wyoming   1879    37.0\n",
       "1185372  2021-12-31      Weston  Wyoming   1254    14.0"
      ]
     },
     "execution_count": 75,
     "metadata": {},
     "output_type": "execute_result"
    }
   ],
   "source": [
    "us2021_cases.tail()"
   ]
  },
  {
   "cell_type": "code",
   "execution_count": 92,
   "metadata": {},
   "outputs": [
    {
     "data": {
      "text/plain": [
       "date      0\n",
       "county    0\n",
       "state     0\n",
       "cases     0\n",
       "deaths    0\n",
       "dtype: int64"
      ]
     },
     "execution_count": 92,
     "metadata": {},
     "output_type": "execute_result"
    }
   ],
   "source": [
    "us2021_cases[\"deaths\"] = us2021_cases[\"deaths\"].fillna(0)\n",
    "us2021_cases.isna().sum()"
   ]
  },
  {
   "cell_type": "code",
   "execution_count": 76,
   "metadata": {},
   "outputs": [
    {
     "data": {
      "text/html": [
       "<div>\n",
       "<style scoped>\n",
       "    .dataframe tbody tr th:only-of-type {\n",
       "        vertical-align: middle;\n",
       "    }\n",
       "\n",
       "    .dataframe tbody tr th {\n",
       "        vertical-align: top;\n",
       "    }\n",
       "\n",
       "    .dataframe thead th {\n",
       "        text-align: right;\n",
       "    }\n",
       "</style>\n",
       "<table border=\"1\" class=\"dataframe\">\n",
       "  <thead>\n",
       "    <tr style=\"text-align: right;\">\n",
       "      <th></th>\n",
       "      <th>date</th>\n",
       "      <th>county</th>\n",
       "      <th>state</th>\n",
       "      <th>cases</th>\n",
       "      <th>deaths</th>\n",
       "    </tr>\n",
       "  </thead>\n",
       "  <tbody>\n",
       "    <tr>\n",
       "      <th>1181525</th>\n",
       "      <td>2022-12-29</td>\n",
       "      <td>Sweetwater</td>\n",
       "      <td>Wyoming</td>\n",
       "      <td>12410</td>\n",
       "      <td>136.0</td>\n",
       "    </tr>\n",
       "    <tr>\n",
       "      <th>1181526</th>\n",
       "      <td>2022-12-29</td>\n",
       "      <td>Teton</td>\n",
       "      <td>Wyoming</td>\n",
       "      <td>12010</td>\n",
       "      <td>16.0</td>\n",
       "    </tr>\n",
       "    <tr>\n",
       "      <th>1181527</th>\n",
       "      <td>2022-12-29</td>\n",
       "      <td>Uinta</td>\n",
       "      <td>Wyoming</td>\n",
       "      <td>6305</td>\n",
       "      <td>43.0</td>\n",
       "    </tr>\n",
       "    <tr>\n",
       "      <th>1181528</th>\n",
       "      <td>2022-12-29</td>\n",
       "      <td>Washakie</td>\n",
       "      <td>Wyoming</td>\n",
       "      <td>2721</td>\n",
       "      <td>47.0</td>\n",
       "    </tr>\n",
       "    <tr>\n",
       "      <th>1181529</th>\n",
       "      <td>2022-12-29</td>\n",
       "      <td>Weston</td>\n",
       "      <td>Wyoming</td>\n",
       "      <td>1880</td>\n",
       "      <td>22.0</td>\n",
       "    </tr>\n",
       "  </tbody>\n",
       "</table>\n",
       "</div>"
      ],
      "text/plain": [
       "               date      county    state  cases  deaths\n",
       "1181525  2022-12-29  Sweetwater  Wyoming  12410   136.0\n",
       "1181526  2022-12-29       Teton  Wyoming  12010    16.0\n",
       "1181527  2022-12-29       Uinta  Wyoming   6305    43.0\n",
       "1181528  2022-12-29    Washakie  Wyoming   2721    47.0\n",
       "1181529  2022-12-29      Weston  Wyoming   1880    22.0"
      ]
     },
     "execution_count": 76,
     "metadata": {},
     "output_type": "execute_result"
    }
   ],
   "source": [
    "us2022_cases.tail()"
   ]
  },
  {
   "cell_type": "code",
   "execution_count": 91,
   "metadata": {},
   "outputs": [
    {
     "data": {
      "text/plain": [
       "date      0\n",
       "county    0\n",
       "state     0\n",
       "cases     0\n",
       "deaths    0\n",
       "dtype: int64"
      ]
     },
     "execution_count": 91,
     "metadata": {},
     "output_type": "execute_result"
    }
   ],
   "source": [
    "us2022_cases[\"deaths\"] = us2022_cases[\"deaths\"].fillna(0)\n",
    "us2022_cases.isna().sum()"
   ]
  },
  {
   "cell_type": "code",
   "execution_count": 77,
   "metadata": {},
   "outputs": [
    {
     "data": {
      "text/html": [
       "<div>\n",
       "<style scoped>\n",
       "    .dataframe tbody tr th:only-of-type {\n",
       "        vertical-align: middle;\n",
       "    }\n",
       "\n",
       "    .dataframe tbody tr th {\n",
       "        vertical-align: top;\n",
       "    }\n",
       "\n",
       "    .dataframe thead th {\n",
       "        text-align: right;\n",
       "    }\n",
       "</style>\n",
       "<table border=\"1\" class=\"dataframe\">\n",
       "  <thead>\n",
       "    <tr style=\"text-align: right;\">\n",
       "      <th></th>\n",
       "      <th>date</th>\n",
       "      <th>county</th>\n",
       "      <th>state</th>\n",
       "      <th>cases</th>\n",
       "      <th>deaths</th>\n",
       "    </tr>\n",
       "  </thead>\n",
       "  <tbody>\n",
       "    <tr>\n",
       "      <th>97578</th>\n",
       "      <td>2022-12-29</td>\n",
       "      <td>Sweetwater</td>\n",
       "      <td>Wyoming</td>\n",
       "      <td>12410</td>\n",
       "      <td>136.0</td>\n",
       "    </tr>\n",
       "    <tr>\n",
       "      <th>97579</th>\n",
       "      <td>2022-12-29</td>\n",
       "      <td>Teton</td>\n",
       "      <td>Wyoming</td>\n",
       "      <td>12010</td>\n",
       "      <td>16.0</td>\n",
       "    </tr>\n",
       "    <tr>\n",
       "      <th>97580</th>\n",
       "      <td>2022-12-29</td>\n",
       "      <td>Uinta</td>\n",
       "      <td>Wyoming</td>\n",
       "      <td>6305</td>\n",
       "      <td>43.0</td>\n",
       "    </tr>\n",
       "    <tr>\n",
       "      <th>97581</th>\n",
       "      <td>2022-12-29</td>\n",
       "      <td>Washakie</td>\n",
       "      <td>Wyoming</td>\n",
       "      <td>2721</td>\n",
       "      <td>47.0</td>\n",
       "    </tr>\n",
       "    <tr>\n",
       "      <th>97582</th>\n",
       "      <td>2022-12-29</td>\n",
       "      <td>Weston</td>\n",
       "      <td>Wyoming</td>\n",
       "      <td>1880</td>\n",
       "      <td>22.0</td>\n",
       "    </tr>\n",
       "  </tbody>\n",
       "</table>\n",
       "</div>"
      ],
      "text/plain": [
       "             date      county    state  cases  deaths\n",
       "97578  2022-12-29  Sweetwater  Wyoming  12410   136.0\n",
       "97579  2022-12-29       Teton  Wyoming  12010    16.0\n",
       "97580  2022-12-29       Uinta  Wyoming   6305    43.0\n",
       "97581  2022-12-29    Washakie  Wyoming   2721    47.0\n",
       "97582  2022-12-29      Weston  Wyoming   1880    22.0"
      ]
     },
     "execution_count": 77,
     "metadata": {},
     "output_type": "execute_result"
    }
   ],
   "source": [
    "recent_cases.tail()"
   ]
  },
  {
   "cell_type": "code",
   "execution_count": 90,
   "metadata": {},
   "outputs": [
    {
     "data": {
      "text/plain": [
       "date      0\n",
       "county    0\n",
       "state     0\n",
       "cases     0\n",
       "deaths    0\n",
       "dtype: int64"
      ]
     },
     "execution_count": 90,
     "metadata": {},
     "output_type": "execute_result"
    }
   ],
   "source": [
    "recent_cases[\"deaths\"] = recent_cases[\"deaths\"].fillna(0)\n",
    "recent_cases.isna().sum()"
   ]
  },
  {
   "cell_type": "code",
   "execution_count": 63,
   "metadata": {},
   "outputs": [
    {
     "data": {
      "text/html": [
       "<div>\n",
       "<style scoped>\n",
       "    .dataframe tbody tr th:only-of-type {\n",
       "        vertical-align: middle;\n",
       "    }\n",
       "\n",
       "    .dataframe tbody tr th {\n",
       "        vertical-align: top;\n",
       "    }\n",
       "\n",
       "    .dataframe thead th {\n",
       "        text-align: right;\n",
       "    }\n",
       "</style>\n",
       "<table border=\"1\" class=\"dataframe\">\n",
       "  <thead>\n",
       "    <tr style=\"text-align: right;\">\n",
       "      <th></th>\n",
       "      <th>NAME</th>\n",
       "      <th>2020</th>\n",
       "      <th>2021</th>\n",
       "      <th>2022</th>\n",
       "    </tr>\n",
       "  </thead>\n",
       "  <tbody>\n",
       "    <tr>\n",
       "      <th>14</th>\n",
       "      <td>Alabama</td>\n",
       "      <td>5031362</td>\n",
       "      <td>5049846</td>\n",
       "      <td>5074296</td>\n",
       "    </tr>\n",
       "    <tr>\n",
       "      <th>15</th>\n",
       "      <td>Alaska</td>\n",
       "      <td>732923</td>\n",
       "      <td>734182</td>\n",
       "      <td>733583</td>\n",
       "    </tr>\n",
       "    <tr>\n",
       "      <th>16</th>\n",
       "      <td>Arizona</td>\n",
       "      <td>7179943</td>\n",
       "      <td>7264877</td>\n",
       "      <td>7359197</td>\n",
       "    </tr>\n",
       "    <tr>\n",
       "      <th>17</th>\n",
       "      <td>Arkansas</td>\n",
       "      <td>3014195</td>\n",
       "      <td>3028122</td>\n",
       "      <td>3045637</td>\n",
       "    </tr>\n",
       "    <tr>\n",
       "      <th>18</th>\n",
       "      <td>California</td>\n",
       "      <td>39501653</td>\n",
       "      <td>39142991</td>\n",
       "      <td>39029342</td>\n",
       "    </tr>\n",
       "  </tbody>\n",
       "</table>\n",
       "</div>"
      ],
      "text/plain": [
       "          NAME      2020      2021      2022\n",
       "14     Alabama   5031362   5049846   5074296\n",
       "15      Alaska    732923    734182    733583\n",
       "16     Arizona   7179943   7264877   7359197\n",
       "17    Arkansas   3014195   3028122   3045637\n",
       "18  California  39501653  39142991  39029342"
      ]
     },
     "execution_count": 63,
     "metadata": {},
     "output_type": "execute_result"
    }
   ],
   "source": [
    "#Population\n",
    "population = pd.read_csv(\"data/popest2020-2022.csv\", usecols=['STATE', 'NAME', 'POPESTIMATE2020', 'POPESTIMATE2021', 'POPESTIMATE2022'])\n",
    "\n",
    "population = population.loc[population['STATE']!=0] #FILTER TO GET STATE ONLY\n",
    "population = population.drop(columns=['STATE']) #DROP STATE NUMBER\n",
    "population = population.rename(columns={\"POPESTIMATE2020\": \"2020\", \"POPESTIMATE2021\": \"2021\", \"POPESTIMATE2022\": \"2022\"})\n",
    "\n",
    "population.head()"
   ]
  },
  {
   "cell_type": "code",
   "execution_count": 104,
   "metadata": {},
   "outputs": [],
   "source": [
    "## Unpivot the data\n",
    "date_columns = population.columns[1:]\n",
    "id_vars_columns = population.columns[:1]\n",
    "population_unpivoted = population.melt(id_vars=id_vars_columns, value_vars=date_columns, var_name='year', value_name='population')\n"
   ]
  },
  {
   "cell_type": "code",
   "execution_count": 105,
   "metadata": {},
   "outputs": [
    {
     "data": {
      "text/html": [
       "<div>\n",
       "<style scoped>\n",
       "    .dataframe tbody tr th:only-of-type {\n",
       "        vertical-align: middle;\n",
       "    }\n",
       "\n",
       "    .dataframe tbody tr th {\n",
       "        vertical-align: top;\n",
       "    }\n",
       "\n",
       "    .dataframe thead th {\n",
       "        text-align: right;\n",
       "    }\n",
       "</style>\n",
       "<table border=\"1\" class=\"dataframe\">\n",
       "  <thead>\n",
       "    <tr style=\"text-align: right;\">\n",
       "      <th></th>\n",
       "      <th>NAME</th>\n",
       "      <th>year</th>\n",
       "      <th>population</th>\n",
       "    </tr>\n",
       "  </thead>\n",
       "  <tbody>\n",
       "    <tr>\n",
       "      <th>0</th>\n",
       "      <td>Alabama</td>\n",
       "      <td>2020</td>\n",
       "      <td>5031362</td>\n",
       "    </tr>\n",
       "    <tr>\n",
       "      <th>1</th>\n",
       "      <td>Alaska</td>\n",
       "      <td>2020</td>\n",
       "      <td>732923</td>\n",
       "    </tr>\n",
       "    <tr>\n",
       "      <th>2</th>\n",
       "      <td>Arizona</td>\n",
       "      <td>2020</td>\n",
       "      <td>7179943</td>\n",
       "    </tr>\n",
       "    <tr>\n",
       "      <th>3</th>\n",
       "      <td>Arkansas</td>\n",
       "      <td>2020</td>\n",
       "      <td>3014195</td>\n",
       "    </tr>\n",
       "    <tr>\n",
       "      <th>4</th>\n",
       "      <td>California</td>\n",
       "      <td>2020</td>\n",
       "      <td>39501653</td>\n",
       "    </tr>\n",
       "    <tr>\n",
       "      <th>...</th>\n",
       "      <td>...</td>\n",
       "      <td>...</td>\n",
       "      <td>...</td>\n",
       "    </tr>\n",
       "    <tr>\n",
       "      <th>151</th>\n",
       "      <td>Washington</td>\n",
       "      <td>2022</td>\n",
       "      <td>7785786</td>\n",
       "    </tr>\n",
       "    <tr>\n",
       "      <th>152</th>\n",
       "      <td>West Virginia</td>\n",
       "      <td>2022</td>\n",
       "      <td>1775156</td>\n",
       "    </tr>\n",
       "    <tr>\n",
       "      <th>153</th>\n",
       "      <td>Wisconsin</td>\n",
       "      <td>2022</td>\n",
       "      <td>5892539</td>\n",
       "    </tr>\n",
       "    <tr>\n",
       "      <th>154</th>\n",
       "      <td>Wyoming</td>\n",
       "      <td>2022</td>\n",
       "      <td>581381</td>\n",
       "    </tr>\n",
       "    <tr>\n",
       "      <th>155</th>\n",
       "      <td>Puerto Rico</td>\n",
       "      <td>2022</td>\n",
       "      <td>3221789</td>\n",
       "    </tr>\n",
       "  </tbody>\n",
       "</table>\n",
       "<p>156 rows × 3 columns</p>\n",
       "</div>"
      ],
      "text/plain": [
       "              NAME  year  population\n",
       "0          Alabama  2020     5031362\n",
       "1           Alaska  2020      732923\n",
       "2          Arizona  2020     7179943\n",
       "3         Arkansas  2020     3014195\n",
       "4       California  2020    39501653\n",
       "..             ...   ...         ...\n",
       "151     Washington  2022     7785786\n",
       "152  West Virginia  2022     1775156\n",
       "153      Wisconsin  2022     5892539\n",
       "154        Wyoming  2022      581381\n",
       "155    Puerto Rico  2022     3221789\n",
       "\n",
       "[156 rows x 3 columns]"
      ]
     },
     "execution_count": 105,
     "metadata": {},
     "output_type": "execute_result"
    }
   ],
   "source": [
    "population_unpivoted"
   ]
  },
  {
   "cell_type": "code",
   "execution_count": 106,
   "metadata": {},
   "outputs": [],
   "source": [
    "# Save the DataFrame to a CSV file\n",
    "population_unpivoted.to_csv('data/estimated_population.csv', index=False)"
   ]
  },
  {
   "cell_type": "code",
   "execution_count": 107,
   "metadata": {},
   "outputs": [
    {
     "data": {
      "text/html": [
       "<div>\n",
       "<style scoped>\n",
       "    .dataframe tbody tr th:only-of-type {\n",
       "        vertical-align: middle;\n",
       "    }\n",
       "\n",
       "    .dataframe tbody tr th {\n",
       "        vertical-align: top;\n",
       "    }\n",
       "\n",
       "    .dataframe thead th {\n",
       "        text-align: right;\n",
       "    }\n",
       "</style>\n",
       "<table border=\"1\" class=\"dataframe\">\n",
       "  <thead>\n",
       "    <tr style=\"text-align: right;\">\n",
       "      <th></th>\n",
       "      <th>NAME</th>\n",
       "      <th>year</th>\n",
       "      <th>population</th>\n",
       "    </tr>\n",
       "  </thead>\n",
       "  <tbody>\n",
       "    <tr>\n",
       "      <th>0</th>\n",
       "      <td>Alabama</td>\n",
       "      <td>2020</td>\n",
       "      <td>5031362</td>\n",
       "    </tr>\n",
       "    <tr>\n",
       "      <th>1</th>\n",
       "      <td>Alaska</td>\n",
       "      <td>2020</td>\n",
       "      <td>732923</td>\n",
       "    </tr>\n",
       "    <tr>\n",
       "      <th>2</th>\n",
       "      <td>Arizona</td>\n",
       "      <td>2020</td>\n",
       "      <td>7179943</td>\n",
       "    </tr>\n",
       "    <tr>\n",
       "      <th>3</th>\n",
       "      <td>Arkansas</td>\n",
       "      <td>2020</td>\n",
       "      <td>3014195</td>\n",
       "    </tr>\n",
       "    <tr>\n",
       "      <th>4</th>\n",
       "      <td>California</td>\n",
       "      <td>2020</td>\n",
       "      <td>39501653</td>\n",
       "    </tr>\n",
       "  </tbody>\n",
       "</table>\n",
       "</div>"
      ],
      "text/plain": [
       "         NAME  year  population\n",
       "0     Alabama  2020     5031362\n",
       "1      Alaska  2020      732923\n",
       "2     Arizona  2020     7179943\n",
       "3    Arkansas  2020     3014195\n",
       "4  California  2020    39501653"
      ]
     },
     "execution_count": 107,
     "metadata": {},
     "output_type": "execute_result"
    }
   ],
   "source": [
    "pop_df = pd.read_csv('data/estimated_population.csv')\n",
    "pop_df.head()"
   ]
  },
  {
   "cell_type": "code",
   "execution_count": 108,
   "metadata": {},
   "outputs": [
    {
     "data": {
      "text/plain": [
       "NAME          0\n",
       "year          0\n",
       "population    0\n",
       "dtype: int64"
      ]
     },
     "execution_count": 108,
     "metadata": {},
     "output_type": "execute_result"
    }
   ],
   "source": [
    "pop_df.isna().sum()"
   ]
  },
  {
   "cell_type": "code",
   "execution_count": 129,
   "metadata": {},
   "outputs": [],
   "source": [
    "us2020_date = us2020_cases.groupby([\"date\"])[[\"cases\",\"deaths\"]].sum().reset_index()\n",
    "us2020_state = us2020_cases.groupby([\"date\", \"state\"])[[\"cases\",\"deaths\"]].sum().reset_index()\n",
    "\n",
    "us2021_date = us2021_cases.groupby([\"date\"])[[\"cases\",\"deaths\"]].sum().reset_index()\n",
    "us2021_state = us2021_cases.groupby([\"date\", \"state\"])[[\"cases\",\"deaths\"]].sum().reset_index()\n",
    "\n",
    "us2022_date = us2022_cases.groupby([\"date\"])[[\"cases\",\"deaths\"]].sum().reset_index()\n",
    "us2022_state = us2022_cases.groupby([\"date\", \"state\"])[[\"cases\",\"deaths\"]].sum().reset_index()\n"
   ]
  },
  {
   "cell_type": "code",
   "execution_count": 130,
   "metadata": {},
   "outputs": [],
   "source": [
    "us_date_df = pd.concat([us2020_date, us2021_date, us2022_date])\n",
    "us_state_df = pd.concat([us2020_state, us2021_state, us2022_state])"
   ]
  },
  {
   "cell_type": "code",
   "execution_count": 145,
   "metadata": {},
   "outputs": [
    {
     "data": {
      "text/html": [
       "<div>\n",
       "<style scoped>\n",
       "    .dataframe tbody tr th:only-of-type {\n",
       "        vertical-align: middle;\n",
       "    }\n",
       "\n",
       "    .dataframe tbody tr th {\n",
       "        vertical-align: top;\n",
       "    }\n",
       "\n",
       "    .dataframe thead th {\n",
       "        text-align: right;\n",
       "    }\n",
       "</style>\n",
       "<table border=\"1\" class=\"dataframe\">\n",
       "  <thead>\n",
       "    <tr style=\"text-align: right;\">\n",
       "      <th></th>\n",
       "      <th>date</th>\n",
       "      <th>state</th>\n",
       "      <th>cases</th>\n",
       "      <th>deaths</th>\n",
       "      <th>year</th>\n",
       "    </tr>\n",
       "  </thead>\n",
       "  <tbody>\n",
       "    <tr>\n",
       "      <th>0</th>\n",
       "      <td>2020-01-21</td>\n",
       "      <td>Washington</td>\n",
       "      <td>1</td>\n",
       "      <td>0.0</td>\n",
       "      <td>2020</td>\n",
       "    </tr>\n",
       "    <tr>\n",
       "      <th>1</th>\n",
       "      <td>2020-01-22</td>\n",
       "      <td>Washington</td>\n",
       "      <td>1</td>\n",
       "      <td>0.0</td>\n",
       "      <td>2020</td>\n",
       "    </tr>\n",
       "    <tr>\n",
       "      <th>2</th>\n",
       "      <td>2020-01-23</td>\n",
       "      <td>Washington</td>\n",
       "      <td>1</td>\n",
       "      <td>0.0</td>\n",
       "      <td>2020</td>\n",
       "    </tr>\n",
       "    <tr>\n",
       "      <th>3</th>\n",
       "      <td>2020-01-24</td>\n",
       "      <td>Illinois</td>\n",
       "      <td>1</td>\n",
       "      <td>0.0</td>\n",
       "      <td>2020</td>\n",
       "    </tr>\n",
       "    <tr>\n",
       "      <th>4</th>\n",
       "      <td>2020-01-24</td>\n",
       "      <td>Washington</td>\n",
       "      <td>1</td>\n",
       "      <td>0.0</td>\n",
       "      <td>2020</td>\n",
       "    </tr>\n",
       "    <tr>\n",
       "      <th>...</th>\n",
       "      <td>...</td>\n",
       "      <td>...</td>\n",
       "      <td>...</td>\n",
       "      <td>...</td>\n",
       "      <td>...</td>\n",
       "    </tr>\n",
       "    <tr>\n",
       "      <th>20323</th>\n",
       "      <td>2022-12-29</td>\n",
       "      <td>Virginia</td>\n",
       "      <td>2202436</td>\n",
       "      <td>22793.0</td>\n",
       "      <td>2022</td>\n",
       "    </tr>\n",
       "    <tr>\n",
       "      <th>20324</th>\n",
       "      <td>2022-12-29</td>\n",
       "      <td>Washington</td>\n",
       "      <td>1883676</td>\n",
       "      <td>15067.0</td>\n",
       "      <td>2022</td>\n",
       "    </tr>\n",
       "    <tr>\n",
       "      <th>20325</th>\n",
       "      <td>2022-12-29</td>\n",
       "      <td>West Virginia</td>\n",
       "      <td>624174</td>\n",
       "      <td>7786.0</td>\n",
       "      <td>2022</td>\n",
       "    </tr>\n",
       "    <tr>\n",
       "      <th>20326</th>\n",
       "      <td>2022-12-29</td>\n",
       "      <td>Wisconsin</td>\n",
       "      <td>1959643</td>\n",
       "      <td>15858.0</td>\n",
       "      <td>2022</td>\n",
       "    </tr>\n",
       "    <tr>\n",
       "      <th>20327</th>\n",
       "      <td>2022-12-29</td>\n",
       "      <td>Wyoming</td>\n",
       "      <td>182847</td>\n",
       "      <td>1959.0</td>\n",
       "      <td>2022</td>\n",
       "    </tr>\n",
       "  </tbody>\n",
       "</table>\n",
       "<p>57243 rows × 5 columns</p>\n",
       "</div>"
      ],
      "text/plain": [
       "            date          state    cases   deaths  year\n",
       "0     2020-01-21     Washington        1      0.0  2020\n",
       "1     2020-01-22     Washington        1      0.0  2020\n",
       "2     2020-01-23     Washington        1      0.0  2020\n",
       "3     2020-01-24       Illinois        1      0.0  2020\n",
       "4     2020-01-24     Washington        1      0.0  2020\n",
       "...          ...            ...      ...      ...   ...\n",
       "20323 2022-12-29       Virginia  2202436  22793.0  2022\n",
       "20324 2022-12-29     Washington  1883676  15067.0  2022\n",
       "20325 2022-12-29  West Virginia   624174   7786.0  2022\n",
       "20326 2022-12-29      Wisconsin  1959643  15858.0  2022\n",
       "20327 2022-12-29        Wyoming   182847   1959.0  2022\n",
       "\n",
       "[57243 rows x 5 columns]"
      ]
     },
     "execution_count": 145,
     "metadata": {},
     "output_type": "execute_result"
    }
   ],
   "source": [
    "us_state_df"
   ]
  },
  {
   "cell_type": "code",
   "execution_count": 146,
   "metadata": {},
   "outputs": [],
   "source": [
    "us_date_df ['date'] = pd.to_datetime(us_date_df['date'])\n",
    "us_state_df ['date'] = pd.to_datetime(us_state_df['date'])"
   ]
  },
  {
   "cell_type": "code",
   "execution_count": 147,
   "metadata": {},
   "outputs": [],
   "source": [
    "#add year column\n",
    "us_state_df['year'] = us_state_df['date'].dt.year\n",
    "us_date_df['year'] = us_date_df['date'].dt.year\n",
    "\n",
    "\n"
   ]
  },
  {
   "cell_type": "code",
   "execution_count": 148,
   "metadata": {},
   "outputs": [],
   "source": [
    "df_merged = pd.merge(us_state_df, pop_df, left_on=['year', 'state'], right_on=['year', 'NAME'], how='left')\n",
    "df_merged.drop('NAME', axis=1, inplace=True)"
   ]
  },
  {
   "cell_type": "code",
   "execution_count": 149,
   "metadata": {},
   "outputs": [
    {
     "data": {
      "text/html": [
       "<div>\n",
       "<style scoped>\n",
       "    .dataframe tbody tr th:only-of-type {\n",
       "        vertical-align: middle;\n",
       "    }\n",
       "\n",
       "    .dataframe tbody tr th {\n",
       "        vertical-align: top;\n",
       "    }\n",
       "\n",
       "    .dataframe thead th {\n",
       "        text-align: right;\n",
       "    }\n",
       "</style>\n",
       "<table border=\"1\" class=\"dataframe\">\n",
       "  <thead>\n",
       "    <tr style=\"text-align: right;\">\n",
       "      <th></th>\n",
       "      <th>date</th>\n",
       "      <th>state</th>\n",
       "      <th>cases</th>\n",
       "      <th>deaths</th>\n",
       "      <th>year</th>\n",
       "      <th>population</th>\n",
       "    </tr>\n",
       "  </thead>\n",
       "  <tbody>\n",
       "    <tr>\n",
       "      <th>57238</th>\n",
       "      <td>2022-12-29</td>\n",
       "      <td>Virginia</td>\n",
       "      <td>2202436</td>\n",
       "      <td>22793.0</td>\n",
       "      <td>2022</td>\n",
       "      <td>8683619.0</td>\n",
       "    </tr>\n",
       "    <tr>\n",
       "      <th>57239</th>\n",
       "      <td>2022-12-29</td>\n",
       "      <td>Washington</td>\n",
       "      <td>1883676</td>\n",
       "      <td>15067.0</td>\n",
       "      <td>2022</td>\n",
       "      <td>7785786.0</td>\n",
       "    </tr>\n",
       "    <tr>\n",
       "      <th>57240</th>\n",
       "      <td>2022-12-29</td>\n",
       "      <td>West Virginia</td>\n",
       "      <td>624174</td>\n",
       "      <td>7786.0</td>\n",
       "      <td>2022</td>\n",
       "      <td>1775156.0</td>\n",
       "    </tr>\n",
       "    <tr>\n",
       "      <th>57241</th>\n",
       "      <td>2022-12-29</td>\n",
       "      <td>Wisconsin</td>\n",
       "      <td>1959643</td>\n",
       "      <td>15858.0</td>\n",
       "      <td>2022</td>\n",
       "      <td>5892539.0</td>\n",
       "    </tr>\n",
       "    <tr>\n",
       "      <th>57242</th>\n",
       "      <td>2022-12-29</td>\n",
       "      <td>Wyoming</td>\n",
       "      <td>182847</td>\n",
       "      <td>1959.0</td>\n",
       "      <td>2022</td>\n",
       "      <td>581381.0</td>\n",
       "    </tr>\n",
       "  </tbody>\n",
       "</table>\n",
       "</div>"
      ],
      "text/plain": [
       "            date          state    cases   deaths  year  population\n",
       "57238 2022-12-29       Virginia  2202436  22793.0  2022   8683619.0\n",
       "57239 2022-12-29     Washington  1883676  15067.0  2022   7785786.0\n",
       "57240 2022-12-29  West Virginia   624174   7786.0  2022   1775156.0\n",
       "57241 2022-12-29      Wisconsin  1959643  15858.0  2022   5892539.0\n",
       "57242 2022-12-29        Wyoming   182847   1959.0  2022    581381.0"
      ]
     },
     "execution_count": 149,
     "metadata": {},
     "output_type": "execute_result"
    }
   ],
   "source": [
    "df_merged.tail()"
   ]
  },
  {
   "cell_type": "code",
   "execution_count": 150,
   "metadata": {},
   "outputs": [],
   "source": [
    "#generate case fatality rate (CFR) columns\n",
    "df_merged[\"cfr\"] = df_merged[\"deaths\"]/df_merged[\"cases\"]\n",
    "\n",
    "#generate Attack rate\n",
    "df_merged[\"attack rate\"] = df_merged[\"cases\"]/df_merged[\"population\"]"
   ]
  },
  {
   "cell_type": "code",
   "execution_count": 151,
   "metadata": {},
   "outputs": [
    {
     "data": {
      "text/html": [
       "<div>\n",
       "<style scoped>\n",
       "    .dataframe tbody tr th:only-of-type {\n",
       "        vertical-align: middle;\n",
       "    }\n",
       "\n",
       "    .dataframe tbody tr th {\n",
       "        vertical-align: top;\n",
       "    }\n",
       "\n",
       "    .dataframe thead th {\n",
       "        text-align: right;\n",
       "    }\n",
       "</style>\n",
       "<table border=\"1\" class=\"dataframe\">\n",
       "  <thead>\n",
       "    <tr style=\"text-align: right;\">\n",
       "      <th></th>\n",
       "      <th>date</th>\n",
       "      <th>state</th>\n",
       "      <th>cases</th>\n",
       "      <th>deaths</th>\n",
       "      <th>year</th>\n",
       "      <th>population</th>\n",
       "      <th>cfr</th>\n",
       "      <th>attack rate</th>\n",
       "    </tr>\n",
       "  </thead>\n",
       "  <tbody>\n",
       "    <tr>\n",
       "      <th>57238</th>\n",
       "      <td>2022-12-29</td>\n",
       "      <td>Virginia</td>\n",
       "      <td>2202436</td>\n",
       "      <td>22793.0</td>\n",
       "      <td>2022</td>\n",
       "      <td>8683619.0</td>\n",
       "      <td>0.010349</td>\n",
       "      <td>0.253631</td>\n",
       "    </tr>\n",
       "    <tr>\n",
       "      <th>57239</th>\n",
       "      <td>2022-12-29</td>\n",
       "      <td>Washington</td>\n",
       "      <td>1883676</td>\n",
       "      <td>15067.0</td>\n",
       "      <td>2022</td>\n",
       "      <td>7785786.0</td>\n",
       "      <td>0.007999</td>\n",
       "      <td>0.241938</td>\n",
       "    </tr>\n",
       "    <tr>\n",
       "      <th>57240</th>\n",
       "      <td>2022-12-29</td>\n",
       "      <td>West Virginia</td>\n",
       "      <td>624174</td>\n",
       "      <td>7786.0</td>\n",
       "      <td>2022</td>\n",
       "      <td>1775156.0</td>\n",
       "      <td>0.012474</td>\n",
       "      <td>0.351616</td>\n",
       "    </tr>\n",
       "    <tr>\n",
       "      <th>57241</th>\n",
       "      <td>2022-12-29</td>\n",
       "      <td>Wisconsin</td>\n",
       "      <td>1959643</td>\n",
       "      <td>15858.0</td>\n",
       "      <td>2022</td>\n",
       "      <td>5892539.0</td>\n",
       "      <td>0.008092</td>\n",
       "      <td>0.332563</td>\n",
       "    </tr>\n",
       "    <tr>\n",
       "      <th>57242</th>\n",
       "      <td>2022-12-29</td>\n",
       "      <td>Wyoming</td>\n",
       "      <td>182847</td>\n",
       "      <td>1959.0</td>\n",
       "      <td>2022</td>\n",
       "      <td>581381.0</td>\n",
       "      <td>0.010714</td>\n",
       "      <td>0.314505</td>\n",
       "    </tr>\n",
       "  </tbody>\n",
       "</table>\n",
       "</div>"
      ],
      "text/plain": [
       "            date          state    cases   deaths  year  population       cfr  \\\n",
       "57238 2022-12-29       Virginia  2202436  22793.0  2022   8683619.0  0.010349   \n",
       "57239 2022-12-29     Washington  1883676  15067.0  2022   7785786.0  0.007999   \n",
       "57240 2022-12-29  West Virginia   624174   7786.0  2022   1775156.0  0.012474   \n",
       "57241 2022-12-29      Wisconsin  1959643  15858.0  2022   5892539.0  0.008092   \n",
       "57242 2022-12-29        Wyoming   182847   1959.0  2022    581381.0  0.010714   \n",
       "\n",
       "       attack rate  \n",
       "57238     0.253631  \n",
       "57239     0.241938  \n",
       "57240     0.351616  \n",
       "57241     0.332563  \n",
       "57242     0.314505  "
      ]
     },
     "execution_count": 151,
     "metadata": {},
     "output_type": "execute_result"
    }
   ],
   "source": [
    "df_merged.tail()"
   ]
  },
  {
   "cell_type": "code",
   "execution_count": 153,
   "metadata": {},
   "outputs": [
    {
     "data": {
      "image/png": "[encoded data removed]",
      "text/plain": [
       "<Figure size 640x480 with 1 Axes>"
      ]
     },
     "metadata": {},
     "output_type": "display_data"
    }
   ],
   "source": [
    "import matplotlib.pyplot as plt\n",
    "\n",
    "# Select the 'Year' and 'Sales' columns\n",
    "dff = df_merged[['year', 'cfr']]\n",
    "\n",
    "# Plot the 'Year' and 'Sales' columns\n",
    "dff.plot(kind='bar', x='year', y='cfr')\n",
    "\n",
    "# Show the plot\n",
    "plt.show()"
   ]
  },
  {
   "cell_type": "code",
   "execution_count": 32,
   "metadata": {},
   "outputs": [
    {
     "data": {
      "image/png": "[encoded data removed]",
      "text/plain": [
       "<Figure size 640x480 with 1 Axes>"
      ]
     },
     "metadata": {},
     "output_type": "display_data"
    }
   ],
   "source": [
    "# Select the 'Year' and 'Sales' columns\n",
    "dff1 = df[['date', 'confirmed']]\n",
    "\n",
    "# Plot the 'Year' and 'Sales' columns\n",
    "dff1.plot(x='date', y='confirmed')\n",
    "\n",
    "# Show the plot\n",
    "plt.show()"
   ]
  },
  {
   "cell_type": "code",
   "execution_count": null,
   "metadata": {},
   "outputs": [],
   "source": [
    "country_sum_by_date_df = df.groupby([\"date\",\"Country/Region\"])[[\"confirmed\",\"death\",\"recovered\",\"active\"]].sum().reset_index()"
   ]
  },
  {
   "cell_type": "code",
   "execution_count": null,
   "metadata": {},
   "outputs": [
    {
     "data": {
      "text/html": [
       "<div>\n",
       "<style scoped>\n",
       "    .dataframe tbody tr th:only-of-type {\n",
       "        vertical-align: middle;\n",
       "    }\n",
       "\n",
       "    .dataframe tbody tr th {\n",
       "        vertical-align: top;\n",
       "    }\n",
       "\n",
       "    .dataframe thead th {\n",
       "        text-align: right;\n",
       "    }\n",
       "</style>\n",
       "<table border=\"1\" class=\"dataframe\">\n",
       "  <thead>\n",
       "    <tr style=\"text-align: right;\">\n",
       "      <th></th>\n",
       "      <th>date</th>\n",
       "      <th>Country/Region</th>\n",
       "      <th>confirmed</th>\n",
       "      <th>death</th>\n",
       "      <th>recovered</th>\n",
       "      <th>active</th>\n",
       "    </tr>\n",
       "  </thead>\n",
       "  <tbody>\n",
       "    <tr>\n",
       "      <th>214462</th>\n",
       "      <td>9/9/22</td>\n",
       "      <td>West Bank and Gaza</td>\n",
       "      <td>702591</td>\n",
       "      <td>5706</td>\n",
       "      <td>0.0</td>\n",
       "      <td>696885.0</td>\n",
       "    </tr>\n",
       "    <tr>\n",
       "      <th>214463</th>\n",
       "      <td>9/9/22</td>\n",
       "      <td>Winter Olympics 2022</td>\n",
       "      <td>535</td>\n",
       "      <td>0</td>\n",
       "      <td>0.0</td>\n",
       "      <td>535.0</td>\n",
       "    </tr>\n",
       "    <tr>\n",
       "      <th>214464</th>\n",
       "      <td>9/9/22</td>\n",
       "      <td>Yemen</td>\n",
       "      <td>11932</td>\n",
       "      <td>2155</td>\n",
       "      <td>0.0</td>\n",
       "      <td>9777.0</td>\n",
       "    </tr>\n",
       "    <tr>\n",
       "      <th>214465</th>\n",
       "      <td>9/9/22</td>\n",
       "      <td>Zambia</td>\n",
       "      <td>333204</td>\n",
       "      <td>4017</td>\n",
       "      <td>0.0</td>\n",
       "      <td>329187.0</td>\n",
       "    </tr>\n",
       "    <tr>\n",
       "      <th>214466</th>\n",
       "      <td>9/9/22</td>\n",
       "      <td>Zimbabwe</td>\n",
       "      <td>256859</td>\n",
       "      <td>5596</td>\n",
       "      <td>0.0</td>\n",
       "      <td>251263.0</td>\n",
       "    </tr>\n",
       "  </tbody>\n",
       "</table>\n",
       "</div>"
      ],
      "text/plain": [
       "          date        Country/Region  confirmed  death  recovered    active\n",
       "214462  9/9/22    West Bank and Gaza     702591   5706        0.0  696885.0\n",
       "214463  9/9/22  Winter Olympics 2022        535      0        0.0     535.0\n",
       "214464  9/9/22                 Yemen      11932   2155        0.0    9777.0\n",
       "214465  9/9/22                Zambia     333204   4017        0.0  329187.0\n",
       "214466  9/9/22              Zimbabwe     256859   5596        0.0  251263.0"
      ]
     },
     "execution_count": 54,
     "metadata": {},
     "output_type": "execute_result"
    }
   ],
   "source": [
    "country_sum_by_date_df.tail()"
   ]
  },
  {
   "attachments": {},
   "cell_type": "markdown",
   "metadata": {},
   "source": [
    "# Data to show"
   ]
  },
  {
   "cell_type": "markdown",
   "metadata": {},
   "source": []
  },
  {
   "cell_type": "code",
   "execution_count": 21,
   "metadata": {},
   "outputs": [
    {
     "data": {
      "text/plain": [
       "'2022-12-23'"
      ]
     },
     "execution_count": 21,
     "metadata": {},
     "output_type": "execute_result"
    }
   ],
   "source": [
    "#Last update date\n",
    "last_update= df[\"date\"].iloc[-1].strftime('%Y-%m-%d')\n",
    "last_update"
   ]
  }
 ],
 "metadata": {
  "kernelspec": {
   "display_name": ".venv",
   "language": "python",
   "name": "python3"
  },
  "language_info": {
   "codemirror_mode": {
    "name": "ipython",
    "version": 3
   },
   "file_extension": ".py",
   "mimetype": "text/x-python",
   "name": "python",
   "nbconvert_exporter": "python",
   "pygments_lexer": "ipython3",
   "version": "3.11.0 (main, Oct 24 2022, 18:26:48) [MSC v.1933 64 bit (AMD64)]"
  },
  "orig_nbformat": 4,
  "vscode": {
   "interpreter": {
    "hash": "e18d8b4a9e9760bc4f482009e1170b09d13fe3dc2ade43b35e2d074fefbd2765"
   }
  }
 },
 "nbformat": 4,
 "nbformat_minor": 2
}
